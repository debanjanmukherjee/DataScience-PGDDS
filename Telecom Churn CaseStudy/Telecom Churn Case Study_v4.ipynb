{
 "cells": [
  {
   "cell_type": "code",
   "execution_count": 236,
   "metadata": {},
   "outputs": [],
   "source": [
    "# Importing the required libraries\n",
    "import pandas as pd\n",
    "import numpy as np\n",
    "import matplotlib.pyplot as plt\n",
    "import seaborn as sns\n",
    "%matplotlib inline\n",
    "from sklearn.model_selection import GridSearchCV\n",
    "from sklearn.model_selection import KFold\n",
    "from sklearn.ensemble import RandomForestClassifier\n",
    "\n",
    "# To ignore warnings\n",
    "import warnings\n",
    "warnings.filterwarnings(\"ignore\")"
   ]
  },
  {
   "cell_type": "code",
   "execution_count": 54,
   "metadata": {},
   "outputs": [
    {
     "data": {
      "text/html": [
       "<div>\n",
       "<style scoped>\n",
       "    .dataframe tbody tr th:only-of-type {\n",
       "        vertical-align: middle;\n",
       "    }\n",
       "\n",
       "    .dataframe tbody tr th {\n",
       "        vertical-align: top;\n",
       "    }\n",
       "\n",
       "    .dataframe thead th {\n",
       "        text-align: right;\n",
       "    }\n",
       "</style>\n",
       "<table border=\"1\" class=\"dataframe\">\n",
       "  <thead>\n",
       "    <tr style=\"text-align: right;\">\n",
       "      <th></th>\n",
       "      <th>mobile_number</th>\n",
       "      <th>circle_id</th>\n",
       "      <th>loc_og_t2o_mou</th>\n",
       "      <th>std_og_t2o_mou</th>\n",
       "      <th>loc_ic_t2o_mou</th>\n",
       "      <th>last_date_of_month_6</th>\n",
       "      <th>last_date_of_month_7</th>\n",
       "      <th>last_date_of_month_8</th>\n",
       "      <th>last_date_of_month_9</th>\n",
       "      <th>arpu_6</th>\n",
       "      <th>...</th>\n",
       "      <th>sachet_3g_9</th>\n",
       "      <th>fb_user_6</th>\n",
       "      <th>fb_user_7</th>\n",
       "      <th>fb_user_8</th>\n",
       "      <th>fb_user_9</th>\n",
       "      <th>aon</th>\n",
       "      <th>aug_vbc_3g</th>\n",
       "      <th>jul_vbc_3g</th>\n",
       "      <th>jun_vbc_3g</th>\n",
       "      <th>sep_vbc_3g</th>\n",
       "    </tr>\n",
       "  </thead>\n",
       "  <tbody>\n",
       "    <tr>\n",
       "      <th>0</th>\n",
       "      <td>7000842753</td>\n",
       "      <td>109</td>\n",
       "      <td>0.0</td>\n",
       "      <td>0.0</td>\n",
       "      <td>0.0</td>\n",
       "      <td>6/30/2014</td>\n",
       "      <td>7/31/2014</td>\n",
       "      <td>8/31/2014</td>\n",
       "      <td>9/30/2014</td>\n",
       "      <td>197.385</td>\n",
       "      <td>...</td>\n",
       "      <td>0</td>\n",
       "      <td>1.0</td>\n",
       "      <td>1.0</td>\n",
       "      <td>1.0</td>\n",
       "      <td>NaN</td>\n",
       "      <td>968</td>\n",
       "      <td>30.4</td>\n",
       "      <td>0.0</td>\n",
       "      <td>101.20</td>\n",
       "      <td>3.58</td>\n",
       "    </tr>\n",
       "    <tr>\n",
       "      <th>1</th>\n",
       "      <td>7001865778</td>\n",
       "      <td>109</td>\n",
       "      <td>0.0</td>\n",
       "      <td>0.0</td>\n",
       "      <td>0.0</td>\n",
       "      <td>6/30/2014</td>\n",
       "      <td>7/31/2014</td>\n",
       "      <td>8/31/2014</td>\n",
       "      <td>9/30/2014</td>\n",
       "      <td>34.047</td>\n",
       "      <td>...</td>\n",
       "      <td>0</td>\n",
       "      <td>NaN</td>\n",
       "      <td>1.0</td>\n",
       "      <td>1.0</td>\n",
       "      <td>NaN</td>\n",
       "      <td>1006</td>\n",
       "      <td>0.0</td>\n",
       "      <td>0.0</td>\n",
       "      <td>0.00</td>\n",
       "      <td>0.00</td>\n",
       "    </tr>\n",
       "    <tr>\n",
       "      <th>2</th>\n",
       "      <td>7001625959</td>\n",
       "      <td>109</td>\n",
       "      <td>0.0</td>\n",
       "      <td>0.0</td>\n",
       "      <td>0.0</td>\n",
       "      <td>6/30/2014</td>\n",
       "      <td>7/31/2014</td>\n",
       "      <td>8/31/2014</td>\n",
       "      <td>9/30/2014</td>\n",
       "      <td>167.690</td>\n",
       "      <td>...</td>\n",
       "      <td>0</td>\n",
       "      <td>NaN</td>\n",
       "      <td>NaN</td>\n",
       "      <td>NaN</td>\n",
       "      <td>1.0</td>\n",
       "      <td>1103</td>\n",
       "      <td>0.0</td>\n",
       "      <td>0.0</td>\n",
       "      <td>4.17</td>\n",
       "      <td>0.00</td>\n",
       "    </tr>\n",
       "    <tr>\n",
       "      <th>3</th>\n",
       "      <td>7001204172</td>\n",
       "      <td>109</td>\n",
       "      <td>0.0</td>\n",
       "      <td>0.0</td>\n",
       "      <td>0.0</td>\n",
       "      <td>6/30/2014</td>\n",
       "      <td>7/31/2014</td>\n",
       "      <td>8/31/2014</td>\n",
       "      <td>9/30/2014</td>\n",
       "      <td>221.338</td>\n",
       "      <td>...</td>\n",
       "      <td>0</td>\n",
       "      <td>NaN</td>\n",
       "      <td>NaN</td>\n",
       "      <td>NaN</td>\n",
       "      <td>NaN</td>\n",
       "      <td>2491</td>\n",
       "      <td>0.0</td>\n",
       "      <td>0.0</td>\n",
       "      <td>0.00</td>\n",
       "      <td>0.00</td>\n",
       "    </tr>\n",
       "    <tr>\n",
       "      <th>4</th>\n",
       "      <td>7000142493</td>\n",
       "      <td>109</td>\n",
       "      <td>0.0</td>\n",
       "      <td>0.0</td>\n",
       "      <td>0.0</td>\n",
       "      <td>6/30/2014</td>\n",
       "      <td>7/31/2014</td>\n",
       "      <td>8/31/2014</td>\n",
       "      <td>9/30/2014</td>\n",
       "      <td>261.636</td>\n",
       "      <td>...</td>\n",
       "      <td>0</td>\n",
       "      <td>0.0</td>\n",
       "      <td>NaN</td>\n",
       "      <td>NaN</td>\n",
       "      <td>NaN</td>\n",
       "      <td>1526</td>\n",
       "      <td>0.0</td>\n",
       "      <td>0.0</td>\n",
       "      <td>0.00</td>\n",
       "      <td>0.00</td>\n",
       "    </tr>\n",
       "  </tbody>\n",
       "</table>\n",
       "<p>5 rows × 226 columns</p>\n",
       "</div>"
      ],
      "text/plain": [
       "   mobile_number  circle_id  loc_og_t2o_mou  std_og_t2o_mou  loc_ic_t2o_mou  \\\n",
       "0     7000842753        109             0.0             0.0             0.0   \n",
       "1     7001865778        109             0.0             0.0             0.0   \n",
       "2     7001625959        109             0.0             0.0             0.0   \n",
       "3     7001204172        109             0.0             0.0             0.0   \n",
       "4     7000142493        109             0.0             0.0             0.0   \n",
       "\n",
       "  last_date_of_month_6 last_date_of_month_7 last_date_of_month_8  \\\n",
       "0            6/30/2014            7/31/2014            8/31/2014   \n",
       "1            6/30/2014            7/31/2014            8/31/2014   \n",
       "2            6/30/2014            7/31/2014            8/31/2014   \n",
       "3            6/30/2014            7/31/2014            8/31/2014   \n",
       "4            6/30/2014            7/31/2014            8/31/2014   \n",
       "\n",
       "  last_date_of_month_9   arpu_6     ...      sachet_3g_9  fb_user_6  \\\n",
       "0            9/30/2014  197.385     ...                0        1.0   \n",
       "1            9/30/2014   34.047     ...                0        NaN   \n",
       "2            9/30/2014  167.690     ...                0        NaN   \n",
       "3            9/30/2014  221.338     ...                0        NaN   \n",
       "4            9/30/2014  261.636     ...                0        0.0   \n",
       "\n",
       "   fb_user_7  fb_user_8  fb_user_9   aon  aug_vbc_3g  jul_vbc_3g  jun_vbc_3g  \\\n",
       "0        1.0        1.0        NaN   968        30.4         0.0      101.20   \n",
       "1        1.0        1.0        NaN  1006         0.0         0.0        0.00   \n",
       "2        NaN        NaN        1.0  1103         0.0         0.0        4.17   \n",
       "3        NaN        NaN        NaN  2491         0.0         0.0        0.00   \n",
       "4        NaN        NaN        NaN  1526         0.0         0.0        0.00   \n",
       "\n",
       "   sep_vbc_3g  \n",
       "0        3.58  \n",
       "1        0.00  \n",
       "2        0.00  \n",
       "3        0.00  \n",
       "4        0.00  \n",
       "\n",
       "[5 rows x 226 columns]"
      ]
     },
     "execution_count": 54,
     "metadata": {},
     "output_type": "execute_result"
    }
   ],
   "source": [
    "master_df = pd.read_csv('telecom_churn_data.csv')\n",
    "master_df.head()"
   ]
  },
  {
   "cell_type": "code",
   "execution_count": 55,
   "metadata": {},
   "outputs": [
    {
     "data": {
      "text/plain": [
       "(99999, 226)"
      ]
     },
     "execution_count": 55,
     "metadata": {},
     "output_type": "execute_result"
    }
   ],
   "source": [
    "master_df.shape"
   ]
  },
  {
   "cell_type": "code",
   "execution_count": 56,
   "metadata": {},
   "outputs": [
    {
     "data": {
      "text/html": [
       "<div>\n",
       "<style scoped>\n",
       "    .dataframe tbody tr th:only-of-type {\n",
       "        vertical-align: middle;\n",
       "    }\n",
       "\n",
       "    .dataframe tbody tr th {\n",
       "        vertical-align: top;\n",
       "    }\n",
       "\n",
       "    .dataframe thead th {\n",
       "        text-align: right;\n",
       "    }\n",
       "</style>\n",
       "<table border=\"1\" class=\"dataframe\">\n",
       "  <thead>\n",
       "    <tr style=\"text-align: right;\">\n",
       "      <th></th>\n",
       "      <th>count</th>\n",
       "      <th>mean</th>\n",
       "      <th>std</th>\n",
       "      <th>min</th>\n",
       "      <th>25%</th>\n",
       "      <th>50%</th>\n",
       "      <th>75%</th>\n",
       "      <th>max</th>\n",
       "      <th>null_perc</th>\n",
       "    </tr>\n",
       "  </thead>\n",
       "  <tbody>\n",
       "    <tr>\n",
       "      <th>mobile_number</th>\n",
       "      <td>99999.0</td>\n",
       "      <td>7.001207e+09</td>\n",
       "      <td>695669.38629</td>\n",
       "      <td>7.000000e+09</td>\n",
       "      <td>7.000606e+09</td>\n",
       "      <td>7.001205e+09</td>\n",
       "      <td>7.001812e+09</td>\n",
       "      <td>7.002411e+09</td>\n",
       "      <td>0.00000</td>\n",
       "    </tr>\n",
       "    <tr>\n",
       "      <th>circle_id</th>\n",
       "      <td>99999.0</td>\n",
       "      <td>1.090000e+02</td>\n",
       "      <td>0.00000</td>\n",
       "      <td>1.090000e+02</td>\n",
       "      <td>1.090000e+02</td>\n",
       "      <td>1.090000e+02</td>\n",
       "      <td>1.090000e+02</td>\n",
       "      <td>1.090000e+02</td>\n",
       "      <td>0.00000</td>\n",
       "    </tr>\n",
       "    <tr>\n",
       "      <th>loc_og_t2o_mou</th>\n",
       "      <td>98981.0</td>\n",
       "      <td>0.000000e+00</td>\n",
       "      <td>0.00000</td>\n",
       "      <td>0.000000e+00</td>\n",
       "      <td>0.000000e+00</td>\n",
       "      <td>0.000000e+00</td>\n",
       "      <td>0.000000e+00</td>\n",
       "      <td>0.000000e+00</td>\n",
       "      <td>1.01801</td>\n",
       "    </tr>\n",
       "    <tr>\n",
       "      <th>std_og_t2o_mou</th>\n",
       "      <td>98981.0</td>\n",
       "      <td>0.000000e+00</td>\n",
       "      <td>0.00000</td>\n",
       "      <td>0.000000e+00</td>\n",
       "      <td>0.000000e+00</td>\n",
       "      <td>0.000000e+00</td>\n",
       "      <td>0.000000e+00</td>\n",
       "      <td>0.000000e+00</td>\n",
       "      <td>1.01801</td>\n",
       "    </tr>\n",
       "    <tr>\n",
       "      <th>loc_ic_t2o_mou</th>\n",
       "      <td>98981.0</td>\n",
       "      <td>0.000000e+00</td>\n",
       "      <td>0.00000</td>\n",
       "      <td>0.000000e+00</td>\n",
       "      <td>0.000000e+00</td>\n",
       "      <td>0.000000e+00</td>\n",
       "      <td>0.000000e+00</td>\n",
       "      <td>0.000000e+00</td>\n",
       "      <td>1.01801</td>\n",
       "    </tr>\n",
       "  </tbody>\n",
       "</table>\n",
       "</div>"
      ],
      "text/plain": [
       "                  count          mean           std           min  \\\n",
       "mobile_number   99999.0  7.001207e+09  695669.38629  7.000000e+09   \n",
       "circle_id       99999.0  1.090000e+02       0.00000  1.090000e+02   \n",
       "loc_og_t2o_mou  98981.0  0.000000e+00       0.00000  0.000000e+00   \n",
       "std_og_t2o_mou  98981.0  0.000000e+00       0.00000  0.000000e+00   \n",
       "loc_ic_t2o_mou  98981.0  0.000000e+00       0.00000  0.000000e+00   \n",
       "\n",
       "                         25%           50%           75%           max  \\\n",
       "mobile_number   7.000606e+09  7.001205e+09  7.001812e+09  7.002411e+09   \n",
       "circle_id       1.090000e+02  1.090000e+02  1.090000e+02  1.090000e+02   \n",
       "loc_og_t2o_mou  0.000000e+00  0.000000e+00  0.000000e+00  0.000000e+00   \n",
       "std_og_t2o_mou  0.000000e+00  0.000000e+00  0.000000e+00  0.000000e+00   \n",
       "loc_ic_t2o_mou  0.000000e+00  0.000000e+00  0.000000e+00  0.000000e+00   \n",
       "\n",
       "                null_perc  \n",
       "mobile_number     0.00000  \n",
       "circle_id         0.00000  \n",
       "loc_og_t2o_mou    1.01801  \n",
       "std_og_t2o_mou    1.01801  \n",
       "loc_ic_t2o_mou    1.01801  "
      ]
     },
     "execution_count": 56,
     "metadata": {},
     "output_type": "execute_result"
    }
   ],
   "source": [
    "#storing the describe dataframe\n",
    "master_desc_df=master_df.describe().transpose()\n",
    "master_desc_df['null_perc']=100-(master_desc_df['count']*100/99999)\n",
    "master_desc_df.head()"
   ]
  },
  {
   "cell_type": "code",
   "execution_count": 57,
   "metadata": {},
   "outputs": [
    {
     "data": {
      "image/png": "[encoded data removed]",
      "text/plain": [
       "<Figure size 432x288 with 1 Axes>"
      ]
     },
     "metadata": {
      "needs_background": "light"
     },
     "output_type": "display_data"
    }
   ],
   "source": [
    "master_desc_df['null_perc'].hist()\n",
    "plt.show()\n",
    "\n",
    "# There are around 35-40 columns with >70% of rows null\n",
    "# let us check the exact number of columns"
   ]
  },
  {
   "cell_type": "code",
   "execution_count": 58,
   "metadata": {},
   "outputs": [
    {
     "data": {
      "text/plain": [
       "count        36\n",
       "mean         36\n",
       "std          36\n",
       "min          36\n",
       "25%          36\n",
       "50%          36\n",
       "75%          36\n",
       "max          36\n",
       "null_perc    36\n",
       "dtype: int64"
      ]
     },
     "execution_count": 58,
     "metadata": {},
     "output_type": "execute_result"
    }
   ],
   "source": [
    "# checking null values\n",
    "master_desc_df.loc[master_desc_df['null_perc']>=73].count()\n",
    "\n",
    "# There are 36 columns with more than 60% null values\n",
    "# Let us check the range of null % for these columns"
   ]
  },
  {
   "cell_type": "code",
   "execution_count": 59,
   "metadata": {},
   "outputs": [
    {
     "data": {
      "image/png": "[encoded data removed]",
      "text/plain": [
       "<Figure size 432x288 with 1 Axes>"
      ]
     },
     "metadata": {
      "needs_background": "light"
     },
     "output_type": "display_data"
    }
   ],
   "source": [
    "master_desc_df['null_perc'].loc[master_desc_df['null_perc']>=73].hist()\n",
    "plt.show()\n",
    "\n",
    "# Interestingly, there are four distinct values of null percentage for 9 each of these 36 columns\n",
    "# let us check these columns in detail"
   ]
  },
  {
   "cell_type": "code",
   "execution_count": 60,
   "metadata": {},
   "outputs": [
    {
     "data": {
      "text/html": [
       "<div>\n",
       "<style scoped>\n",
       "    .dataframe tbody tr th:only-of-type {\n",
       "        vertical-align: middle;\n",
       "    }\n",
       "\n",
       "    .dataframe tbody tr th {\n",
       "        vertical-align: top;\n",
       "    }\n",
       "\n",
       "    .dataframe thead th {\n",
       "        text-align: right;\n",
       "    }\n",
       "</style>\n",
       "<table border=\"1\" class=\"dataframe\">\n",
       "  <thead>\n",
       "    <tr style=\"text-align: right;\">\n",
       "      <th></th>\n",
       "      <th>count</th>\n",
       "      <th>mean</th>\n",
       "      <th>std</th>\n",
       "      <th>min</th>\n",
       "      <th>25%</th>\n",
       "      <th>50%</th>\n",
       "      <th>75%</th>\n",
       "      <th>max</th>\n",
       "      <th>null_perc</th>\n",
       "    </tr>\n",
       "  </thead>\n",
       "  <tbody>\n",
       "    <tr>\n",
       "      <th>total_rech_data_6</th>\n",
       "      <td>25153.0</td>\n",
       "      <td>2.463802</td>\n",
       "      <td>2.789128</td>\n",
       "      <td>1.00</td>\n",
       "      <td>1.0</td>\n",
       "      <td>1.000</td>\n",
       "      <td>3.00</td>\n",
       "      <td>61.00</td>\n",
       "      <td>74.846748</td>\n",
       "    </tr>\n",
       "    <tr>\n",
       "      <th>count_rech_2g_6</th>\n",
       "      <td>25153.0</td>\n",
       "      <td>1.864668</td>\n",
       "      <td>2.570254</td>\n",
       "      <td>0.00</td>\n",
       "      <td>1.0</td>\n",
       "      <td>1.000</td>\n",
       "      <td>2.00</td>\n",
       "      <td>42.00</td>\n",
       "      <td>74.846748</td>\n",
       "    </tr>\n",
       "    <tr>\n",
       "      <th>av_rech_amt_data_6</th>\n",
       "      <td>25153.0</td>\n",
       "      <td>192.600982</td>\n",
       "      <td>192.646318</td>\n",
       "      <td>1.00</td>\n",
       "      <td>82.0</td>\n",
       "      <td>154.000</td>\n",
       "      <td>252.00</td>\n",
       "      <td>7546.00</td>\n",
       "      <td>74.846748</td>\n",
       "    </tr>\n",
       "    <tr>\n",
       "      <th>arpu_2g_6</th>\n",
       "      <td>25153.0</td>\n",
       "      <td>86.398003</td>\n",
       "      <td>172.767523</td>\n",
       "      <td>-35.83</td>\n",
       "      <td>0.0</td>\n",
       "      <td>10.830</td>\n",
       "      <td>122.07</td>\n",
       "      <td>6433.76</td>\n",
       "      <td>74.846748</td>\n",
       "    </tr>\n",
       "    <tr>\n",
       "      <th>count_rech_3g_6</th>\n",
       "      <td>25153.0</td>\n",
       "      <td>0.599133</td>\n",
       "      <td>1.274428</td>\n",
       "      <td>0.00</td>\n",
       "      <td>0.0</td>\n",
       "      <td>0.000</td>\n",
       "      <td>1.00</td>\n",
       "      <td>29.00</td>\n",
       "      <td>74.846748</td>\n",
       "    </tr>\n",
       "    <tr>\n",
       "      <th>night_pck_user_6</th>\n",
       "      <td>25153.0</td>\n",
       "      <td>0.025086</td>\n",
       "      <td>0.156391</td>\n",
       "      <td>0.00</td>\n",
       "      <td>0.0</td>\n",
       "      <td>0.000</td>\n",
       "      <td>0.00</td>\n",
       "      <td>1.00</td>\n",
       "      <td>74.846748</td>\n",
       "    </tr>\n",
       "    <tr>\n",
       "      <th>max_rech_data_6</th>\n",
       "      <td>25153.0</td>\n",
       "      <td>126.393392</td>\n",
       "      <td>108.477235</td>\n",
       "      <td>1.00</td>\n",
       "      <td>25.0</td>\n",
       "      <td>145.000</td>\n",
       "      <td>177.00</td>\n",
       "      <td>1555.00</td>\n",
       "      <td>74.846748</td>\n",
       "    </tr>\n",
       "    <tr>\n",
       "      <th>fb_user_6</th>\n",
       "      <td>25153.0</td>\n",
       "      <td>0.914404</td>\n",
       "      <td>0.279772</td>\n",
       "      <td>0.00</td>\n",
       "      <td>1.0</td>\n",
       "      <td>1.000</td>\n",
       "      <td>1.00</td>\n",
       "      <td>1.00</td>\n",
       "      <td>74.846748</td>\n",
       "    </tr>\n",
       "    <tr>\n",
       "      <th>arpu_3g_6</th>\n",
       "      <td>25153.0</td>\n",
       "      <td>89.555057</td>\n",
       "      <td>193.124653</td>\n",
       "      <td>-30.82</td>\n",
       "      <td>0.0</td>\n",
       "      <td>0.480</td>\n",
       "      <td>122.07</td>\n",
       "      <td>6362.28</td>\n",
       "      <td>74.846748</td>\n",
       "    </tr>\n",
       "    <tr>\n",
       "      <th>night_pck_user_7</th>\n",
       "      <td>25571.0</td>\n",
       "      <td>0.023034</td>\n",
       "      <td>0.150014</td>\n",
       "      <td>0.00</td>\n",
       "      <td>0.0</td>\n",
       "      <td>0.000</td>\n",
       "      <td>0.00</td>\n",
       "      <td>1.00</td>\n",
       "      <td>74.428744</td>\n",
       "    </tr>\n",
       "    <tr>\n",
       "      <th>max_rech_data_7</th>\n",
       "      <td>25571.0</td>\n",
       "      <td>126.729459</td>\n",
       "      <td>109.765267</td>\n",
       "      <td>1.00</td>\n",
       "      <td>25.0</td>\n",
       "      <td>145.000</td>\n",
       "      <td>177.00</td>\n",
       "      <td>1555.00</td>\n",
       "      <td>74.428744</td>\n",
       "    </tr>\n",
       "    <tr>\n",
       "      <th>count_rech_2g_7</th>\n",
       "      <td>25571.0</td>\n",
       "      <td>2.044699</td>\n",
       "      <td>2.768332</td>\n",
       "      <td>0.00</td>\n",
       "      <td>1.0</td>\n",
       "      <td>1.000</td>\n",
       "      <td>2.00</td>\n",
       "      <td>48.00</td>\n",
       "      <td>74.428744</td>\n",
       "    </tr>\n",
       "    <tr>\n",
       "      <th>arpu_3g_7</th>\n",
       "      <td>25571.0</td>\n",
       "      <td>89.384120</td>\n",
       "      <td>195.893924</td>\n",
       "      <td>-26.04</td>\n",
       "      <td>0.0</td>\n",
       "      <td>0.420</td>\n",
       "      <td>119.56</td>\n",
       "      <td>4980.90</td>\n",
       "      <td>74.428744</td>\n",
       "    </tr>\n",
       "    <tr>\n",
       "      <th>count_rech_3g_7</th>\n",
       "      <td>25571.0</td>\n",
       "      <td>0.621720</td>\n",
       "      <td>1.394524</td>\n",
       "      <td>0.00</td>\n",
       "      <td>0.0</td>\n",
       "      <td>0.000</td>\n",
       "      <td>1.00</td>\n",
       "      <td>35.00</td>\n",
       "      <td>74.428744</td>\n",
       "    </tr>\n",
       "    <tr>\n",
       "      <th>arpu_2g_7</th>\n",
       "      <td>25571.0</td>\n",
       "      <td>85.914450</td>\n",
       "      <td>176.379871</td>\n",
       "      <td>-15.48</td>\n",
       "      <td>0.0</td>\n",
       "      <td>8.810</td>\n",
       "      <td>122.07</td>\n",
       "      <td>4809.36</td>\n",
       "      <td>74.428744</td>\n",
       "    </tr>\n",
       "    <tr>\n",
       "      <th>fb_user_7</th>\n",
       "      <td>25571.0</td>\n",
       "      <td>0.908764</td>\n",
       "      <td>0.287950</td>\n",
       "      <td>0.00</td>\n",
       "      <td>1.0</td>\n",
       "      <td>1.000</td>\n",
       "      <td>1.00</td>\n",
       "      <td>1.00</td>\n",
       "      <td>74.428744</td>\n",
       "    </tr>\n",
       "    <tr>\n",
       "      <th>av_rech_amt_data_7</th>\n",
       "      <td>25571.0</td>\n",
       "      <td>200.981292</td>\n",
       "      <td>196.791224</td>\n",
       "      <td>0.50</td>\n",
       "      <td>92.0</td>\n",
       "      <td>154.000</td>\n",
       "      <td>252.00</td>\n",
       "      <td>4365.00</td>\n",
       "      <td>74.428744</td>\n",
       "    </tr>\n",
       "    <tr>\n",
       "      <th>total_rech_data_7</th>\n",
       "      <td>25571.0</td>\n",
       "      <td>2.666419</td>\n",
       "      <td>3.031593</td>\n",
       "      <td>1.00</td>\n",
       "      <td>1.0</td>\n",
       "      <td>1.000</td>\n",
       "      <td>3.00</td>\n",
       "      <td>54.00</td>\n",
       "      <td>74.428744</td>\n",
       "    </tr>\n",
       "    <tr>\n",
       "      <th>night_pck_user_9</th>\n",
       "      <td>25922.0</td>\n",
       "      <td>0.015971</td>\n",
       "      <td>0.125366</td>\n",
       "      <td>0.00</td>\n",
       "      <td>0.0</td>\n",
       "      <td>0.000</td>\n",
       "      <td>0.00</td>\n",
       "      <td>1.00</td>\n",
       "      <td>74.077741</td>\n",
       "    </tr>\n",
       "    <tr>\n",
       "      <th>arpu_2g_9</th>\n",
       "      <td>25922.0</td>\n",
       "      <td>93.712026</td>\n",
       "      <td>171.384224</td>\n",
       "      <td>-45.74</td>\n",
       "      <td>0.0</td>\n",
       "      <td>14.800</td>\n",
       "      <td>140.01</td>\n",
       "      <td>3467.17</td>\n",
       "      <td>74.077741</td>\n",
       "    </tr>\n",
       "    <tr>\n",
       "      <th>arpu_3g_9</th>\n",
       "      <td>25922.0</td>\n",
       "      <td>100.264116</td>\n",
       "      <td>216.291992</td>\n",
       "      <td>-71.09</td>\n",
       "      <td>0.0</td>\n",
       "      <td>2.605</td>\n",
       "      <td>140.01</td>\n",
       "      <td>13884.31</td>\n",
       "      <td>74.077741</td>\n",
       "    </tr>\n",
       "    <tr>\n",
       "      <th>fb_user_9</th>\n",
       "      <td>25922.0</td>\n",
       "      <td>0.860968</td>\n",
       "      <td>0.345987</td>\n",
       "      <td>0.00</td>\n",
       "      <td>1.0</td>\n",
       "      <td>1.000</td>\n",
       "      <td>1.00</td>\n",
       "      <td>1.00</td>\n",
       "      <td>74.077741</td>\n",
       "    </tr>\n",
       "    <tr>\n",
       "      <th>av_rech_amt_data_9</th>\n",
       "      <td>25922.0</td>\n",
       "      <td>192.734315</td>\n",
       "      <td>188.400286</td>\n",
       "      <td>1.00</td>\n",
       "      <td>69.0</td>\n",
       "      <td>164.000</td>\n",
       "      <td>252.00</td>\n",
       "      <td>4061.00</td>\n",
       "      <td>74.077741</td>\n",
       "    </tr>\n",
       "    <tr>\n",
       "      <th>count_rech_3g_9</th>\n",
       "      <td>25922.0</td>\n",
       "      <td>0.659363</td>\n",
       "      <td>1.411513</td>\n",
       "      <td>0.00</td>\n",
       "      <td>0.0</td>\n",
       "      <td>0.000</td>\n",
       "      <td>1.00</td>\n",
       "      <td>49.00</td>\n",
       "      <td>74.077741</td>\n",
       "    </tr>\n",
       "    <tr>\n",
       "      <th>count_rech_2g_9</th>\n",
       "      <td>25922.0</td>\n",
       "      <td>1.781807</td>\n",
       "      <td>2.214701</td>\n",
       "      <td>0.00</td>\n",
       "      <td>1.0</td>\n",
       "      <td>1.000</td>\n",
       "      <td>2.00</td>\n",
       "      <td>40.00</td>\n",
       "      <td>74.077741</td>\n",
       "    </tr>\n",
       "    <tr>\n",
       "      <th>max_rech_data_9</th>\n",
       "      <td>25922.0</td>\n",
       "      <td>124.941440</td>\n",
       "      <td>111.363760</td>\n",
       "      <td>1.00</td>\n",
       "      <td>25.0</td>\n",
       "      <td>145.000</td>\n",
       "      <td>179.00</td>\n",
       "      <td>1555.00</td>\n",
       "      <td>74.077741</td>\n",
       "    </tr>\n",
       "    <tr>\n",
       "      <th>total_rech_data_9</th>\n",
       "      <td>25922.0</td>\n",
       "      <td>2.441170</td>\n",
       "      <td>2.516339</td>\n",
       "      <td>1.00</td>\n",
       "      <td>1.0</td>\n",
       "      <td>2.000</td>\n",
       "      <td>3.00</td>\n",
       "      <td>84.00</td>\n",
       "      <td>74.077741</td>\n",
       "    </tr>\n",
       "    <tr>\n",
       "      <th>arpu_3g_8</th>\n",
       "      <td>26339.0</td>\n",
       "      <td>91.173849</td>\n",
       "      <td>188.180936</td>\n",
       "      <td>-24.49</td>\n",
       "      <td>0.0</td>\n",
       "      <td>0.880</td>\n",
       "      <td>122.07</td>\n",
       "      <td>3716.90</td>\n",
       "      <td>73.660737</td>\n",
       "    </tr>\n",
       "    <tr>\n",
       "      <th>count_rech_3g_8</th>\n",
       "      <td>26339.0</td>\n",
       "      <td>0.635711</td>\n",
       "      <td>1.422827</td>\n",
       "      <td>0.00</td>\n",
       "      <td>0.0</td>\n",
       "      <td>0.000</td>\n",
       "      <td>1.00</td>\n",
       "      <td>45.00</td>\n",
       "      <td>73.660737</td>\n",
       "    </tr>\n",
       "    <tr>\n",
       "      <th>arpu_2g_8</th>\n",
       "      <td>26339.0</td>\n",
       "      <td>86.599478</td>\n",
       "      <td>168.247852</td>\n",
       "      <td>-55.83</td>\n",
       "      <td>0.0</td>\n",
       "      <td>9.270</td>\n",
       "      <td>122.07</td>\n",
       "      <td>3483.17</td>\n",
       "      <td>73.660737</td>\n",
       "    </tr>\n",
       "    <tr>\n",
       "      <th>count_rech_2g_8</th>\n",
       "      <td>26339.0</td>\n",
       "      <td>2.016288</td>\n",
       "      <td>2.720132</td>\n",
       "      <td>0.00</td>\n",
       "      <td>1.0</td>\n",
       "      <td>1.000</td>\n",
       "      <td>2.00</td>\n",
       "      <td>44.00</td>\n",
       "      <td>73.660737</td>\n",
       "    </tr>\n",
       "    <tr>\n",
       "      <th>night_pck_user_8</th>\n",
       "      <td>26339.0</td>\n",
       "      <td>0.020844</td>\n",
       "      <td>0.142863</td>\n",
       "      <td>0.00</td>\n",
       "      <td>0.0</td>\n",
       "      <td>0.000</td>\n",
       "      <td>0.00</td>\n",
       "      <td>1.00</td>\n",
       "      <td>73.660737</td>\n",
       "    </tr>\n",
       "    <tr>\n",
       "      <th>max_rech_data_8</th>\n",
       "      <td>26339.0</td>\n",
       "      <td>125.717301</td>\n",
       "      <td>109.437851</td>\n",
       "      <td>1.00</td>\n",
       "      <td>25.0</td>\n",
       "      <td>145.000</td>\n",
       "      <td>179.00</td>\n",
       "      <td>1555.00</td>\n",
       "      <td>73.660737</td>\n",
       "    </tr>\n",
       "    <tr>\n",
       "      <th>total_rech_data_8</th>\n",
       "      <td>26339.0</td>\n",
       "      <td>2.651999</td>\n",
       "      <td>3.074987</td>\n",
       "      <td>1.00</td>\n",
       "      <td>1.0</td>\n",
       "      <td>1.000</td>\n",
       "      <td>3.00</td>\n",
       "      <td>60.00</td>\n",
       "      <td>73.660737</td>\n",
       "    </tr>\n",
       "    <tr>\n",
       "      <th>fb_user_8</th>\n",
       "      <td>26339.0</td>\n",
       "      <td>0.890808</td>\n",
       "      <td>0.311885</td>\n",
       "      <td>0.00</td>\n",
       "      <td>1.0</td>\n",
       "      <td>1.000</td>\n",
       "      <td>1.00</td>\n",
       "      <td>1.00</td>\n",
       "      <td>73.660737</td>\n",
       "    </tr>\n",
       "    <tr>\n",
       "      <th>av_rech_amt_data_8</th>\n",
       "      <td>26339.0</td>\n",
       "      <td>197.526489</td>\n",
       "      <td>191.301305</td>\n",
       "      <td>0.50</td>\n",
       "      <td>87.0</td>\n",
       "      <td>154.000</td>\n",
       "      <td>252.00</td>\n",
       "      <td>4076.00</td>\n",
       "      <td>73.660737</td>\n",
       "    </tr>\n",
       "  </tbody>\n",
       "</table>\n",
       "</div>"
      ],
      "text/plain": [
       "                      count        mean         std    min   25%      50%  \\\n",
       "total_rech_data_6   25153.0    2.463802    2.789128   1.00   1.0    1.000   \n",
       "count_rech_2g_6     25153.0    1.864668    2.570254   0.00   1.0    1.000   \n",
       "av_rech_amt_data_6  25153.0  192.600982  192.646318   1.00  82.0  154.000   \n",
       "arpu_2g_6           25153.0   86.398003  172.767523 -35.83   0.0   10.830   \n",
       "count_rech_3g_6     25153.0    0.599133    1.274428   0.00   0.0    0.000   \n",
       "night_pck_user_6    25153.0    0.025086    0.156391   0.00   0.0    0.000   \n",
       "max_rech_data_6     25153.0  126.393392  108.477235   1.00  25.0  145.000   \n",
       "fb_user_6           25153.0    0.914404    0.279772   0.00   1.0    1.000   \n",
       "arpu_3g_6           25153.0   89.555057  193.124653 -30.82   0.0    0.480   \n",
       "night_pck_user_7    25571.0    0.023034    0.150014   0.00   0.0    0.000   \n",
       "max_rech_data_7     25571.0  126.729459  109.765267   1.00  25.0  145.000   \n",
       "count_rech_2g_7     25571.0    2.044699    2.768332   0.00   1.0    1.000   \n",
       "arpu_3g_7           25571.0   89.384120  195.893924 -26.04   0.0    0.420   \n",
       "count_rech_3g_7     25571.0    0.621720    1.394524   0.00   0.0    0.000   \n",
       "arpu_2g_7           25571.0   85.914450  176.379871 -15.48   0.0    8.810   \n",
       "fb_user_7           25571.0    0.908764    0.287950   0.00   1.0    1.000   \n",
       "av_rech_amt_data_7  25571.0  200.981292  196.791224   0.50  92.0  154.000   \n",
       "total_rech_data_7   25571.0    2.666419    3.031593   1.00   1.0    1.000   \n",
       "night_pck_user_9    25922.0    0.015971    0.125366   0.00   0.0    0.000   \n",
       "arpu_2g_9           25922.0   93.712026  171.384224 -45.74   0.0   14.800   \n",
       "arpu_3g_9           25922.0  100.264116  216.291992 -71.09   0.0    2.605   \n",
       "fb_user_9           25922.0    0.860968    0.345987   0.00   1.0    1.000   \n",
       "av_rech_amt_data_9  25922.0  192.734315  188.400286   1.00  69.0  164.000   \n",
       "count_rech_3g_9     25922.0    0.659363    1.411513   0.00   0.0    0.000   \n",
       "count_rech_2g_9     25922.0    1.781807    2.214701   0.00   1.0    1.000   \n",
       "max_rech_data_9     25922.0  124.941440  111.363760   1.00  25.0  145.000   \n",
       "total_rech_data_9   25922.0    2.441170    2.516339   1.00   1.0    2.000   \n",
       "arpu_3g_8           26339.0   91.173849  188.180936 -24.49   0.0    0.880   \n",
       "count_rech_3g_8     26339.0    0.635711    1.422827   0.00   0.0    0.000   \n",
       "arpu_2g_8           26339.0   86.599478  168.247852 -55.83   0.0    9.270   \n",
       "count_rech_2g_8     26339.0    2.016288    2.720132   0.00   1.0    1.000   \n",
       "night_pck_user_8    26339.0    0.020844    0.142863   0.00   0.0    0.000   \n",
       "max_rech_data_8     26339.0  125.717301  109.437851   1.00  25.0  145.000   \n",
       "total_rech_data_8   26339.0    2.651999    3.074987   1.00   1.0    1.000   \n",
       "fb_user_8           26339.0    0.890808    0.311885   0.00   1.0    1.000   \n",
       "av_rech_amt_data_8  26339.0  197.526489  191.301305   0.50  87.0  154.000   \n",
       "\n",
       "                       75%       max  null_perc  \n",
       "total_rech_data_6     3.00     61.00  74.846748  \n",
       "count_rech_2g_6       2.00     42.00  74.846748  \n",
       "av_rech_amt_data_6  252.00   7546.00  74.846748  \n",
       "arpu_2g_6           122.07   6433.76  74.846748  \n",
       "count_rech_3g_6       1.00     29.00  74.846748  \n",
       "night_pck_user_6      0.00      1.00  74.846748  \n",
       "max_rech_data_6     177.00   1555.00  74.846748  \n",
       "fb_user_6             1.00      1.00  74.846748  \n",
       "arpu_3g_6           122.07   6362.28  74.846748  \n",
       "night_pck_user_7      0.00      1.00  74.428744  \n",
       "max_rech_data_7     177.00   1555.00  74.428744  \n",
       "count_rech_2g_7       2.00     48.00  74.428744  \n",
       "arpu_3g_7           119.56   4980.90  74.428744  \n",
       "count_rech_3g_7       1.00     35.00  74.428744  \n",
       "arpu_2g_7           122.07   4809.36  74.428744  \n",
       "fb_user_7             1.00      1.00  74.428744  \n",
       "av_rech_amt_data_7  252.00   4365.00  74.428744  \n",
       "total_rech_data_7     3.00     54.00  74.428744  \n",
       "night_pck_user_9      0.00      1.00  74.077741  \n",
       "arpu_2g_9           140.01   3467.17  74.077741  \n",
       "arpu_3g_9           140.01  13884.31  74.077741  \n",
       "fb_user_9             1.00      1.00  74.077741  \n",
       "av_rech_amt_data_9  252.00   4061.00  74.077741  \n",
       "count_rech_3g_9       1.00     49.00  74.077741  \n",
       "count_rech_2g_9       2.00     40.00  74.077741  \n",
       "max_rech_data_9     179.00   1555.00  74.077741  \n",
       "total_rech_data_9     3.00     84.00  74.077741  \n",
       "arpu_3g_8           122.07   3716.90  73.660737  \n",
       "count_rech_3g_8       1.00     45.00  73.660737  \n",
       "arpu_2g_8           122.07   3483.17  73.660737  \n",
       "count_rech_2g_8       2.00     44.00  73.660737  \n",
       "night_pck_user_8      0.00      1.00  73.660737  \n",
       "max_rech_data_8     179.00   1555.00  73.660737  \n",
       "total_rech_data_8     3.00     60.00  73.660737  \n",
       "fb_user_8             1.00      1.00  73.660737  \n",
       "av_rech_amt_data_8  252.00   4076.00  73.660737  "
      ]
     },
     "execution_count": 60,
     "metadata": {},
     "output_type": "execute_result"
    }
   ],
   "source": [
    "master_desc_df.loc[master_desc_df['null_perc']>=73].sort_values(by='null_perc',ascending=False)\n",
    "# The 9 columns are 9 different data points for each of the 4 months\n",
    "# let us check if the same data points are missing across all 4 months"
   ]
  },
  {
   "cell_type": "code",
   "execution_count": 61,
   "metadata": {},
   "outputs": [
    {
     "data": {
      "text/plain": [
       "9"
      ]
     },
     "execution_count": 61,
     "metadata": {},
     "output_type": "execute_result"
    }
   ],
   "source": [
    "null_perc_col_list = master_desc_df.loc[master_desc_df['null_perc']>=73].index.tolist()\n",
    "null_perc_col_list = [x[:-2] for x in null_perc_col_list]\n",
    "null_perc_col_set = set(null_perc_col_list)\n",
    "len(null_perc_col_set)\n",
    "\n",
    "# bingo! ... these are the same 9 columns across all 4 months, as no column exists twice for each month\n",
    "# so, if we were to delete all 4 monthly instances of the column, we would not be causing any discrepancies in the data\n",
    "# hence we can remove these 36 columns from consideration, as the percentage of missing values is quite high\n",
    "# which in itself requires some formula etc.\n",
    "# but let us still see if these can be imputed using other columns"
   ]
  },
  {
   "cell_type": "code",
   "execution_count": 62,
   "metadata": {},
   "outputs": [
    {
     "data": {
      "text/plain": [
       "{'arpu_2g',\n",
       " 'arpu_3g',\n",
       " 'av_rech_amt_data',\n",
       " 'count_rech_2g',\n",
       " 'count_rech_3g',\n",
       " 'fb_user',\n",
       " 'max_rech_data',\n",
       " 'night_pck_user',\n",
       " 'total_rech_data'}"
      ]
     },
     "execution_count": 62,
     "metadata": {},
     "output_type": "execute_result"
    }
   ],
   "source": [
    "null_perc_col_set"
   ]
  },
  {
   "cell_type": "code",
   "execution_count": 63,
   "metadata": {},
   "outputs": [],
   "source": [
    "# count_rech 2g or 3g - there are other columns which give these values indirectly\n",
    "# for example - av_rech_amt_data_6 and total_rech_data_6 can give us number of recharges done\n",
    "# but it will not give us the number of 2g and 3g recharges individually\n",
    "# so we can remove these two columns and replace them with (total_rech_data_x/av_rech_amt_data_x) for each month\n",
    "\n",
    "# arpu_2g and arpu_3g - there is no way to compute this data from other data points such as total_rech_data or av_rech_amt_data\n",
    "# as these data points themselves are highly null - and by the same logic, cannot be imputed\n",
    "\n",
    "# night_pck_user cannot be determined from provided data, as usage data is not available - and these columns have no other links\n",
    "\n",
    "# max_rech_data is also difficult to impute, as the recharge data is not available\n",
    "\n",
    "# fb_user is also not linked to any other column, due to which imputing it is difficult\n",
    "\n",
    "## hence, we will be dropping these 36 columns from the dataset later\n",
    "# let us now check other columns with null values"
   ]
  },
  {
   "cell_type": "code",
   "execution_count": 64,
   "metadata": {},
   "outputs": [
    {
     "data": {
      "image/png": "[encoded data removed]",
      "text/plain": [
       "<Figure size 432x288 with 1 Axes>"
      ]
     },
     "metadata": {
      "needs_background": "light"
     },
     "output_type": "display_data"
    }
   ],
   "source": [
    "master_desc_df['null_perc'].loc[(master_desc_df['null_perc']>0) & (master_desc_df['null_perc']<73)].hist()\n",
    "plt.show()\n",
    "\n",
    "# for the remaining columns, the maximum null %age observed is <8\n",
    "# for these, let us check the number of columns with same null-percentages"
   ]
  },
  {
   "cell_type": "code",
   "execution_count": 65,
   "metadata": {},
   "outputs": [
    {
     "data": {
      "text/html": [
       "<div>\n",
       "<style scoped>\n",
       "    .dataframe tbody tr th:only-of-type {\n",
       "        vertical-align: middle;\n",
       "    }\n",
       "\n",
       "    .dataframe tbody tr th {\n",
       "        vertical-align: top;\n",
       "    }\n",
       "\n",
       "    .dataframe thead th {\n",
       "        text-align: right;\n",
       "    }\n",
       "</style>\n",
       "<table border=\"1\" class=\"dataframe\">\n",
       "  <thead>\n",
       "    <tr style=\"text-align: right;\">\n",
       "      <th></th>\n",
       "      <th>count</th>\n",
       "      <th>mean</th>\n",
       "      <th>std</th>\n",
       "      <th>min</th>\n",
       "      <th>25%</th>\n",
       "      <th>50%</th>\n",
       "      <th>75%</th>\n",
       "      <th>max</th>\n",
       "      <th>null_perc</th>\n",
       "    </tr>\n",
       "  </thead>\n",
       "  <tbody>\n",
       "    <tr>\n",
       "      <th>ic_others_9</th>\n",
       "      <td>92254.0</td>\n",
       "      <td>1.017162</td>\n",
       "      <td>12.381172</td>\n",
       "      <td>0.0</td>\n",
       "      <td>0.00</td>\n",
       "      <td>0.000</td>\n",
       "      <td>0.0000</td>\n",
       "      <td>1005.23</td>\n",
       "      <td>7.745077</td>\n",
       "    </tr>\n",
       "    <tr>\n",
       "      <th>std_og_t2m_mou_9</th>\n",
       "      <td>92254.0</td>\n",
       "      <td>86.276622</td>\n",
       "      <td>261.407396</td>\n",
       "      <td>0.0</td>\n",
       "      <td>0.00</td>\n",
       "      <td>2.500</td>\n",
       "      <td>48.5600</td>\n",
       "      <td>10223.43</td>\n",
       "      <td>7.745077</td>\n",
       "    </tr>\n",
       "    <tr>\n",
       "      <th>loc_og_t2m_mou_9</th>\n",
       "      <td>92254.0</td>\n",
       "      <td>90.463192</td>\n",
       "      <td>158.681454</td>\n",
       "      <td>0.0</td>\n",
       "      <td>8.81</td>\n",
       "      <td>39.120</td>\n",
       "      <td>106.8100</td>\n",
       "      <td>4429.88</td>\n",
       "      <td>7.745077</td>\n",
       "    </tr>\n",
       "    <tr>\n",
       "      <th>std_ic_t2f_mou_9</th>\n",
       "      <td>92254.0</td>\n",
       "      <td>2.173419</td>\n",
       "      <td>15.978601</td>\n",
       "      <td>0.0</td>\n",
       "      <td>0.00</td>\n",
       "      <td>0.000</td>\n",
       "      <td>0.0000</td>\n",
       "      <td>1431.96</td>\n",
       "      <td>7.745077</td>\n",
       "    </tr>\n",
       "    <tr>\n",
       "      <th>loc_og_t2f_mou_9</th>\n",
       "      <td>92254.0</td>\n",
       "      <td>3.655123</td>\n",
       "      <td>13.457549</td>\n",
       "      <td>0.0</td>\n",
       "      <td>0.00</td>\n",
       "      <td>0.000</td>\n",
       "      <td>1.9400</td>\n",
       "      <td>927.41</td>\n",
       "      <td>7.745077</td>\n",
       "    </tr>\n",
       "    <tr>\n",
       "      <th>loc_og_t2c_mou_9</th>\n",
       "      <td>92254.0</td>\n",
       "      <td>1.232726</td>\n",
       "      <td>5.619021</td>\n",
       "      <td>0.0</td>\n",
       "      <td>0.00</td>\n",
       "      <td>0.000</td>\n",
       "      <td>0.0000</td>\n",
       "      <td>339.84</td>\n",
       "      <td>7.745077</td>\n",
       "    </tr>\n",
       "    <tr>\n",
       "      <th>og_others_9</th>\n",
       "      <td>92254.0</td>\n",
       "      <td>0.047456</td>\n",
       "      <td>3.635466</td>\n",
       "      <td>0.0</td>\n",
       "      <td>0.00</td>\n",
       "      <td>0.000</td>\n",
       "      <td>0.0000</td>\n",
       "      <td>787.79</td>\n",
       "      <td>7.745077</td>\n",
       "    </tr>\n",
       "    <tr>\n",
       "      <th>loc_og_mou_9</th>\n",
       "      <td>92254.0</td>\n",
       "      <td>138.709970</td>\n",
       "      <td>245.934517</td>\n",
       "      <td>0.0</td>\n",
       "      <td>15.56</td>\n",
       "      <td>61.840</td>\n",
       "      <td>162.2250</td>\n",
       "      <td>11099.26</td>\n",
       "      <td>7.745077</td>\n",
       "    </tr>\n",
       "    <tr>\n",
       "      <th>std_ic_t2t_mou_9</th>\n",
       "      <td>92254.0</td>\n",
       "      <td>9.432479</td>\n",
       "      <td>53.376273</td>\n",
       "      <td>0.0</td>\n",
       "      <td>0.00</td>\n",
       "      <td>0.000</td>\n",
       "      <td>3.5100</td>\n",
       "      <td>3819.83</td>\n",
       "      <td>7.745077</td>\n",
       "    </tr>\n",
       "    <tr>\n",
       "      <th>std_og_t2t_mou_9</th>\n",
       "      <td>92254.0</td>\n",
       "      <td>82.342919</td>\n",
       "      <td>267.184991</td>\n",
       "      <td>0.0</td>\n",
       "      <td>0.00</td>\n",
       "      <td>0.000</td>\n",
       "      <td>28.2300</td>\n",
       "      <td>9382.58</td>\n",
       "      <td>7.745077</td>\n",
       "    </tr>\n",
       "    <tr>\n",
       "      <th>loc_ic_mou_9</th>\n",
       "      <td>92254.0</td>\n",
       "      <td>164.619293</td>\n",
       "      <td>249.845070</td>\n",
       "      <td>0.0</td>\n",
       "      <td>32.29</td>\n",
       "      <td>91.640</td>\n",
       "      <td>202.7375</td>\n",
       "      <td>10796.29</td>\n",
       "      <td>7.745077</td>\n",
       "    </tr>\n",
       "    <tr>\n",
       "      <th>loc_og_t2t_mou_9</th>\n",
       "      <td>92254.0</td>\n",
       "      <td>44.584446</td>\n",
       "      <td>147.995390</td>\n",
       "      <td>0.0</td>\n",
       "      <td>1.36</td>\n",
       "      <td>11.260</td>\n",
       "      <td>39.2800</td>\n",
       "      <td>10389.24</td>\n",
       "      <td>7.745077</td>\n",
       "    </tr>\n",
       "    <tr>\n",
       "      <th>std_og_t2f_mou_9</th>\n",
       "      <td>92254.0</td>\n",
       "      <td>1.042362</td>\n",
       "      <td>8.261770</td>\n",
       "      <td>0.0</td>\n",
       "      <td>0.00</td>\n",
       "      <td>0.000</td>\n",
       "      <td>0.0000</td>\n",
       "      <td>808.49</td>\n",
       "      <td>7.745077</td>\n",
       "    </tr>\n",
       "    <tr>\n",
       "      <th>loc_ic_t2f_mou_9</th>\n",
       "      <td>92254.0</td>\n",
       "      <td>12.173105</td>\n",
       "      <td>43.840776</td>\n",
       "      <td>0.0</td>\n",
       "      <td>0.00</td>\n",
       "      <td>0.960</td>\n",
       "      <td>8.1400</td>\n",
       "      <td>4318.28</td>\n",
       "      <td>7.745077</td>\n",
       "    </tr>\n",
       "    <tr>\n",
       "      <th>std_og_t2c_mou_9</th>\n",
       "      <td>92254.0</td>\n",
       "      <td>0.000000</td>\n",
       "      <td>0.000000</td>\n",
       "      <td>0.0</td>\n",
       "      <td>0.00</td>\n",
       "      <td>0.000</td>\n",
       "      <td>0.0000</td>\n",
       "      <td>0.00</td>\n",
       "      <td>7.745077</td>\n",
       "    </tr>\n",
       "    <tr>\n",
       "      <th>std_og_mou_9</th>\n",
       "      <td>92254.0</td>\n",
       "      <td>169.664466</td>\n",
       "      <td>405.138658</td>\n",
       "      <td>0.0</td>\n",
       "      <td>0.00</td>\n",
       "      <td>8.410</td>\n",
       "      <td>142.1050</td>\n",
       "      <td>11495.31</td>\n",
       "      <td>7.745077</td>\n",
       "    </tr>\n",
       "    <tr>\n",
       "      <th>loc_ic_t2m_mou_9</th>\n",
       "      <td>92254.0</td>\n",
       "      <td>106.155471</td>\n",
       "      <td>165.492803</td>\n",
       "      <td>0.0</td>\n",
       "      <td>18.56</td>\n",
       "      <td>56.610</td>\n",
       "      <td>130.4900</td>\n",
       "      <td>5463.78</td>\n",
       "      <td>7.745077</td>\n",
       "    </tr>\n",
       "    <tr>\n",
       "      <th>isd_og_mou_9</th>\n",
       "      <td>92254.0</td>\n",
       "      <td>0.723892</td>\n",
       "      <td>21.310751</td>\n",
       "      <td>0.0</td>\n",
       "      <td>0.00</td>\n",
       "      <td>0.000</td>\n",
       "      <td>0.0000</td>\n",
       "      <td>4244.53</td>\n",
       "      <td>7.745077</td>\n",
       "    </tr>\n",
       "    <tr>\n",
       "      <th>loc_ic_t2t_mou_9</th>\n",
       "      <td>92254.0</td>\n",
       "      <td>46.281794</td>\n",
       "      <td>140.130610</td>\n",
       "      <td>0.0</td>\n",
       "      <td>3.29</td>\n",
       "      <td>15.660</td>\n",
       "      <td>45.1800</td>\n",
       "      <td>10598.83</td>\n",
       "      <td>7.745077</td>\n",
       "    </tr>\n",
       "    <tr>\n",
       "      <th>spl_og_mou_9</th>\n",
       "      <td>92254.0</td>\n",
       "      <td>4.412767</td>\n",
       "      <td>16.328227</td>\n",
       "      <td>0.0</td>\n",
       "      <td>0.00</td>\n",
       "      <td>0.000</td>\n",
       "      <td>3.2300</td>\n",
       "      <td>1635.71</td>\n",
       "      <td>7.745077</td>\n",
       "    </tr>\n",
       "    <tr>\n",
       "      <th>std_ic_t2o_mou_9</th>\n",
       "      <td>92254.0</td>\n",
       "      <td>0.000000</td>\n",
       "      <td>0.000000</td>\n",
       "      <td>0.0</td>\n",
       "      <td>0.00</td>\n",
       "      <td>0.000</td>\n",
       "      <td>0.0000</td>\n",
       "      <td>0.00</td>\n",
       "      <td>7.745077</td>\n",
       "    </tr>\n",
       "    <tr>\n",
       "      <th>std_ic_t2m_mou_9</th>\n",
       "      <td>92254.0</td>\n",
       "      <td>19.620913</td>\n",
       "      <td>74.913050</td>\n",
       "      <td>0.0</td>\n",
       "      <td>0.00</td>\n",
       "      <td>1.740</td>\n",
       "      <td>14.2600</td>\n",
       "      <td>5689.76</td>\n",
       "      <td>7.745077</td>\n",
       "    </tr>\n",
       "    <tr>\n",
       "      <th>spl_ic_mou_9</th>\n",
       "      <td>92254.0</td>\n",
       "      <td>0.163137</td>\n",
       "      <td>0.527860</td>\n",
       "      <td>0.0</td>\n",
       "      <td>0.00</td>\n",
       "      <td>0.000</td>\n",
       "      <td>0.0600</td>\n",
       "      <td>62.38</td>\n",
       "      <td>7.745077</td>\n",
       "    </tr>\n",
       "    <tr>\n",
       "      <th>isd_ic_mou_9</th>\n",
       "      <td>92254.0</td>\n",
       "      <td>8.063003</td>\n",
       "      <td>63.505379</td>\n",
       "      <td>0.0</td>\n",
       "      <td>0.00</td>\n",
       "      <td>0.000</td>\n",
       "      <td>0.0000</td>\n",
       "      <td>5057.74</td>\n",
       "      <td>7.745077</td>\n",
       "    </tr>\n",
       "    <tr>\n",
       "      <th>roam_ic_mou_9</th>\n",
       "      <td>92254.0</td>\n",
       "      <td>6.343841</td>\n",
       "      <td>57.137537</td>\n",
       "      <td>0.0</td>\n",
       "      <td>0.00</td>\n",
       "      <td>0.000</td>\n",
       "      <td>0.0000</td>\n",
       "      <td>8464.03</td>\n",
       "      <td>7.745077</td>\n",
       "    </tr>\n",
       "    <tr>\n",
       "      <th>std_ic_mou_9</th>\n",
       "      <td>92254.0</td>\n",
       "      <td>31.229344</td>\n",
       "      <td>101.982303</td>\n",
       "      <td>0.0</td>\n",
       "      <td>0.00</td>\n",
       "      <td>5.380</td>\n",
       "      <td>25.6900</td>\n",
       "      <td>5956.66</td>\n",
       "      <td>7.745077</td>\n",
       "    </tr>\n",
       "    <tr>\n",
       "      <th>roam_og_mou_9</th>\n",
       "      <td>92254.0</td>\n",
       "      <td>8.555519</td>\n",
       "      <td>58.438186</td>\n",
       "      <td>0.0</td>\n",
       "      <td>0.00</td>\n",
       "      <td>0.000</td>\n",
       "      <td>0.0000</td>\n",
       "      <td>4428.46</td>\n",
       "      <td>7.745077</td>\n",
       "    </tr>\n",
       "    <tr>\n",
       "      <th>onnet_mou_9</th>\n",
       "      <td>92254.0</td>\n",
       "      <td>130.302327</td>\n",
       "      <td>308.477668</td>\n",
       "      <td>0.0</td>\n",
       "      <td>5.33</td>\n",
       "      <td>29.840</td>\n",
       "      <td>112.1300</td>\n",
       "      <td>10427.46</td>\n",
       "      <td>7.745077</td>\n",
       "    </tr>\n",
       "    <tr>\n",
       "      <th>offnet_mou_9</th>\n",
       "      <td>92254.0</td>\n",
       "      <td>190.337222</td>\n",
       "      <td>319.396092</td>\n",
       "      <td>0.0</td>\n",
       "      <td>27.13</td>\n",
       "      <td>87.290</td>\n",
       "      <td>220.5050</td>\n",
       "      <td>10310.76</td>\n",
       "      <td>7.745077</td>\n",
       "    </tr>\n",
       "    <tr>\n",
       "      <th>spl_og_mou_8</th>\n",
       "      <td>94621.0</td>\n",
       "      <td>5.053769</td>\n",
       "      <td>17.855111</td>\n",
       "      <td>0.0</td>\n",
       "      <td>0.00</td>\n",
       "      <td>0.000</td>\n",
       "      <td>3.9900</td>\n",
       "      <td>1390.88</td>\n",
       "      <td>5.378054</td>\n",
       "    </tr>\n",
       "    <tr>\n",
       "      <th>...</th>\n",
       "      <td>...</td>\n",
       "      <td>...</td>\n",
       "      <td>...</td>\n",
       "      <td>...</td>\n",
       "      <td>...</td>\n",
       "      <td>...</td>\n",
       "      <td>...</td>\n",
       "      <td>...</td>\n",
       "      <td>...</td>\n",
       "    </tr>\n",
       "    <tr>\n",
       "      <th>std_ic_mou_7</th>\n",
       "      <td>96140.0</td>\n",
       "      <td>33.887833</td>\n",
       "      <td>113.720168</td>\n",
       "      <td>0.0</td>\n",
       "      <td>0.00</td>\n",
       "      <td>5.960</td>\n",
       "      <td>28.3100</td>\n",
       "      <td>6745.76</td>\n",
       "      <td>3.859039</td>\n",
       "    </tr>\n",
       "    <tr>\n",
       "      <th>og_others_7</th>\n",
       "      <td>96140.0</td>\n",
       "      <td>0.030235</td>\n",
       "      <td>2.161717</td>\n",
       "      <td>0.0</td>\n",
       "      <td>0.00</td>\n",
       "      <td>0.000</td>\n",
       "      <td>0.0000</td>\n",
       "      <td>370.13</td>\n",
       "      <td>3.859039</td>\n",
       "    </tr>\n",
       "    <tr>\n",
       "      <th>spl_ic_mou_7</th>\n",
       "      <td>96140.0</td>\n",
       "      <td>0.033585</td>\n",
       "      <td>0.155725</td>\n",
       "      <td>0.0</td>\n",
       "      <td>0.00</td>\n",
       "      <td>0.000</td>\n",
       "      <td>0.0000</td>\n",
       "      <td>21.33</td>\n",
       "      <td>3.859039</td>\n",
       "    </tr>\n",
       "    <tr>\n",
       "      <th>roam_og_mou_7</th>\n",
       "      <td>96140.0</td>\n",
       "      <td>9.818732</td>\n",
       "      <td>58.455762</td>\n",
       "      <td>0.0</td>\n",
       "      <td>0.00</td>\n",
       "      <td>0.000</td>\n",
       "      <td>0.0000</td>\n",
       "      <td>2812.04</td>\n",
       "      <td>3.859039</td>\n",
       "    </tr>\n",
       "    <tr>\n",
       "      <th>roam_ic_mou_7</th>\n",
       "      <td>96140.0</td>\n",
       "      <td>7.149898</td>\n",
       "      <td>73.447948</td>\n",
       "      <td>0.0</td>\n",
       "      <td>0.00</td>\n",
       "      <td>0.000</td>\n",
       "      <td>0.0000</td>\n",
       "      <td>15371.04</td>\n",
       "      <td>3.859039</td>\n",
       "    </tr>\n",
       "    <tr>\n",
       "      <th>offnet_mou_7</th>\n",
       "      <td>96140.0</td>\n",
       "      <td>197.045133</td>\n",
       "      <td>325.862803</td>\n",
       "      <td>0.0</td>\n",
       "      <td>32.19</td>\n",
       "      <td>91.735</td>\n",
       "      <td>226.8150</td>\n",
       "      <td>9667.13</td>\n",
       "      <td>3.859039</td>\n",
       "    </tr>\n",
       "    <tr>\n",
       "      <th>isd_ic_mou_7</th>\n",
       "      <td>96140.0</td>\n",
       "      <td>8.334936</td>\n",
       "      <td>65.219829</td>\n",
       "      <td>0.0</td>\n",
       "      <td>0.00</td>\n",
       "      <td>0.000</td>\n",
       "      <td>0.0000</td>\n",
       "      <td>5289.54</td>\n",
       "      <td>3.859039</td>\n",
       "    </tr>\n",
       "    <tr>\n",
       "      <th>onnet_mou_7</th>\n",
       "      <td>96140.0</td>\n",
       "      <td>133.670805</td>\n",
       "      <td>308.794148</td>\n",
       "      <td>0.0</td>\n",
       "      <td>6.66</td>\n",
       "      <td>32.330</td>\n",
       "      <td>115.5950</td>\n",
       "      <td>8157.78</td>\n",
       "      <td>3.859039</td>\n",
       "    </tr>\n",
       "    <tr>\n",
       "      <th>ic_others_7</th>\n",
       "      <td>96140.0</td>\n",
       "      <td>1.012960</td>\n",
       "      <td>12.673099</td>\n",
       "      <td>0.0</td>\n",
       "      <td>0.00</td>\n",
       "      <td>0.000</td>\n",
       "      <td>0.0000</td>\n",
       "      <td>1495.94</td>\n",
       "      <td>3.859039</td>\n",
       "    </tr>\n",
       "    <tr>\n",
       "      <th>std_ic_t2o_mou_7</th>\n",
       "      <td>96140.0</td>\n",
       "      <td>0.000000</td>\n",
       "      <td>0.000000</td>\n",
       "      <td>0.0</td>\n",
       "      <td>0.00</td>\n",
       "      <td>0.000</td>\n",
       "      <td>0.0000</td>\n",
       "      <td>0.00</td>\n",
       "      <td>3.859039</td>\n",
       "    </tr>\n",
       "    <tr>\n",
       "      <th>loc_og_t2c_mou_7</th>\n",
       "      <td>96140.0</td>\n",
       "      <td>1.368500</td>\n",
       "      <td>7.533445</td>\n",
       "      <td>0.0</td>\n",
       "      <td>0.00</td>\n",
       "      <td>0.000</td>\n",
       "      <td>0.0000</td>\n",
       "      <td>916.24</td>\n",
       "      <td>3.859039</td>\n",
       "    </tr>\n",
       "    <tr>\n",
       "      <th>loc_og_t2f_mou_7</th>\n",
       "      <td>96140.0</td>\n",
       "      <td>3.792985</td>\n",
       "      <td>14.264986</td>\n",
       "      <td>0.0</td>\n",
       "      <td>0.00</td>\n",
       "      <td>0.000</td>\n",
       "      <td>2.0900</td>\n",
       "      <td>1196.43</td>\n",
       "      <td>3.859039</td>\n",
       "    </tr>\n",
       "    <tr>\n",
       "      <th>std_ic_t2f_mou_7</th>\n",
       "      <td>96140.0</td>\n",
       "      <td>2.216923</td>\n",
       "      <td>16.454061</td>\n",
       "      <td>0.0</td>\n",
       "      <td>0.00</td>\n",
       "      <td>0.000</td>\n",
       "      <td>0.0000</td>\n",
       "      <td>1136.08</td>\n",
       "      <td>3.859039</td>\n",
       "    </tr>\n",
       "    <tr>\n",
       "      <th>spl_og_mou_7</th>\n",
       "      <td>96140.0</td>\n",
       "      <td>4.978279</td>\n",
       "      <td>20.661570</td>\n",
       "      <td>0.0</td>\n",
       "      <td>0.00</td>\n",
       "      <td>0.000</td>\n",
       "      <td>3.7100</td>\n",
       "      <td>2372.51</td>\n",
       "      <td>3.859039</td>\n",
       "    </tr>\n",
       "    <tr>\n",
       "      <th>loc_ic_t2m_mou_7</th>\n",
       "      <td>96140.0</td>\n",
       "      <td>107.120493</td>\n",
       "      <td>169.423620</td>\n",
       "      <td>0.0</td>\n",
       "      <td>18.59</td>\n",
       "      <td>57.080</td>\n",
       "      <td>130.9600</td>\n",
       "      <td>4455.83</td>\n",
       "      <td>3.859039</td>\n",
       "    </tr>\n",
       "    <tr>\n",
       "      <th>isd_og_mou_7</th>\n",
       "      <td>96140.0</td>\n",
       "      <td>0.776572</td>\n",
       "      <td>25.603052</td>\n",
       "      <td>0.0</td>\n",
       "      <td>0.00</td>\n",
       "      <td>0.000</td>\n",
       "      <td>0.0000</td>\n",
       "      <td>5490.28</td>\n",
       "      <td>3.859039</td>\n",
       "    </tr>\n",
       "    <tr>\n",
       "      <th>std_og_mou_7</th>\n",
       "      <td>96140.0</td>\n",
       "      <td>175.221436</td>\n",
       "      <td>408.922934</td>\n",
       "      <td>0.0</td>\n",
       "      <td>0.00</td>\n",
       "      <td>11.090</td>\n",
       "      <td>150.6150</td>\n",
       "      <td>10936.73</td>\n",
       "      <td>3.859039</td>\n",
       "    </tr>\n",
       "    <tr>\n",
       "      <th>loc_ic_t2f_mou_7</th>\n",
       "      <td>96140.0</td>\n",
       "      <td>12.599697</td>\n",
       "      <td>42.977442</td>\n",
       "      <td>0.0</td>\n",
       "      <td>0.00</td>\n",
       "      <td>0.930</td>\n",
       "      <td>8.2825</td>\n",
       "      <td>1983.01</td>\n",
       "      <td>3.859039</td>\n",
       "    </tr>\n",
       "    <tr>\n",
       "      <th>std_og_t2c_mou_7</th>\n",
       "      <td>96140.0</td>\n",
       "      <td>0.000000</td>\n",
       "      <td>0.000000</td>\n",
       "      <td>0.0</td>\n",
       "      <td>0.00</td>\n",
       "      <td>0.000</td>\n",
       "      <td>0.0000</td>\n",
       "      <td>0.00</td>\n",
       "      <td>3.859039</td>\n",
       "    </tr>\n",
       "    <tr>\n",
       "      <th>loc_ic_mou_7</th>\n",
       "      <td>96140.0</td>\n",
       "      <td>167.719540</td>\n",
       "      <td>256.242707</td>\n",
       "      <td>0.0</td>\n",
       "      <td>32.46</td>\n",
       "      <td>92.550</td>\n",
       "      <td>205.8375</td>\n",
       "      <td>9669.91</td>\n",
       "      <td>3.859039</td>\n",
       "    </tr>\n",
       "    <tr>\n",
       "      <th>std_og_t2f_mou_7</th>\n",
       "      <td>96140.0</td>\n",
       "      <td>1.115010</td>\n",
       "      <td>8.599406</td>\n",
       "      <td>0.0</td>\n",
       "      <td>0.00</td>\n",
       "      <td>0.000</td>\n",
       "      <td>0.0000</td>\n",
       "      <td>544.63</td>\n",
       "      <td>3.859039</td>\n",
       "    </tr>\n",
       "    <tr>\n",
       "      <th>std_og_t2m_mou_7</th>\n",
       "      <td>96140.0</td>\n",
       "      <td>90.804137</td>\n",
       "      <td>269.347911</td>\n",
       "      <td>0.0</td>\n",
       "      <td>0.00</td>\n",
       "      <td>3.635</td>\n",
       "      <td>54.0400</td>\n",
       "      <td>9284.74</td>\n",
       "      <td>3.859039</td>\n",
       "    </tr>\n",
       "    <tr>\n",
       "      <th>std_ic_t2t_mou_7</th>\n",
       "      <td>96140.0</td>\n",
       "      <td>10.011904</td>\n",
       "      <td>57.411971</td>\n",
       "      <td>0.0</td>\n",
       "      <td>0.00</td>\n",
       "      <td>0.000</td>\n",
       "      <td>4.2300</td>\n",
       "      <td>5800.93</td>\n",
       "      <td>3.859039</td>\n",
       "    </tr>\n",
       "    <tr>\n",
       "      <th>std_og_t2t_mou_7</th>\n",
       "      <td>96140.0</td>\n",
       "      <td>83.299598</td>\n",
       "      <td>263.631042</td>\n",
       "      <td>0.0</td>\n",
       "      <td>0.00</td>\n",
       "      <td>0.000</td>\n",
       "      <td>31.1325</td>\n",
       "      <td>8133.66</td>\n",
       "      <td>3.859039</td>\n",
       "    </tr>\n",
       "    <tr>\n",
       "      <th>std_ic_t2m_mou_7</th>\n",
       "      <td>96140.0</td>\n",
       "      <td>21.656415</td>\n",
       "      <td>86.521393</td>\n",
       "      <td>0.0</td>\n",
       "      <td>0.00</td>\n",
       "      <td>2.040</td>\n",
       "      <td>15.7400</td>\n",
       "      <td>6141.88</td>\n",
       "      <td>3.859039</td>\n",
       "    </tr>\n",
       "    <tr>\n",
       "      <th>loc_og_mou_7</th>\n",
       "      <td>96140.0</td>\n",
       "      <td>141.670476</td>\n",
       "      <td>248.731086</td>\n",
       "      <td>0.0</td>\n",
       "      <td>17.48</td>\n",
       "      <td>63.685</td>\n",
       "      <td>164.3825</td>\n",
       "      <td>7674.78</td>\n",
       "      <td>3.859039</td>\n",
       "    </tr>\n",
       "    <tr>\n",
       "      <th>loc_ic_t2t_mou_7</th>\n",
       "      <td>96140.0</td>\n",
       "      <td>47.990520</td>\n",
       "      <td>145.795055</td>\n",
       "      <td>0.0</td>\n",
       "      <td>3.23</td>\n",
       "      <td>15.740</td>\n",
       "      <td>45.8100</td>\n",
       "      <td>9324.66</td>\n",
       "      <td>3.859039</td>\n",
       "    </tr>\n",
       "    <tr>\n",
       "      <th>std_og_t2o_mou</th>\n",
       "      <td>98981.0</td>\n",
       "      <td>0.000000</td>\n",
       "      <td>0.000000</td>\n",
       "      <td>0.0</td>\n",
       "      <td>0.00</td>\n",
       "      <td>0.000</td>\n",
       "      <td>0.0000</td>\n",
       "      <td>0.00</td>\n",
       "      <td>1.018010</td>\n",
       "    </tr>\n",
       "    <tr>\n",
       "      <th>loc_ic_t2o_mou</th>\n",
       "      <td>98981.0</td>\n",
       "      <td>0.000000</td>\n",
       "      <td>0.000000</td>\n",
       "      <td>0.0</td>\n",
       "      <td>0.00</td>\n",
       "      <td>0.000</td>\n",
       "      <td>0.0000</td>\n",
       "      <td>0.00</td>\n",
       "      <td>1.018010</td>\n",
       "    </tr>\n",
       "    <tr>\n",
       "      <th>loc_og_t2o_mou</th>\n",
       "      <td>98981.0</td>\n",
       "      <td>0.000000</td>\n",
       "      <td>0.000000</td>\n",
       "      <td>0.0</td>\n",
       "      <td>0.00</td>\n",
       "      <td>0.000</td>\n",
       "      <td>0.0000</td>\n",
       "      <td>0.00</td>\n",
       "      <td>1.018010</td>\n",
       "    </tr>\n",
       "  </tbody>\n",
       "</table>\n",
       "<p>119 rows × 9 columns</p>\n",
       "</div>"
      ],
      "text/plain": [
       "                    count        mean         std  min    25%     50%  \\\n",
       "ic_others_9       92254.0    1.017162   12.381172  0.0   0.00   0.000   \n",
       "std_og_t2m_mou_9  92254.0   86.276622  261.407396  0.0   0.00   2.500   \n",
       "loc_og_t2m_mou_9  92254.0   90.463192  158.681454  0.0   8.81  39.120   \n",
       "std_ic_t2f_mou_9  92254.0    2.173419   15.978601  0.0   0.00   0.000   \n",
       "loc_og_t2f_mou_9  92254.0    3.655123   13.457549  0.0   0.00   0.000   \n",
       "loc_og_t2c_mou_9  92254.0    1.232726    5.619021  0.0   0.00   0.000   \n",
       "og_others_9       92254.0    0.047456    3.635466  0.0   0.00   0.000   \n",
       "loc_og_mou_9      92254.0  138.709970  245.934517  0.0  15.56  61.840   \n",
       "std_ic_t2t_mou_9  92254.0    9.432479   53.376273  0.0   0.00   0.000   \n",
       "std_og_t2t_mou_9  92254.0   82.342919  267.184991  0.0   0.00   0.000   \n",
       "loc_ic_mou_9      92254.0  164.619293  249.845070  0.0  32.29  91.640   \n",
       "loc_og_t2t_mou_9  92254.0   44.584446  147.995390  0.0   1.36  11.260   \n",
       "std_og_t2f_mou_9  92254.0    1.042362    8.261770  0.0   0.00   0.000   \n",
       "loc_ic_t2f_mou_9  92254.0   12.173105   43.840776  0.0   0.00   0.960   \n",
       "std_og_t2c_mou_9  92254.0    0.000000    0.000000  0.0   0.00   0.000   \n",
       "std_og_mou_9      92254.0  169.664466  405.138658  0.0   0.00   8.410   \n",
       "loc_ic_t2m_mou_9  92254.0  106.155471  165.492803  0.0  18.56  56.610   \n",
       "isd_og_mou_9      92254.0    0.723892   21.310751  0.0   0.00   0.000   \n",
       "loc_ic_t2t_mou_9  92254.0   46.281794  140.130610  0.0   3.29  15.660   \n",
       "spl_og_mou_9      92254.0    4.412767   16.328227  0.0   0.00   0.000   \n",
       "std_ic_t2o_mou_9  92254.0    0.000000    0.000000  0.0   0.00   0.000   \n",
       "std_ic_t2m_mou_9  92254.0   19.620913   74.913050  0.0   0.00   1.740   \n",
       "spl_ic_mou_9      92254.0    0.163137    0.527860  0.0   0.00   0.000   \n",
       "isd_ic_mou_9      92254.0    8.063003   63.505379  0.0   0.00   0.000   \n",
       "roam_ic_mou_9     92254.0    6.343841   57.137537  0.0   0.00   0.000   \n",
       "std_ic_mou_9      92254.0   31.229344  101.982303  0.0   0.00   5.380   \n",
       "roam_og_mou_9     92254.0    8.555519   58.438186  0.0   0.00   0.000   \n",
       "onnet_mou_9       92254.0  130.302327  308.477668  0.0   5.33  29.840   \n",
       "offnet_mou_9      92254.0  190.337222  319.396092  0.0  27.13  87.290   \n",
       "spl_og_mou_8      94621.0    5.053769   17.855111  0.0   0.00   0.000   \n",
       "...                   ...         ...         ...  ...    ...     ...   \n",
       "std_ic_mou_7      96140.0   33.887833  113.720168  0.0   0.00   5.960   \n",
       "og_others_7       96140.0    0.030235    2.161717  0.0   0.00   0.000   \n",
       "spl_ic_mou_7      96140.0    0.033585    0.155725  0.0   0.00   0.000   \n",
       "roam_og_mou_7     96140.0    9.818732   58.455762  0.0   0.00   0.000   \n",
       "roam_ic_mou_7     96140.0    7.149898   73.447948  0.0   0.00   0.000   \n",
       "offnet_mou_7      96140.0  197.045133  325.862803  0.0  32.19  91.735   \n",
       "isd_ic_mou_7      96140.0    8.334936   65.219829  0.0   0.00   0.000   \n",
       "onnet_mou_7       96140.0  133.670805  308.794148  0.0   6.66  32.330   \n",
       "ic_others_7       96140.0    1.012960   12.673099  0.0   0.00   0.000   \n",
       "std_ic_t2o_mou_7  96140.0    0.000000    0.000000  0.0   0.00   0.000   \n",
       "loc_og_t2c_mou_7  96140.0    1.368500    7.533445  0.0   0.00   0.000   \n",
       "loc_og_t2f_mou_7  96140.0    3.792985   14.264986  0.0   0.00   0.000   \n",
       "std_ic_t2f_mou_7  96140.0    2.216923   16.454061  0.0   0.00   0.000   \n",
       "spl_og_mou_7      96140.0    4.978279   20.661570  0.0   0.00   0.000   \n",
       "loc_ic_t2m_mou_7  96140.0  107.120493  169.423620  0.0  18.59  57.080   \n",
       "isd_og_mou_7      96140.0    0.776572   25.603052  0.0   0.00   0.000   \n",
       "std_og_mou_7      96140.0  175.221436  408.922934  0.0   0.00  11.090   \n",
       "loc_ic_t2f_mou_7  96140.0   12.599697   42.977442  0.0   0.00   0.930   \n",
       "std_og_t2c_mou_7  96140.0    0.000000    0.000000  0.0   0.00   0.000   \n",
       "loc_ic_mou_7      96140.0  167.719540  256.242707  0.0  32.46  92.550   \n",
       "std_og_t2f_mou_7  96140.0    1.115010    8.599406  0.0   0.00   0.000   \n",
       "std_og_t2m_mou_7  96140.0   90.804137  269.347911  0.0   0.00   3.635   \n",
       "std_ic_t2t_mou_7  96140.0   10.011904   57.411971  0.0   0.00   0.000   \n",
       "std_og_t2t_mou_7  96140.0   83.299598  263.631042  0.0   0.00   0.000   \n",
       "std_ic_t2m_mou_7  96140.0   21.656415   86.521393  0.0   0.00   2.040   \n",
       "loc_og_mou_7      96140.0  141.670476  248.731086  0.0  17.48  63.685   \n",
       "loc_ic_t2t_mou_7  96140.0   47.990520  145.795055  0.0   3.23  15.740   \n",
       "std_og_t2o_mou    98981.0    0.000000    0.000000  0.0   0.00   0.000   \n",
       "loc_ic_t2o_mou    98981.0    0.000000    0.000000  0.0   0.00   0.000   \n",
       "loc_og_t2o_mou    98981.0    0.000000    0.000000  0.0   0.00   0.000   \n",
       "\n",
       "                       75%       max  null_perc  \n",
       "ic_others_9         0.0000   1005.23   7.745077  \n",
       "std_og_t2m_mou_9   48.5600  10223.43   7.745077  \n",
       "loc_og_t2m_mou_9  106.8100   4429.88   7.745077  \n",
       "std_ic_t2f_mou_9    0.0000   1431.96   7.745077  \n",
       "loc_og_t2f_mou_9    1.9400    927.41   7.745077  \n",
       "loc_og_t2c_mou_9    0.0000    339.84   7.745077  \n",
       "og_others_9         0.0000    787.79   7.745077  \n",
       "loc_og_mou_9      162.2250  11099.26   7.745077  \n",
       "std_ic_t2t_mou_9    3.5100   3819.83   7.745077  \n",
       "std_og_t2t_mou_9   28.2300   9382.58   7.745077  \n",
       "loc_ic_mou_9      202.7375  10796.29   7.745077  \n",
       "loc_og_t2t_mou_9   39.2800  10389.24   7.745077  \n",
       "std_og_t2f_mou_9    0.0000    808.49   7.745077  \n",
       "loc_ic_t2f_mou_9    8.1400   4318.28   7.745077  \n",
       "std_og_t2c_mou_9    0.0000      0.00   7.745077  \n",
       "std_og_mou_9      142.1050  11495.31   7.745077  \n",
       "loc_ic_t2m_mou_9  130.4900   5463.78   7.745077  \n",
       "isd_og_mou_9        0.0000   4244.53   7.745077  \n",
       "loc_ic_t2t_mou_9   45.1800  10598.83   7.745077  \n",
       "spl_og_mou_9        3.2300   1635.71   7.745077  \n",
       "std_ic_t2o_mou_9    0.0000      0.00   7.745077  \n",
       "std_ic_t2m_mou_9   14.2600   5689.76   7.745077  \n",
       "spl_ic_mou_9        0.0600     62.38   7.745077  \n",
       "isd_ic_mou_9        0.0000   5057.74   7.745077  \n",
       "roam_ic_mou_9       0.0000   8464.03   7.745077  \n",
       "std_ic_mou_9       25.6900   5956.66   7.745077  \n",
       "roam_og_mou_9       0.0000   4428.46   7.745077  \n",
       "onnet_mou_9       112.1300  10427.46   7.745077  \n",
       "offnet_mou_9      220.5050  10310.76   7.745077  \n",
       "spl_og_mou_8        3.9900   1390.88   5.378054  \n",
       "...                    ...       ...        ...  \n",
       "std_ic_mou_7       28.3100   6745.76   3.859039  \n",
       "og_others_7         0.0000    370.13   3.859039  \n",
       "spl_ic_mou_7        0.0000     21.33   3.859039  \n",
       "roam_og_mou_7       0.0000   2812.04   3.859039  \n",
       "roam_ic_mou_7       0.0000  15371.04   3.859039  \n",
       "offnet_mou_7      226.8150   9667.13   3.859039  \n",
       "isd_ic_mou_7        0.0000   5289.54   3.859039  \n",
       "onnet_mou_7       115.5950   8157.78   3.859039  \n",
       "ic_others_7         0.0000   1495.94   3.859039  \n",
       "std_ic_t2o_mou_7    0.0000      0.00   3.859039  \n",
       "loc_og_t2c_mou_7    0.0000    916.24   3.859039  \n",
       "loc_og_t2f_mou_7    2.0900   1196.43   3.859039  \n",
       "std_ic_t2f_mou_7    0.0000   1136.08   3.859039  \n",
       "spl_og_mou_7        3.7100   2372.51   3.859039  \n",
       "loc_ic_t2m_mou_7  130.9600   4455.83   3.859039  \n",
       "isd_og_mou_7        0.0000   5490.28   3.859039  \n",
       "std_og_mou_7      150.6150  10936.73   3.859039  \n",
       "loc_ic_t2f_mou_7    8.2825   1983.01   3.859039  \n",
       "std_og_t2c_mou_7    0.0000      0.00   3.859039  \n",
       "loc_ic_mou_7      205.8375   9669.91   3.859039  \n",
       "std_og_t2f_mou_7    0.0000    544.63   3.859039  \n",
       "std_og_t2m_mou_7   54.0400   9284.74   3.859039  \n",
       "std_ic_t2t_mou_7    4.2300   5800.93   3.859039  \n",
       "std_og_t2t_mou_7   31.1325   8133.66   3.859039  \n",
       "std_ic_t2m_mou_7   15.7400   6141.88   3.859039  \n",
       "loc_og_mou_7      164.3825   7674.78   3.859039  \n",
       "loc_ic_t2t_mou_7   45.8100   9324.66   3.859039  \n",
       "std_og_t2o_mou      0.0000      0.00   1.018010  \n",
       "loc_ic_t2o_mou      0.0000      0.00   1.018010  \n",
       "loc_og_t2o_mou      0.0000      0.00   1.018010  \n",
       "\n",
       "[119 rows x 9 columns]"
      ]
     },
     "execution_count": 65,
     "metadata": {},
     "output_type": "execute_result"
    }
   ],
   "source": [
    "master_desc_df.loc[(master_desc_df['null_perc']>0) & (master_desc_df['null_perc']<73)].sort_values(by='null_perc',ascending=False)\n",
    "\n",
    "# let us omit the bottom three columns before further analysis to check for similar data points being null across months"
   ]
  },
  {
   "cell_type": "code",
   "execution_count": 66,
   "metadata": {},
   "outputs": [
    {
     "data": {
      "text/plain": [
       "29"
      ]
     },
     "execution_count": 66,
     "metadata": {},
     "output_type": "execute_result"
    }
   ],
   "source": [
    "null_perc_col_list2 = master_desc_df.loc[(master_desc_df['null_perc']>2) & (master_desc_df['null_perc']<73)].index.tolist()\n",
    "null_perc_col_list2 = [x[:-2] for x in null_perc_col_list2]\n",
    "null_perc_col_set2 = set(null_perc_col_list2)\n",
    "len(null_perc_col_set2)\n",
    "\n",
    "# 119 - 3 = 116\n",
    "# 116/4 = 29\n",
    "# we got 29 columns as the result!\n",
    "# this means that the same datapoints are missing across months\n",
    "# let us check what these 29 columns are"
   ]
  },
  {
   "cell_type": "code",
   "execution_count": 67,
   "metadata": {},
   "outputs": [
    {
     "data": {
      "text/plain": [
       "{'ic_others',\n",
       " 'isd_ic_mou',\n",
       " 'isd_og_mou',\n",
       " 'loc_ic_mou',\n",
       " 'loc_ic_t2f_mou',\n",
       " 'loc_ic_t2m_mou',\n",
       " 'loc_ic_t2t_mou',\n",
       " 'loc_og_mou',\n",
       " 'loc_og_t2c_mou',\n",
       " 'loc_og_t2f_mou',\n",
       " 'loc_og_t2m_mou',\n",
       " 'loc_og_t2t_mou',\n",
       " 'offnet_mou',\n",
       " 'og_others',\n",
       " 'onnet_mou',\n",
       " 'roam_ic_mou',\n",
       " 'roam_og_mou',\n",
       " 'spl_ic_mou',\n",
       " 'spl_og_mou',\n",
       " 'std_ic_mou',\n",
       " 'std_ic_t2f_mou',\n",
       " 'std_ic_t2m_mou',\n",
       " 'std_ic_t2o_mou',\n",
       " 'std_ic_t2t_mou',\n",
       " 'std_og_mou',\n",
       " 'std_og_t2c_mou',\n",
       " 'std_og_t2f_mou',\n",
       " 'std_og_t2m_mou',\n",
       " 'std_og_t2t_mou'}"
      ]
     },
     "execution_count": 67,
     "metadata": {},
     "output_type": "execute_result"
    }
   ],
   "source": [
    "null_perc_col_set2"
   ]
  },
  {
   "cell_type": "code",
   "execution_count": 68,
   "metadata": {},
   "outputs": [
    {
     "data": {
      "text/html": [
       "<div>\n",
       "<style scoped>\n",
       "    .dataframe tbody tr th:only-of-type {\n",
       "        vertical-align: middle;\n",
       "    }\n",
       "\n",
       "    .dataframe tbody tr th {\n",
       "        vertical-align: top;\n",
       "    }\n",
       "\n",
       "    .dataframe thead th {\n",
       "        text-align: right;\n",
       "    }\n",
       "</style>\n",
       "<table border=\"1\" class=\"dataframe\">\n",
       "  <thead>\n",
       "    <tr style=\"text-align: right;\">\n",
       "      <th></th>\n",
       "      <th>count</th>\n",
       "      <th>unique</th>\n",
       "      <th>top</th>\n",
       "      <th>freq</th>\n",
       "    </tr>\n",
       "  </thead>\n",
       "  <tbody>\n",
       "    <tr>\n",
       "      <th>last_date_of_month_6</th>\n",
       "      <td>99999</td>\n",
       "      <td>1</td>\n",
       "      <td>6/30/2014</td>\n",
       "      <td>99999</td>\n",
       "    </tr>\n",
       "    <tr>\n",
       "      <th>last_date_of_month_7</th>\n",
       "      <td>99398</td>\n",
       "      <td>1</td>\n",
       "      <td>7/31/2014</td>\n",
       "      <td>99398</td>\n",
       "    </tr>\n",
       "    <tr>\n",
       "      <th>last_date_of_month_8</th>\n",
       "      <td>98899</td>\n",
       "      <td>1</td>\n",
       "      <td>8/31/2014</td>\n",
       "      <td>98899</td>\n",
       "    </tr>\n",
       "    <tr>\n",
       "      <th>last_date_of_month_9</th>\n",
       "      <td>98340</td>\n",
       "      <td>1</td>\n",
       "      <td>9/30/2014</td>\n",
       "      <td>98340</td>\n",
       "    </tr>\n",
       "    <tr>\n",
       "      <th>date_of_last_rech_6</th>\n",
       "      <td>98392</td>\n",
       "      <td>30</td>\n",
       "      <td>6/30/2014</td>\n",
       "      <td>16960</td>\n",
       "    </tr>\n",
       "    <tr>\n",
       "      <th>date_of_last_rech_7</th>\n",
       "      <td>98232</td>\n",
       "      <td>31</td>\n",
       "      <td>7/31/2014</td>\n",
       "      <td>17288</td>\n",
       "    </tr>\n",
       "    <tr>\n",
       "      <th>date_of_last_rech_8</th>\n",
       "      <td>96377</td>\n",
       "      <td>31</td>\n",
       "      <td>8/31/2014</td>\n",
       "      <td>14706</td>\n",
       "    </tr>\n",
       "    <tr>\n",
       "      <th>date_of_last_rech_9</th>\n",
       "      <td>95239</td>\n",
       "      <td>30</td>\n",
       "      <td>9/29/2014</td>\n",
       "      <td>22623</td>\n",
       "    </tr>\n",
       "    <tr>\n",
       "      <th>date_of_last_rech_data_6</th>\n",
       "      <td>25153</td>\n",
       "      <td>30</td>\n",
       "      <td>6/30/2014</td>\n",
       "      <td>1888</td>\n",
       "    </tr>\n",
       "    <tr>\n",
       "      <th>date_of_last_rech_data_7</th>\n",
       "      <td>25571</td>\n",
       "      <td>31</td>\n",
       "      <td>7/31/2014</td>\n",
       "      <td>1813</td>\n",
       "    </tr>\n",
       "    <tr>\n",
       "      <th>date_of_last_rech_data_8</th>\n",
       "      <td>26339</td>\n",
       "      <td>31</td>\n",
       "      <td>8/31/2014</td>\n",
       "      <td>1998</td>\n",
       "    </tr>\n",
       "    <tr>\n",
       "      <th>date_of_last_rech_data_9</th>\n",
       "      <td>25922</td>\n",
       "      <td>30</td>\n",
       "      <td>9/29/2014</td>\n",
       "      <td>2329</td>\n",
       "    </tr>\n",
       "  </tbody>\n",
       "</table>\n",
       "</div>"
      ],
      "text/plain": [
       "                          count unique        top   freq\n",
       "last_date_of_month_6      99999      1  6/30/2014  99999\n",
       "last_date_of_month_7      99398      1  7/31/2014  99398\n",
       "last_date_of_month_8      98899      1  8/31/2014  98899\n",
       "last_date_of_month_9      98340      1  9/30/2014  98340\n",
       "date_of_last_rech_6       98392     30  6/30/2014  16960\n",
       "date_of_last_rech_7       98232     31  7/31/2014  17288\n",
       "date_of_last_rech_8       96377     31  8/31/2014  14706\n",
       "date_of_last_rech_9       95239     30  9/29/2014  22623\n",
       "date_of_last_rech_data_6  25153     30  6/30/2014   1888\n",
       "date_of_last_rech_data_7  25571     31  7/31/2014   1813\n",
       "date_of_last_rech_data_8  26339     31  8/31/2014   1998\n",
       "date_of_last_rech_data_9  25922     30  9/29/2014   2329"
      ]
     },
     "execution_count": 68,
     "metadata": {},
     "output_type": "execute_result"
    }
   ],
   "source": [
    "# As the percentage of null values are less, and as all these columns are about usage, we can impute numeric null values with 0\n",
    "# before we start drops and imputations, let us also check the object columns\n",
    "master_df.select_dtypes(include='object').describe().transpose()\n",
    "\n",
    "# columns with only one unique value are not required - last_date_of_month_6,7,8,9\n",
    "# the columns with 25-27% of values can be eliminated, as our cut off is 73%\n",
    "# date of last recharge in each month can be used to extract more information\n",
    "# specifically, we are interested in extracting the time gap between last recharge date and start of churn period (01/09/2014)\n",
    "# but date of last recharge of data needs to be dropped, as around 75% of such data is null"
   ]
  },
  {
   "cell_type": "code",
   "execution_count": 106,
   "metadata": {},
   "outputs": [
    {
     "data": {
      "text/plain": [
       "(99999, 226)"
      ]
     },
     "execution_count": 106,
     "metadata": {},
     "output_type": "execute_result"
    }
   ],
   "source": [
    "#creating a copy of the dataframe for filtering required rows and columns\n",
    "filtered_df = master_df.copy()\n",
    "filtered_df.shape"
   ]
  },
  {
   "cell_type": "code",
   "execution_count": 107,
   "metadata": {},
   "outputs": [
    {
     "data": {
      "text/plain": [
       "(99999, 227)"
      ]
     },
     "execution_count": 107,
     "metadata": {},
     "output_type": "execute_result"
    }
   ],
   "source": [
    "#calculating average recharge in first two months\n",
    "filtered_df['av_rech_first_2_mnth'] = (filtered_df['total_rech_amt_6'] + filtered_df['total_rech_amt_7'])/2\n",
    "filtered_df.shape"
   ]
  },
  {
   "cell_type": "code",
   "execution_count": 108,
   "metadata": {},
   "outputs": [
    {
     "name": "stdout",
     "output_type": "stream",
     "text": [
      "<class 'pandas.core.frame.DataFrame'>\n",
      "RangeIndex: 99999 entries, 0 to 99998\n",
      "Columns: 227 entries, mobile_number to av_rech_first_2_mnth\n",
      "dtypes: float64(180), int64(35), object(12)\n",
      "memory usage: 173.2+ MB\n"
     ]
    }
   ],
   "source": [
    "filtered_df.info()"
   ]
  },
  {
   "cell_type": "code",
   "execution_count": 109,
   "metadata": {},
   "outputs": [
    {
     "data": {
      "text/plain": [
       "(99999, 191)"
      ]
     },
     "execution_count": 109,
     "metadata": {},
     "output_type": "execute_result"
    }
   ],
   "source": [
    "# Removing numeric columns with more than 73% null values\n",
    "drop_cols = master_desc_df.loc[master_desc_df['null_perc']>=73].index.tolist()\n",
    "filtered_df = filtered_df.drop(columns=drop_cols,axis=1)\n",
    "filtered_df.shape\n",
    "\n",
    "# 227 - 191 = 36 columns have been dropped"
   ]
  },
  {
   "cell_type": "code",
   "execution_count": 110,
   "metadata": {},
   "outputs": [
    {
     "data": {
      "text/plain": [
       "(99999, 187)"
      ]
     },
     "execution_count": 110,
     "metadata": {},
     "output_type": "execute_result"
    }
   ],
   "source": [
    "# removing object columns with only one unique value\n",
    "drop_cols_2 = ['last_date_of_month_6','last_date_of_month_7','last_date_of_month_8','last_date_of_month_9']\n",
    "filtered_df = filtered_df.drop(columns=drop_cols_2,axis=1)\n",
    "filtered_df.shape\n",
    "\n",
    "# 191 - 187 = 4 columns dropped"
   ]
  },
  {
   "cell_type": "code",
   "execution_count": 111,
   "metadata": {},
   "outputs": [
    {
     "data": {
      "text/plain": [
       "(99999, 183)"
      ]
     },
     "execution_count": 111,
     "metadata": {},
     "output_type": "execute_result"
    }
   ],
   "source": [
    "# removing object columns with > 73% null values\n",
    "drop_cols_3 = ['date_of_last_rech_data_6','date_of_last_rech_data_7','date_of_last_rech_data_8','date_of_last_rech_data_9']\n",
    "filtered_df = filtered_df.drop(columns=drop_cols_3,axis=1)\n",
    "filtered_df.shape\n",
    "\n",
    "# 187 - 183 = 4 more columns dropped"
   ]
  },
  {
   "cell_type": "code",
   "execution_count": 112,
   "metadata": {},
   "outputs": [
    {
     "data": {
      "text/plain": [
       "loc_ic_mou_9          7.745077\n",
       "loc_ic_t2m_mou_9      7.745077\n",
       "loc_ic_t2f_mou_9      7.745077\n",
       "roam_og_mou_9         7.745077\n",
       "std_ic_t2t_mou_9      7.745077\n",
       "loc_og_t2t_mou_9      7.745077\n",
       "std_ic_t2m_mou_9      7.745077\n",
       "std_ic_t2f_mou_9      7.745077\n",
       "loc_og_t2m_mou_9      7.745077\n",
       "std_ic_t2o_mou_9      7.745077\n",
       "std_ic_mou_9          7.745077\n",
       "std_og_t2t_mou_9      7.745077\n",
       "spl_ic_mou_9          7.745077\n",
       "loc_og_t2f_mou_9      7.745077\n",
       "isd_ic_mou_9          7.745077\n",
       "loc_og_t2c_mou_9      7.745077\n",
       "ic_others_9           7.745077\n",
       "roam_ic_mou_9         7.745077\n",
       "loc_og_mou_9          7.745077\n",
       "spl_og_mou_9          7.745077\n",
       "std_og_t2c_mou_9      7.745077\n",
       "loc_ic_t2t_mou_9      7.745077\n",
       "std_og_mou_9          7.745077\n",
       "og_others_9           7.745077\n",
       "onnet_mou_9           7.745077\n",
       "std_og_t2m_mou_9      7.745077\n",
       "std_og_t2f_mou_9      7.745077\n",
       "offnet_mou_9          7.745077\n",
       "isd_og_mou_9          7.745077\n",
       "isd_ic_mou_8          5.378054\n",
       "                        ...   \n",
       "jul_vbc_3g            0.000000\n",
       "jun_vbc_3g            0.000000\n",
       "vol_2g_mb_9           0.000000\n",
       "vol_2g_mb_8           0.000000\n",
       "vol_2g_mb_7           0.000000\n",
       "vol_2g_mb_6           0.000000\n",
       "total_og_mou_8        0.000000\n",
       "total_og_mou_9        0.000000\n",
       "sep_vbc_3g            0.000000\n",
       "total_ic_mou_6        0.000000\n",
       "total_ic_mou_7        0.000000\n",
       "total_ic_mou_8        0.000000\n",
       "total_ic_mou_9        0.000000\n",
       "total_rech_num_6      0.000000\n",
       "total_rech_num_7      0.000000\n",
       "total_rech_num_8      0.000000\n",
       "total_rech_num_9      0.000000\n",
       "total_rech_amt_6      0.000000\n",
       "total_rech_amt_7      0.000000\n",
       "total_rech_amt_8      0.000000\n",
       "total_rech_amt_9      0.000000\n",
       "max_rech_amt_6        0.000000\n",
       "max_rech_amt_7        0.000000\n",
       "max_rech_amt_8        0.000000\n",
       "max_rech_amt_9        0.000000\n",
       "last_day_rch_amt_6    0.000000\n",
       "last_day_rch_amt_7    0.000000\n",
       "last_day_rch_amt_8    0.000000\n",
       "last_day_rch_amt_9    0.000000\n",
       "mobile_number         0.000000\n",
       "Length: 183, dtype: float64"
      ]
     },
     "execution_count": 112,
     "metadata": {},
     "output_type": "execute_result"
    }
   ],
   "source": [
    "(filtered_df.isnull().sum()*100/len(filtered_df.index)).sort_values(ascending=False)"
   ]
  },
  {
   "cell_type": "code",
   "execution_count": 113,
   "metadata": {},
   "outputs": [
    {
     "data": {
      "text/plain": [
       "Index(['mobile_number', 'circle_id', 'loc_og_t2o_mou', 'std_og_t2o_mou',\n",
       "       'loc_ic_t2o_mou', 'arpu_6', 'arpu_7', 'arpu_8', 'arpu_9', 'onnet_mou_6',\n",
       "       ...\n",
       "       'sachet_3g_6', 'sachet_3g_7', 'sachet_3g_8', 'sachet_3g_9', 'aon',\n",
       "       'aug_vbc_3g', 'jul_vbc_3g', 'jun_vbc_3g', 'sep_vbc_3g',\n",
       "       'av_rech_first_2_mnth'],\n",
       "      dtype='object', length=179)"
      ]
     },
     "execution_count": 113,
     "metadata": {},
     "output_type": "execute_result"
    }
   ],
   "source": [
    "numeric_cols = filtered_df.select_dtypes(exclude=['object']).columns\n",
    "numeric_cols"
   ]
  },
  {
   "cell_type": "code",
   "execution_count": 114,
   "metadata": {},
   "outputs": [
    {
     "data": {
      "text/plain": [
       "date_of_last_rech_9     4.760048\n",
       "date_of_last_rech_8     3.622036\n",
       "date_of_last_rech_7     1.767018\n",
       "date_of_last_rech_6     1.607016\n",
       "std_og_mou_7            0.000000\n",
       "std_og_mou_6            0.000000\n",
       "std_og_t2c_mou_9        0.000000\n",
       "std_og_t2c_mou_8        0.000000\n",
       "std_og_t2c_mou_7        0.000000\n",
       "std_og_t2c_mou_6        0.000000\n",
       "std_og_t2f_mou_9        0.000000\n",
       "std_og_t2f_mou_8        0.000000\n",
       "av_rech_first_2_mnth    0.000000\n",
       "loc_og_mou_9            0.000000\n",
       "std_og_t2f_mou_7        0.000000\n",
       "std_og_t2f_mou_6        0.000000\n",
       "std_og_t2m_mou_9        0.000000\n",
       "std_og_t2m_mou_8        0.000000\n",
       "std_og_t2m_mou_7        0.000000\n",
       "std_og_t2m_mou_6        0.000000\n",
       "std_og_t2t_mou_9        0.000000\n",
       "std_og_t2t_mou_8        0.000000\n",
       "std_og_t2t_mou_7        0.000000\n",
       "std_og_mou_8            0.000000\n",
       "std_og_mou_9            0.000000\n",
       "isd_og_mou_6            0.000000\n",
       "total_og_mou_6          0.000000\n",
       "loc_ic_t2m_mou_7        0.000000\n",
       "loc_ic_t2m_mou_6        0.000000\n",
       "loc_ic_t2t_mou_9        0.000000\n",
       "                          ...   \n",
       "std_ic_t2t_mou_6        0.000000\n",
       "loc_ic_mou_9            0.000000\n",
       "loc_ic_mou_8            0.000000\n",
       "loc_ic_mou_7            0.000000\n",
       "loc_ic_mou_6            0.000000\n",
       "loc_ic_t2f_mou_9        0.000000\n",
       "sep_vbc_3g              0.000000\n",
       "std_ic_t2o_mou_7        0.000000\n",
       "std_ic_t2o_mou_8        0.000000\n",
       "std_ic_t2o_mou_9        0.000000\n",
       "spl_ic_mou_8            0.000000\n",
       "ic_others_8             0.000000\n",
       "ic_others_7             0.000000\n",
       "ic_others_6             0.000000\n",
       "isd_ic_mou_9            0.000000\n",
       "isd_ic_mou_8            0.000000\n",
       "isd_ic_mou_7            0.000000\n",
       "isd_ic_mou_6            0.000000\n",
       "spl_ic_mou_9            0.000000\n",
       "spl_ic_mou_7            0.000000\n",
       "std_ic_mou_6            0.000000\n",
       "spl_ic_mou_6            0.000000\n",
       "total_ic_mou_9          0.000000\n",
       "total_ic_mou_8          0.000000\n",
       "total_ic_mou_7          0.000000\n",
       "total_ic_mou_6          0.000000\n",
       "std_ic_mou_9            0.000000\n",
       "std_ic_mou_8            0.000000\n",
       "std_ic_mou_7            0.000000\n",
       "mobile_number           0.000000\n",
       "Length: 183, dtype: float64"
      ]
     },
     "execution_count": 114,
     "metadata": {},
     "output_type": "execute_result"
    }
   ],
   "source": [
    "filtered_df[numeric_cols]=filtered_df[numeric_cols].fillna(0)\n",
    "(filtered_df.isnull().sum()*100/len(filtered_df.index)).sort_values(ascending=False)"
   ]
  },
  {
   "cell_type": "code",
   "execution_count": 115,
   "metadata": {},
   "outputs": [
    {
     "data": {
      "text/plain": [
       "count         99999\n",
       "unique           93\n",
       "top       8/31/2014\n",
       "freq          14706\n",
       "Name: date_of_last_recharge, dtype: object"
      ]
     },
     "execution_count": 115,
     "metadata": {},
     "output_type": "execute_result"
    }
   ],
   "source": [
    "# Now we need to impute the missing values for date column\n",
    "# As we would be deleting the column with _9 later, let us impute only the missing values only for the first three columns\n",
    "# but we are specifically interested to create one column for date of last recharge by combining all three in the below manner\n",
    "# if recharge date 8 is available then date_of_last_recharge is the date in 8\n",
    "# if recharge date 8 is null but 7 is available then date_of_last_recharge is the date in 7\n",
    "# if recharge date 7 is null but 6 is available then date_of_last_recharge is the date in 6\n",
    "# if recharge date 6 is null then date_of_last_recharge is 20/05/2014 - to account (in some way, for an earlier recharge date)\n",
    "# this is because we do not know when the customer was onboarded\n",
    "from datetime import datetime\n",
    "# let us create the logic for this\n",
    "def last_recharge_date(date9,date8,date7,date6):\n",
    "    #date_9 = datetime.strptime(date9,'%m/%d/%Y').date()\n",
    "    #date_8 = datetime.strptime(date8,'%m/%d/%Y').date()\n",
    "    #date_7 = datetime.strptime(date7,'%m/%d/%Y').date()\n",
    "    #date_6 = datetime.strptime(date6,'%m/%d/%Y').date()\n",
    "\n",
    "    if pd.isnull(date8):\n",
    "        if pd.isnull(date7):\n",
    "            if pd.isnull(date6):\n",
    "                return('05/20/2014')\n",
    "            else:\n",
    "                return(date6)\n",
    "        else:\n",
    "            return(date7)\n",
    "    else:\n",
    "        return(date8)\n",
    "\n",
    "filtered_df['date_of_last_recharge'] = filtered_df.apply(lambda x: last_recharge_date(x['date_of_last_rech_9'],\n",
    "                                                                                      x['date_of_last_rech_8'],\n",
    "                                                                                     x['date_of_last_rech_7'],\n",
    "                                                                                     x['date_of_last_rech_6']), axis=1)\n",
    "# filtered_df.loc[:,['date_of_last_rech_6','date_of_last_rech_7','date_of_last_rech_8']].describe()\n",
    "filtered_df['date_of_last_recharge'].describe()\n",
    "\n",
    "# Our logic worked!\n",
    "# let us now use this column to compute the number of days between start of churn period and last recharge date"
   ]
  },
  {
   "cell_type": "code",
   "execution_count": 116,
   "metadata": {},
   "outputs": [
    {
     "data": {
      "text/plain": [
       "count                      99999\n",
       "mean      8 days 03:50:15.498154\n",
       "std      10 days 18:38:25.082442\n",
       "min              1 days 00:00:00\n",
       "25%              2 days 00:00:00\n",
       "50%              5 days 00:00:00\n",
       "75%              8 days 00:00:00\n",
       "max            104 days 00:00:00\n",
       "Name: days_last_rech_from_churn_period, dtype: object"
      ]
     },
     "execution_count": 116,
     "metadata": {},
     "output_type": "execute_result"
    }
   ],
   "source": [
    "# creating the days_last_rech_from_churn_period column\n",
    "filtered_df['start_churn_period']=datetime.strptime('09/01/2014','%m/%d/%Y').date()\n",
    "filtered_df['date_of_last_recharge']=filtered_df['date_of_last_recharge'].apply(lambda x:datetime.strptime(x,'%m/%d/%Y').date())\n",
    "filtered_df['days_last_rech_from_churn_period'] = filtered_df['start_churn_period'].sub(filtered_df['date_of_last_recharge'], axis=0)\n",
    "filtered_df['days_last_rech_from_churn_period'].describe()"
   ]
  },
  {
   "cell_type": "code",
   "execution_count": 117,
   "metadata": {},
   "outputs": [
    {
     "data": {
      "text/plain": [
       "count    99999.000000\n",
       "mean         8.159902\n",
       "std         10.776679\n",
       "min          1.000000\n",
       "25%          2.000000\n",
       "50%          5.000000\n",
       "75%          8.000000\n",
       "max        104.000000\n",
       "Name: days_last_rech_from_churn_period, dtype: float64"
      ]
     },
     "execution_count": 117,
     "metadata": {},
     "output_type": "execute_result"
    }
   ],
   "source": [
    "# converting the difference to number\n",
    "filtered_df['days_last_rech_from_churn_period'] = filtered_df['days_last_rech_from_churn_period'] / np.timedelta64(1, 'D')\n",
    "filtered_df['days_last_rech_from_churn_period'].describe()"
   ]
  },
  {
   "cell_type": "code",
   "execution_count": 118,
   "metadata": {},
   "outputs": [
    {
     "data": {
      "text/plain": [
       "(99999, 180)"
      ]
     },
     "execution_count": 118,
     "metadata": {},
     "output_type": "execute_result"
    }
   ],
   "source": [
    "# dropping all related columns that contributed to creating this derived column\n",
    "days_last_rech_from_churn_period_cols = ['date_of_last_rech_9',\n",
    "                                         'date_of_last_rech_8',\n",
    "                                         'date_of_last_rech_7',\n",
    "                                         'date_of_last_rech_6',\n",
    "                                        'start_churn_period',\n",
    "                                        'date_of_last_recharge']\n",
    "filtered_df=filtered_df.drop(columns=days_last_rech_from_churn_period_cols,axis=1)\n",
    "filtered_df.shape"
   ]
  },
  {
   "cell_type": "code",
   "execution_count": 119,
   "metadata": {},
   "outputs": [
    {
     "data": {
      "text/plain": [
       "(29979, 180)"
      ]
     },
     "execution_count": 119,
     "metadata": {},
     "output_type": "execute_result"
    }
   ],
   "source": [
    "# Finding out high value customers\n",
    "filtered_df['av_rech_first_2_mnth'] = filtered_df['av_rech_first_2_mnth'].fillna(0)\n",
    "hvcustomer_df = filtered_df[filtered_df['av_rech_first_2_mnth'] > np.percentile(filtered_df['av_rech_first_2_mnth'],70)]\n",
    "hvcustomer_df.shape\n"
   ]
  },
  {
   "cell_type": "code",
   "execution_count": 120,
   "metadata": {},
   "outputs": [
    {
     "data": {
      "text/plain": [
       "0    27390\n",
       "1     2589\n",
       "Name: Churn, dtype: int64"
      ]
     },
     "execution_count": 120,
     "metadata": {},
     "output_type": "execute_result"
    }
   ],
   "source": [
    "#hvcustomer_df['total_ic_mou_9'] = hvcustomer_df['total_ic_mou_9'].fillna(0)\n",
    "#hvcustomer_df['total_og_mou_9'] = hvcustomer_df['total_og_mou_9'].fillna(0)\n",
    "#hvcustomer_df['vol_2g_mb_9'] = hvcustomer_df['vol_2g_mb_9'].fillna(0)\n",
    "#hvcustomer_df['vol_3g_mb_9'] = hvcustomer_df['vol_3g_mb_9'].fillna(0)\n",
    "\n",
    "# Defining Churn based on last month data\n",
    "\n",
    "def defineChrun(row):\n",
    "    if ((row['total_ic_mou_9'] + row['total_og_mou_9']<=0) and (row['vol_2g_mb_9']+row['vol_3g_mb_9']<=0)):\n",
    "        return 1\n",
    "    else:\n",
    "        return 0\n",
    "\n",
    "hvcustomer_df['Churn'] = hvcustomer_df.apply(defineChrun, axis=1)\n",
    "\n",
    "hvcustomer_df['Churn'].value_counts()\n"
   ]
  },
  {
   "cell_type": "code",
   "execution_count": 121,
   "metadata": {},
   "outputs": [
    {
     "data": {
      "text/plain": [
       "9.45"
      ]
     },
     "execution_count": 121,
     "metadata": {},
     "output_type": "execute_result"
    }
   ],
   "source": [
    "# The churn rate is near to 9.5%\n",
    "round((100*2589/27390),2)"
   ]
  },
  {
   "cell_type": "code",
   "execution_count": 122,
   "metadata": {},
   "outputs": [
    {
     "data": {
      "text/plain": [
       "count    29979.000000\n",
       "mean         5.879082\n",
       "std          7.692669\n",
       "min          1.000000\n",
       "25%          2.000000\n",
       "50%          4.000000\n",
       "75%          7.000000\n",
       "max         86.000000\n",
       "Name: days_last_rech_from_churn_period, dtype: float64"
      ]
     },
     "execution_count": 122,
     "metadata": {},
     "output_type": "execute_result"
    }
   ],
   "source": [
    "# checking the hvcustomer_df['days_last_rech_from_churn_period'] column again\n",
    "hvcustomer_df['days_last_rech_from_churn_period'].describe()"
   ]
  },
  {
   "cell_type": "code",
   "execution_count": 123,
   "metadata": {},
   "outputs": [
    {
     "data": {
      "text/html": [
       "<div>\n",
       "<style scoped>\n",
       "    .dataframe tbody tr th:only-of-type {\n",
       "        vertical-align: middle;\n",
       "    }\n",
       "\n",
       "    .dataframe tbody tr th {\n",
       "        vertical-align: top;\n",
       "    }\n",
       "\n",
       "    .dataframe thead th {\n",
       "        text-align: right;\n",
       "    }\n",
       "</style>\n",
       "<table border=\"1\" class=\"dataframe\">\n",
       "  <thead>\n",
       "    <tr style=\"text-align: right;\">\n",
       "      <th></th>\n",
       "      <th>days_last_rech_from_churn_period</th>\n",
       "      <th>Churn</th>\n",
       "    </tr>\n",
       "  </thead>\n",
       "  <tbody>\n",
       "    <tr>\n",
       "      <th>count</th>\n",
       "      <td>27390.000000</td>\n",
       "      <td>27390.0</td>\n",
       "    </tr>\n",
       "    <tr>\n",
       "      <th>mean</th>\n",
       "      <td>5.205915</td>\n",
       "      <td>0.0</td>\n",
       "    </tr>\n",
       "    <tr>\n",
       "      <th>std</th>\n",
       "      <td>6.251285</td>\n",
       "      <td>0.0</td>\n",
       "    </tr>\n",
       "    <tr>\n",
       "      <th>min</th>\n",
       "      <td>1.000000</td>\n",
       "      <td>0.0</td>\n",
       "    </tr>\n",
       "    <tr>\n",
       "      <th>25%</th>\n",
       "      <td>2.000000</td>\n",
       "      <td>0.0</td>\n",
       "    </tr>\n",
       "    <tr>\n",
       "      <th>50%</th>\n",
       "      <td>3.000000</td>\n",
       "      <td>0.0</td>\n",
       "    </tr>\n",
       "    <tr>\n",
       "      <th>75%</th>\n",
       "      <td>7.000000</td>\n",
       "      <td>0.0</td>\n",
       "    </tr>\n",
       "    <tr>\n",
       "      <th>max</th>\n",
       "      <td>86.000000</td>\n",
       "      <td>0.0</td>\n",
       "    </tr>\n",
       "  </tbody>\n",
       "</table>\n",
       "</div>"
      ],
      "text/plain": [
       "       days_last_rech_from_churn_period    Churn\n",
       "count                      27390.000000  27390.0\n",
       "mean                           5.205915      0.0\n",
       "std                            6.251285      0.0\n",
       "min                            1.000000      0.0\n",
       "25%                            2.000000      0.0\n",
       "50%                            3.000000      0.0\n",
       "75%                            7.000000      0.0\n",
       "max                           86.000000      0.0"
      ]
     },
     "execution_count": 123,
     "metadata": {},
     "output_type": "execute_result"
    }
   ],
   "source": [
    "# checking how this varies with churn\n",
    "hvcustomer_df.loc[:,['days_last_rech_from_churn_period','Churn']][hvcustomer_df['Churn']==0].describe()"
   ]
  },
  {
   "cell_type": "code",
   "execution_count": 124,
   "metadata": {},
   "outputs": [
    {
     "data": {
      "text/html": [
       "<div>\n",
       "<style scoped>\n",
       "    .dataframe tbody tr th:only-of-type {\n",
       "        vertical-align: middle;\n",
       "    }\n",
       "\n",
       "    .dataframe tbody tr th {\n",
       "        vertical-align: top;\n",
       "    }\n",
       "\n",
       "    .dataframe thead th {\n",
       "        text-align: right;\n",
       "    }\n",
       "</style>\n",
       "<table border=\"1\" class=\"dataframe\">\n",
       "  <thead>\n",
       "    <tr style=\"text-align: right;\">\n",
       "      <th></th>\n",
       "      <th>days_last_rech_from_churn_period</th>\n",
       "      <th>Churn</th>\n",
       "    </tr>\n",
       "  </thead>\n",
       "  <tbody>\n",
       "    <tr>\n",
       "      <th>count</th>\n",
       "      <td>2589.000000</td>\n",
       "      <td>2589.0</td>\n",
       "    </tr>\n",
       "    <tr>\n",
       "      <th>mean</th>\n",
       "      <td>13.000772</td>\n",
       "      <td>1.0</td>\n",
       "    </tr>\n",
       "    <tr>\n",
       "      <th>std</th>\n",
       "      <td>14.709553</td>\n",
       "      <td>0.0</td>\n",
       "    </tr>\n",
       "    <tr>\n",
       "      <th>min</th>\n",
       "      <td>1.000000</td>\n",
       "      <td>1.0</td>\n",
       "    </tr>\n",
       "    <tr>\n",
       "      <th>25%</th>\n",
       "      <td>4.000000</td>\n",
       "      <td>1.0</td>\n",
       "    </tr>\n",
       "    <tr>\n",
       "      <th>50%</th>\n",
       "      <td>7.000000</td>\n",
       "      <td>1.0</td>\n",
       "    </tr>\n",
       "    <tr>\n",
       "      <th>75%</th>\n",
       "      <td>14.000000</td>\n",
       "      <td>1.0</td>\n",
       "    </tr>\n",
       "    <tr>\n",
       "      <th>max</th>\n",
       "      <td>85.000000</td>\n",
       "      <td>1.0</td>\n",
       "    </tr>\n",
       "  </tbody>\n",
       "</table>\n",
       "</div>"
      ],
      "text/plain": [
       "       days_last_rech_from_churn_period   Churn\n",
       "count                       2589.000000  2589.0\n",
       "mean                          13.000772     1.0\n",
       "std                           14.709553     0.0\n",
       "min                            1.000000     1.0\n",
       "25%                            4.000000     1.0\n",
       "50%                            7.000000     1.0\n",
       "75%                           14.000000     1.0\n",
       "max                           85.000000     1.0"
      ]
     },
     "execution_count": 124,
     "metadata": {},
     "output_type": "execute_result"
    }
   ],
   "source": [
    "hvcustomer_df.loc[:,['days_last_rech_from_churn_period','Churn']][hvcustomer_df['Churn']==1].describe()\n",
    "\n",
    "# So, for churners, avg days from start of churn period to date of last recharge is around 13 days\n",
    "# but for non-churners this is around 5 days"
   ]
  },
  {
   "cell_type": "code",
   "execution_count": 125,
   "metadata": {},
   "outputs": [
    {
     "data": {
      "text/plain": [
       "(29979, 181)"
      ]
     },
     "execution_count": 125,
     "metadata": {},
     "output_type": "execute_result"
    }
   ],
   "source": [
    "hvcustomer_df.shape"
   ]
  },
  {
   "cell_type": "code",
   "execution_count": 126,
   "metadata": {},
   "outputs": [
    {
     "data": {
      "text/plain": [
       "Churn               0.0\n",
       "isd_og_mou_7        0.0\n",
       "std_og_mou_9        0.0\n",
       "std_og_mou_8        0.0\n",
       "std_og_mou_7        0.0\n",
       "std_og_mou_6        0.0\n",
       "std_og_t2c_mou_9    0.0\n",
       "std_og_t2c_mou_8    0.0\n",
       "std_og_t2c_mou_7    0.0\n",
       "std_og_t2c_mou_6    0.0\n",
       "std_og_t2f_mou_9    0.0\n",
       "std_og_t2f_mou_8    0.0\n",
       "std_og_t2f_mou_7    0.0\n",
       "std_og_t2f_mou_6    0.0\n",
       "std_og_t2m_mou_9    0.0\n",
       "std_og_t2m_mou_8    0.0\n",
       "std_og_t2m_mou_7    0.0\n",
       "std_og_t2m_mou_6    0.0\n",
       "std_og_t2t_mou_9    0.0\n",
       "std_og_t2t_mou_8    0.0\n",
       "std_og_t2t_mou_7    0.0\n",
       "isd_og_mou_6        0.0\n",
       "isd_og_mou_8        0.0\n",
       "loc_ic_t2f_mou_6    0.0\n",
       "isd_og_mou_9        0.0\n",
       "loc_ic_t2m_mou_8    0.0\n",
       "loc_ic_t2m_mou_7    0.0\n",
       "loc_ic_t2m_mou_6    0.0\n",
       "loc_ic_t2t_mou_9    0.0\n",
       "loc_ic_t2t_mou_8    0.0\n",
       "                   ... \n",
       "std_ic_t2t_mou_7    0.0\n",
       "std_ic_t2t_mou_6    0.0\n",
       "loc_ic_mou_9        0.0\n",
       "loc_ic_mou_8        0.0\n",
       "loc_ic_mou_7        0.0\n",
       "loc_ic_mou_6        0.0\n",
       "loc_ic_t2f_mou_9    0.0\n",
       "std_ic_t2o_mou_8    0.0\n",
       "std_ic_t2o_mou_9    0.0\n",
       "std_ic_mou_6        0.0\n",
       "spl_ic_mou_9        0.0\n",
       "ic_others_9         0.0\n",
       "ic_others_8         0.0\n",
       "ic_others_7         0.0\n",
       "ic_others_6         0.0\n",
       "isd_ic_mou_9        0.0\n",
       "isd_ic_mou_8        0.0\n",
       "isd_ic_mou_7        0.0\n",
       "isd_ic_mou_6        0.0\n",
       "spl_ic_mou_8        0.0\n",
       "std_ic_mou_7        0.0\n",
       "spl_ic_mou_7        0.0\n",
       "spl_ic_mou_6        0.0\n",
       "total_ic_mou_9      0.0\n",
       "total_ic_mou_8      0.0\n",
       "total_ic_mou_7      0.0\n",
       "total_ic_mou_6      0.0\n",
       "std_ic_mou_9        0.0\n",
       "std_ic_mou_8        0.0\n",
       "mobile_number       0.0\n",
       "Length: 181, dtype: float64"
      ]
     },
     "execution_count": 126,
     "metadata": {},
     "output_type": "execute_result"
    }
   ],
   "source": [
    "(hvcustomer_df.isnull().sum()*100/len(hvcustomer_df.index)).sort_values(ascending=False)"
   ]
  },
  {
   "cell_type": "code",
   "execution_count": 127,
   "metadata": {},
   "outputs": [
    {
     "data": {
      "text/plain": [
       "(29979, 139)"
      ]
     },
     "execution_count": 127,
     "metadata": {},
     "output_type": "execute_result"
    }
   ],
   "source": [
    "# removing the churn phase columns\n",
    "\n",
    "# filtering the churn phase columns\n",
    "churn_phase_cols = hvcustomer_df.loc[:,hvcustomer_df.columns.str.endswith(\"9\")].columns.tolist()\n",
    "\n",
    "# removing the columns\n",
    "hvcustomer_df = hvcustomer_df.drop(columns=churn_phase_cols,axis=1)\n",
    "\n",
    "# checking\n",
    "hvcustomer_df.shape\n",
    "\n",
    "#now only around 140 columns are left"
   ]
  },
  {
   "cell_type": "code",
   "execution_count": 128,
   "metadata": {},
   "outputs": [
    {
     "data": {
      "text/plain": [
       "['arpu',\n",
       " 'ic_others',\n",
       " 'isd_ic_mou',\n",
       " 'isd_og_mou',\n",
       " 'last_day_rch_amt',\n",
       " 'loc_ic_mou',\n",
       " 'loc_ic_t2f_mou',\n",
       " 'loc_ic_t2m_mou',\n",
       " 'loc_ic_t2t_mou',\n",
       " 'loc_og_mou',\n",
       " 'loc_og_t2c_mou',\n",
       " 'loc_og_t2f_mou',\n",
       " 'loc_og_t2m_mou',\n",
       " 'loc_og_t2t_mou',\n",
       " 'max_rech_amt',\n",
       " 'monthly_2g',\n",
       " 'monthly_3g',\n",
       " 'offnet_mou',\n",
       " 'og_others',\n",
       " 'onnet_mou',\n",
       " 'roam_ic_mou',\n",
       " 'roam_og_mou',\n",
       " 'sachet_2g',\n",
       " 'sachet_3g',\n",
       " 'spl_ic_mou',\n",
       " 'spl_og_mou',\n",
       " 'std_ic_mou',\n",
       " 'std_ic_t2f_mou',\n",
       " 'std_ic_t2m_mou',\n",
       " 'std_ic_t2o_mou',\n",
       " 'std_ic_t2t_mou',\n",
       " 'std_og_mou',\n",
       " 'std_og_t2c_mou',\n",
       " 'std_og_t2f_mou',\n",
       " 'std_og_t2m_mou',\n",
       " 'std_og_t2t_mou',\n",
       " 'total_ic_mou',\n",
       " 'total_og_mou',\n",
       " 'total_rech_amt',\n",
       " 'total_rech_num',\n",
       " 'vol_2g_mb',\n",
       " 'vol_3g_mb']"
      ]
     },
     "execution_count": 128,
     "metadata": {},
     "output_type": "execute_result"
    }
   ],
   "source": [
    "# filtering the required names of datapoints across months\n",
    "datapoints = [x[:-2] for x in churn_phase_cols]\n",
    "datapoints = sorted(datapoints)\n",
    "datapoints\n",
    "\n",
    "# we cannot compute a direct sum of the below datapoints across four months\n",
    "# date_of_last_rech, last_day_rch_amt, max_rech_amt\n",
    "# so we will omit them from our loop of aggregated column creation"
   ]
  },
  {
   "cell_type": "code",
   "execution_count": 129,
   "metadata": {},
   "outputs": [
    {
     "data": {
      "text/plain": [
       "(29979, 187)"
      ]
     },
     "execution_count": 129,
     "metadata": {},
     "output_type": "execute_result"
    }
   ],
   "source": [
    "# First iteration of of derived columns\n",
    "\n",
    "for x in ['_6','_7','_8']:\n",
    "    \n",
    "    # 01. Total minutes of usage for each month\n",
    "    # total_mou_x = onnet_mou_x + offnet_mou_x\n",
    "    \n",
    "    total_mou = 'total_mou'+x\n",
    "    onnet_mou = 'onnet_mou'+x\n",
    "    offnet_mou = 'offnet_mou'+x\n",
    "    \n",
    "    hvcustomer_df[total_mou]=hvcustomer_df[onnet_mou]+hvcustomer_df[offnet_mou]\n",
    "    \n",
    "    # 02. Total outgoing minutes of usage within operator for each month\n",
    "    # total_og_t2t_mou_x = loc_og_t2t_mou_x + std_og_t2t_mou_x\n",
    "    \n",
    "    total_og_t2t_mou = 'total_og_t2t_mou'+x\n",
    "    loc_og_t2t_mou = 'loc_og_t2t_mou'+x\n",
    "    std_og_t2t_mou = 'std_og_t2t_mou'+x\n",
    "    \n",
    "    hvcustomer_df[total_og_t2t_mou]=hvcustomer_df[loc_og_t2t_mou]+hvcustomer_df[std_og_t2t_mou]\n",
    "    \n",
    "    # 03. Total incoming minutes of usage within operator for each month\n",
    "    # total_ic_t2t_mou_x = loc_ic_t2t_mou_x + std_ic_t2t_mou_x\n",
    "    \n",
    "    total_ic_t2t_mou = 'total_ic_t2t_mou'+x\n",
    "    loc_ic_t2t_mou = 'loc_ic_t2t_mou'+x\n",
    "    std_ic_t2t_mou = 'std_ic_t2t_mou'+x\n",
    "    \n",
    "    hvcustomer_df[total_ic_t2t_mou]=hvcustomer_df[loc_ic_t2t_mou]+hvcustomer_df[std_ic_t2t_mou]\n",
    "    \n",
    "    # 04. Total voice calls minutes of usage within operator for each month\n",
    "    # total_t2t_mou_x = total_og_t2t_mou_x + total_ic_t2t_mou_x\n",
    "    \n",
    "    total_t2t_mou = 'total_t2t_mou'+x\n",
    "    total_og_t2t_mou = 'total_og_t2t_mou'+x\n",
    "    total_ic_t2t_mou = 'total_ic_t2t_mou'+x\n",
    "    \n",
    "    hvcustomer_df[total_t2t_mou]=hvcustomer_df[total_og_t2t_mou]+hvcustomer_df[total_ic_t2t_mou]\n",
    "    \n",
    "    # 05. Total call center minutes of usage within operator for each month\n",
    "    # total_og_t2c_mou_x = loc_og_t2c_mou_x + std_og_t2c_mou_x\n",
    "    \n",
    "    total_og_t2c_mou = 'total_og_t2c_mou'+x\n",
    "    loc_og_t2c_mou = 'loc_og_t2c_mou'+x\n",
    "    std_og_t2c_mou = 'std_og_t2c_mou'+x\n",
    "    \n",
    "    hvcustomer_df[total_og_t2c_mou]=hvcustomer_df[loc_og_t2c_mou]+hvcustomer_df[std_og_t2c_mou]\n",
    "    \n",
    "    # 06. Total outgoing minutes of usage to operator fixed line for each month\n",
    "    # total_og_t2f_mou_x = loc_og_t2f_mou_x + std_og_t2f_mou_x\n",
    "    \n",
    "    total_og_t2f_mou = 'total_og_t2f_mou'+x\n",
    "    loc_og_t2f_mou = 'loc_og_t2f_mou'+x\n",
    "    std_og_t2f_mou = 'std_og_t2f_mou'+x\n",
    "    \n",
    "    hvcustomer_df[total_og_t2f_mou]=hvcustomer_df[loc_og_t2f_mou]+hvcustomer_df[std_og_t2f_mou]\n",
    "    \n",
    "    # 07. Total incoming minutes of usage from operator fixed line for each month\n",
    "    # total_ic_t2f_mou_x = loc_ic_t2f_mou_x + std_ic_t2f_mou_x\n",
    "    \n",
    "    total_ic_t2f_mou = 'total_ic_t2f_mou'+x\n",
    "    loc_ic_t2f_mou = 'loc_ic_t2f_mou'+x\n",
    "    std_ic_t2f_mou = 'std_ic_t2f_mou'+x\n",
    "    \n",
    "    hvcustomer_df[total_ic_t2f_mou]=hvcustomer_df[loc_ic_t2f_mou]+hvcustomer_df[std_ic_t2f_mou]\n",
    "    \n",
    "    # 08. Total voice calls minutes of usage with operator fixed line for each month\n",
    "    # total_t2f_mou_x = total_og_t2f_mou_x + total_ic_t2f_mou_x\n",
    "    \n",
    "    total_t2f_mou = 'total_t2f_mou'+x\n",
    "    total_og_t2f_mou = 'total_og_t2f_mou'+x\n",
    "    total_ic_t2f_mou = 'total_ic_t2f_mou'+x\n",
    "    \n",
    "    hvcustomer_df[total_t2f_mou]=hvcustomer_df[total_og_t2f_mou]+hvcustomer_df[total_ic_t2f_mou]\n",
    "    \n",
    "    # 09. Total outgoing minutes of usage with other operator's mobile for each month\n",
    "    # total_og_t2m_mou_x = loc_og_t2m_mou_x + std_og_t2m_mou_x\n",
    "    \n",
    "    total_og_t2m_mou = 'total_og_t2m_mou'+x\n",
    "    loc_og_t2m_mou = 'loc_og_t2m_mou'+x\n",
    "    std_og_t2m_mou = 'std_og_t2m_mou'+x\n",
    "    \n",
    "    hvcustomer_df[total_og_t2m_mou]=hvcustomer_df[loc_og_t2m_mou]+hvcustomer_df[std_og_t2m_mou]\n",
    "    \n",
    "    # 10. Total incoming minutes of usage with other operator's mobile for each month\n",
    "    # total_ic_t2m_mou_x = loc_ic_t2m_mou_x + std_ic_t2m_mou_x\n",
    "    \n",
    "    total_ic_t2m_mou = 'total_ic_t2m_mou'+x\n",
    "    loc_ic_t2m_mou = 'loc_ic_t2m_mou'+x\n",
    "    std_ic_t2m_mou = 'std_ic_t2m_mou'+x\n",
    "    \n",
    "    hvcustomer_df[total_ic_t2m_mou]=hvcustomer_df[loc_ic_t2m_mou]+hvcustomer_df[std_ic_t2m_mou]\n",
    "    \n",
    "    # 11. Total voice calls minutes of usage with other operator's mobile for each month\n",
    "    # total_t2m_mou_x = total_og_t2m_mou_x + total_ic_t2m_mou_x\n",
    "    \n",
    "    total_t2m_mou = 'total_t2m_mou'+x\n",
    "    total_og_t2m_mou = 'total_og_t2m_mou'+x\n",
    "    total_ic_t2m_mou = 'total_ic_t2m_mou'+x\n",
    "    \n",
    "    hvcustomer_df[total_t2m_mou]=hvcustomer_df[total_og_t2m_mou]+hvcustomer_df[total_ic_t2m_mou]\n",
    "     \n",
    "    # 12. Total ISD minutes of usage for each month\n",
    "    # isd_mou_x = isd_og_mou_x + isd_ic_mou_x\n",
    "    \n",
    "    isd_mou = 'isd_mou'+x\n",
    "    isd_og_mou = 'isd_og_mou'+x\n",
    "    isd_ic_mou = 'isd_ic_mou'+x\n",
    "    \n",
    "    hvcustomer_df[isd_mou]=hvcustomer_df[isd_og_mou]+hvcustomer_df[isd_ic_mou]\n",
    "    \n",
    "    # 13. Total roaming minutes of usage for each month\n",
    "    # roam_mou_x = roam_og_mou_x + roam_ic_mou_x\n",
    "    \n",
    "    roam_mou = 'roam_mou'+x\n",
    "    roam_og_mou = 'roam_og_mou'+x\n",
    "    roam_ic_mou = 'roam_ic_mou'+x\n",
    "    \n",
    "    hvcustomer_df[roam_mou]=hvcustomer_df[roam_og_mou]+hvcustomer_df[roam_ic_mou]\n",
    "    \n",
    "    # 14. Total special minutes of usage for each month\n",
    "    # spl_mou_x = spl_og_mou_x + spl_ic_mou_x\n",
    "    \n",
    "    spl_mou = 'spl_mou'+x\n",
    "    spl_og_mou = 'spl_og_mou'+x\n",
    "    spl_ic_mou = 'spl_ic_mou'+x\n",
    "    \n",
    "    hvcustomer_df[spl_mou]=hvcustomer_df[spl_og_mou]+hvcustomer_df[spl_ic_mou]\n",
    "    \n",
    "    # 15. Total Sachet usage per month\n",
    "    # total_sachet_x = sachet_2g_x + sachet_3g_6\n",
    "    \n",
    "    total_sachet = 'total_sachet'+x\n",
    "    sachet_2g = 'sachet_2g'+x\n",
    "    sachet_3g = 'sachet_3g'+x\n",
    "    \n",
    "    hvcustomer_df[total_sachet]=hvcustomer_df[sachet_2g]+hvcustomer_df[sachet_3g]\n",
    "    \n",
    "    # 16. Total monthly usage per month\n",
    "    # total_monthly_x = monthly_2g_x + monthly_3g_6\n",
    "\n",
    "    total_monthly = 'total_monthly'+x\n",
    "    monthly_2g = 'monthly_2g'+x\n",
    "    monthly_3g = 'monthly_3g'+x\n",
    "    \n",
    "    hvcustomer_df[total_monthly]=hvcustomer_df[monthly_2g]+hvcustomer_df[monthly_3g]\n",
    "    \n",
    "hvcustomer_df.shape"
   ]
  },
  {
   "cell_type": "code",
   "execution_count": 130,
   "metadata": {},
   "outputs": [
    {
     "data": {
      "text/plain": [
       "['arpu',\n",
       " 'ic_others',\n",
       " 'isd_ic_mou',\n",
       " 'isd_mou',\n",
       " 'isd_og_mou',\n",
       " 'last_day_rch_amt',\n",
       " 'loc_ic_mou',\n",
       " 'loc_ic_t2f_mou',\n",
       " 'loc_ic_t2m_mou',\n",
       " 'loc_ic_t2t_mou',\n",
       " 'loc_og_mou',\n",
       " 'loc_og_t2c_mou',\n",
       " 'loc_og_t2f_mou',\n",
       " 'loc_og_t2m_mou',\n",
       " 'loc_og_t2t_mou',\n",
       " 'max_rech_amt',\n",
       " 'monthly_2g',\n",
       " 'monthly_3g',\n",
       " 'offnet_mou',\n",
       " 'og_others',\n",
       " 'onnet_mou',\n",
       " 'roam_ic_mou',\n",
       " 'roam_mou',\n",
       " 'roam_og_mou',\n",
       " 'sachet_2g',\n",
       " 'sachet_3g',\n",
       " 'spl_ic_mou',\n",
       " 'spl_mou',\n",
       " 'spl_og_mou',\n",
       " 'std_ic_mou',\n",
       " 'std_ic_t2f_mou',\n",
       " 'std_ic_t2m_mou',\n",
       " 'std_ic_t2o_mou',\n",
       " 'std_ic_t2t_mou',\n",
       " 'std_og_mou',\n",
       " 'std_og_t2c_mou',\n",
       " 'std_og_t2f_mou',\n",
       " 'std_og_t2m_mou',\n",
       " 'std_og_t2t_mou',\n",
       " 'total_ic_mou',\n",
       " 'total_ic_t2f_mou',\n",
       " 'total_ic_t2m_mou',\n",
       " 'total_ic_t2t_mou',\n",
       " 'total_monthly',\n",
       " 'total_mou',\n",
       " 'total_og_mou',\n",
       " 'total_og_t2c_mou',\n",
       " 'total_og_t2f_mou',\n",
       " 'total_og_t2m_mou',\n",
       " 'total_og_t2t_mou',\n",
       " 'total_rech_amt',\n",
       " 'total_rech_num',\n",
       " 'total_sachet',\n",
       " 'total_t2f_mou',\n",
       " 'total_t2m_mou',\n",
       " 'total_t2t_mou',\n",
       " 'vol_2g_mb',\n",
       " 'vol_3g_mb']"
      ]
     },
     "execution_count": 130,
     "metadata": {},
     "output_type": "execute_result"
    }
   ],
   "source": [
    "# checking for columns available for the good phase - june and july\n",
    "all_monthly_cols=hvcustomer_df.loc[:,hvcustomer_df.columns.str.endswith(\"_6\")].columns.tolist()\n",
    "all_monthly_cols=sorted(all_monthly_cols)\n",
    "all_monthly_cols = [x[:-2] for x in all_monthly_cols]\n",
    "all_monthly_cols"
   ]
  },
  {
   "cell_type": "code",
   "execution_count": 131,
   "metadata": {},
   "outputs": [
    {
     "data": {
      "text/plain": [
       "56"
      ]
     },
     "execution_count": 131,
     "metadata": {},
     "output_type": "execute_result"
    }
   ],
   "source": [
    "# creating the list of separately computed aggregates\n",
    "datapoints2 = ['last_day_rch_amt', 'max_rech_amt']\n",
    "for x in datapoints2:\n",
    "    all_monthly_cols.remove(x)\n",
    "len(all_monthly_cols)"
   ]
  },
  {
   "cell_type": "code",
   "execution_count": 132,
   "metadata": {},
   "outputs": [
    {
     "data": {
      "text/plain": [
       "(29979, 187)"
      ]
     },
     "execution_count": 132,
     "metadata": {},
     "output_type": "execute_result"
    }
   ],
   "source": [
    "# columns before aggregation\n",
    "hvcustomer_df.shape"
   ]
  },
  {
   "cell_type": "code",
   "execution_count": 133,
   "metadata": {},
   "outputs": [
    {
     "data": {
      "text/plain": [
       "(29979, 243)"
      ]
     },
     "execution_count": 133,
     "metadata": {},
     "output_type": "execute_result"
    }
   ],
   "source": [
    "# Derived columns second iteration\n",
    "# computing the aggregate columns for the available columns\n",
    "for x in all_monthly_cols:\n",
    "    jun=x+'_6'\n",
    "    jul=x+'_7'\n",
    "    aug=x+'_8'\n",
    "    total='total_'+x\n",
    "    hvcustomer_df[total]=hvcustomer_df[jun]+hvcustomer_df[jul]+hvcustomer_df[aug]\n",
    "hvcustomer_df.shape\n",
    "\n",
    "# created 40 new aggregate columns across the good and action phases"
   ]
  },
  {
   "cell_type": "code",
   "execution_count": 43,
   "metadata": {},
   "outputs": [],
   "source": [
    "# Derived columns third iteration\n",
    "# computing the average datapoints for the \"good\" phase - june and july\n",
    "#for x in all_monthly_cols:\n",
    "#    jun=x+'_6'\n",
    "#    jul=x+'_7'\n",
    "#    new_col='av_'+x+'_good'\n",
    "#    hvcustomer_df[new_col]=(hvcustomer_df[jun]+hvcustomer_df[jul])/2\n",
    "#hvcustomer_df.shape"
   ]
  },
  {
   "cell_type": "code",
   "execution_count": 134,
   "metadata": {},
   "outputs": [
    {
     "data": {
      "text/plain": [
       "(29979, 246)"
      ]
     },
     "execution_count": 134,
     "metadata": {},
     "output_type": "execute_result"
    }
   ],
   "source": [
    "# Derived columns fourth iteration\n",
    "# aggregations for columns that do not have all monthly values\n",
    "\n",
    "# Total outgoing minutes of usage with other operator's fixed line\n",
    "# total_og_t2o_mou = loc_og_t2o_mou + std_og_t2o_mou\n",
    "\n",
    "hvcustomer_df['total_og_t2o_mou']=hvcustomer_df['loc_og_t2o_mou']+hvcustomer_df['std_og_t2o_mou']\n",
    "\n",
    "# Total incoming minutes of usage with other operator's fixed line\n",
    "# total_ic_t2o_mou = loc_ic_t2o_mou + std_ic_t2o_mou_6,7,8,9\n",
    "\n",
    "hvcustomer_df['total_ic_t2o_mou']=hvcustomer_df['loc_ic_t2o_mou']+hvcustomer_df['std_ic_t2o_mou_6']\n",
    "+hvcustomer_df['std_ic_t2o_mou_7']+hvcustomer_df['std_ic_t2o_mou_8']\n",
    "\n",
    "# Total voice calls minutes of usage with other operator's fixed line\n",
    "# total_t2o_mou = total_og_t2o_mou + total_ic_t2o_mou\n",
    "\n",
    "hvcustomer_df['total_t2o_mou']=hvcustomer_df['total_og_t2o_mou']+hvcustomer_df['total_ic_t2o_mou']\n",
    "\n",
    "\n",
    "hvcustomer_df.shape"
   ]
  },
  {
   "cell_type": "code",
   "execution_count": 136,
   "metadata": {},
   "outputs": [
    {
     "data": {
      "text/html": [
       "<div>\n",
       "<style scoped>\n",
       "    .dataframe tbody tr th:only-of-type {\n",
       "        vertical-align: middle;\n",
       "    }\n",
       "\n",
       "    .dataframe tbody tr th {\n",
       "        vertical-align: top;\n",
       "    }\n",
       "\n",
       "    .dataframe thead th {\n",
       "        text-align: right;\n",
       "    }\n",
       "</style>\n",
       "<table border=\"1\" class=\"dataframe\">\n",
       "  <thead>\n",
       "    <tr style=\"text-align: right;\">\n",
       "      <th></th>\n",
       "      <th>total_t2m_mou_6</th>\n",
       "      <th>total_t2m_mou_7</th>\n",
       "      <th>total_t2m_mou_8</th>\n",
       "      <th>total_t2o_mou</th>\n",
       "    </tr>\n",
       "  </thead>\n",
       "  <tbody>\n",
       "    <tr>\n",
       "      <th>count</th>\n",
       "      <td>29979.000000</td>\n",
       "      <td>29979.000000</td>\n",
       "      <td>29979.000000</td>\n",
       "      <td>29979.0</td>\n",
       "    </tr>\n",
       "    <tr>\n",
       "      <th>mean</th>\n",
       "      <td>576.257373</td>\n",
       "      <td>589.185534</td>\n",
       "      <td>531.364335</td>\n",
       "      <td>0.0</td>\n",
       "    </tr>\n",
       "    <tr>\n",
       "      <th>std</th>\n",
       "      <td>568.615228</td>\n",
       "      <td>580.351537</td>\n",
       "      <td>576.614946</td>\n",
       "      <td>0.0</td>\n",
       "    </tr>\n",
       "    <tr>\n",
       "      <th>min</th>\n",
       "      <td>0.000000</td>\n",
       "      <td>0.000000</td>\n",
       "      <td>0.000000</td>\n",
       "      <td>0.0</td>\n",
       "    </tr>\n",
       "    <tr>\n",
       "      <th>25%</th>\n",
       "      <td>203.620000</td>\n",
       "      <td>213.595000</td>\n",
       "      <td>157.680000</td>\n",
       "      <td>0.0</td>\n",
       "    </tr>\n",
       "    <tr>\n",
       "      <th>50%</th>\n",
       "      <td>428.650000</td>\n",
       "      <td>437.930000</td>\n",
       "      <td>384.780000</td>\n",
       "      <td>0.0</td>\n",
       "    </tr>\n",
       "    <tr>\n",
       "      <th>75%</th>\n",
       "      <td>762.015000</td>\n",
       "      <td>776.815000</td>\n",
       "      <td>713.005000</td>\n",
       "      <td>0.0</td>\n",
       "    </tr>\n",
       "    <tr>\n",
       "      <th>max</th>\n",
       "      <td>8536.540000</td>\n",
       "      <td>9441.940000</td>\n",
       "      <td>14026.490000</td>\n",
       "      <td>0.0</td>\n",
       "    </tr>\n",
       "  </tbody>\n",
       "</table>\n",
       "</div>"
      ],
      "text/plain": [
       "       total_t2m_mou_6  total_t2m_mou_7  total_t2m_mou_8  total_t2o_mou\n",
       "count     29979.000000     29979.000000     29979.000000        29979.0\n",
       "mean        576.257373       589.185534       531.364335            0.0\n",
       "std         568.615228       580.351537       576.614946            0.0\n",
       "min           0.000000         0.000000         0.000000            0.0\n",
       "25%         203.620000       213.595000       157.680000            0.0\n",
       "50%         428.650000       437.930000       384.780000            0.0\n",
       "75%         762.015000       776.815000       713.005000            0.0\n",
       "max        8536.540000      9441.940000     14026.490000            0.0"
      ]
     },
     "execution_count": 136,
     "metadata": {},
     "output_type": "execute_result"
    }
   ],
   "source": [
    "# Derived columns fifth iteration\n",
    "# share of usage with external operators in total usage\n",
    "hvcustomer_df.loc[:,['total_t2m_mou_6','total_t2m_mou_7','total_t2m_mou_8','total_t2o_mou']].describe()\n",
    "\n",
    "# T2O total is zero\n",
    "# so we can compute period total for T2M and find its share in total mou"
   ]
  },
  {
   "cell_type": "code",
   "execution_count": 139,
   "metadata": {},
   "outputs": [
    {
     "data": {
      "text/html": [
       "<div>\n",
       "<style scoped>\n",
       "    .dataframe tbody tr th:only-of-type {\n",
       "        vertical-align: middle;\n",
       "    }\n",
       "\n",
       "    .dataframe tbody tr th {\n",
       "        vertical-align: top;\n",
       "    }\n",
       "\n",
       "    .dataframe thead th {\n",
       "        text-align: right;\n",
       "    }\n",
       "</style>\n",
       "<table border=\"1\" class=\"dataframe\">\n",
       "  <thead>\n",
       "    <tr style=\"text-align: right;\">\n",
       "      <th></th>\n",
       "      <th>loc_og_t2o_mou</th>\n",
       "      <th>std_og_t2o_mou</th>\n",
       "      <th>loc_ic_t2o_mou</th>\n",
       "      <th>std_ic_t2o_mou_6</th>\n",
       "      <th>std_ic_t2o_mou_7</th>\n",
       "      <th>std_ic_t2o_mou_8</th>\n",
       "    </tr>\n",
       "  </thead>\n",
       "  <tbody>\n",
       "    <tr>\n",
       "      <th>count</th>\n",
       "      <td>29979.0</td>\n",
       "      <td>29979.0</td>\n",
       "      <td>29979.0</td>\n",
       "      <td>29979.0</td>\n",
       "      <td>29979.0</td>\n",
       "      <td>29979.0</td>\n",
       "    </tr>\n",
       "    <tr>\n",
       "      <th>mean</th>\n",
       "      <td>0.0</td>\n",
       "      <td>0.0</td>\n",
       "      <td>0.0</td>\n",
       "      <td>0.0</td>\n",
       "      <td>0.0</td>\n",
       "      <td>0.0</td>\n",
       "    </tr>\n",
       "    <tr>\n",
       "      <th>std</th>\n",
       "      <td>0.0</td>\n",
       "      <td>0.0</td>\n",
       "      <td>0.0</td>\n",
       "      <td>0.0</td>\n",
       "      <td>0.0</td>\n",
       "      <td>0.0</td>\n",
       "    </tr>\n",
       "    <tr>\n",
       "      <th>min</th>\n",
       "      <td>0.0</td>\n",
       "      <td>0.0</td>\n",
       "      <td>0.0</td>\n",
       "      <td>0.0</td>\n",
       "      <td>0.0</td>\n",
       "      <td>0.0</td>\n",
       "    </tr>\n",
       "    <tr>\n",
       "      <th>25%</th>\n",
       "      <td>0.0</td>\n",
       "      <td>0.0</td>\n",
       "      <td>0.0</td>\n",
       "      <td>0.0</td>\n",
       "      <td>0.0</td>\n",
       "      <td>0.0</td>\n",
       "    </tr>\n",
       "    <tr>\n",
       "      <th>50%</th>\n",
       "      <td>0.0</td>\n",
       "      <td>0.0</td>\n",
       "      <td>0.0</td>\n",
       "      <td>0.0</td>\n",
       "      <td>0.0</td>\n",
       "      <td>0.0</td>\n",
       "    </tr>\n",
       "    <tr>\n",
       "      <th>75%</th>\n",
       "      <td>0.0</td>\n",
       "      <td>0.0</td>\n",
       "      <td>0.0</td>\n",
       "      <td>0.0</td>\n",
       "      <td>0.0</td>\n",
       "      <td>0.0</td>\n",
       "    </tr>\n",
       "    <tr>\n",
       "      <th>max</th>\n",
       "      <td>0.0</td>\n",
       "      <td>0.0</td>\n",
       "      <td>0.0</td>\n",
       "      <td>0.0</td>\n",
       "      <td>0.0</td>\n",
       "      <td>0.0</td>\n",
       "    </tr>\n",
       "  </tbody>\n",
       "</table>\n",
       "</div>"
      ],
      "text/plain": [
       "       loc_og_t2o_mou  std_og_t2o_mou  loc_ic_t2o_mou  std_ic_t2o_mou_6  \\\n",
       "count         29979.0         29979.0         29979.0           29979.0   \n",
       "mean              0.0             0.0             0.0               0.0   \n",
       "std               0.0             0.0             0.0               0.0   \n",
       "min               0.0             0.0             0.0               0.0   \n",
       "25%               0.0             0.0             0.0               0.0   \n",
       "50%               0.0             0.0             0.0               0.0   \n",
       "75%               0.0             0.0             0.0               0.0   \n",
       "max               0.0             0.0             0.0               0.0   \n",
       "\n",
       "       std_ic_t2o_mou_7  std_ic_t2o_mou_8  \n",
       "count           29979.0           29979.0  \n",
       "mean                0.0               0.0  \n",
       "std                 0.0               0.0  \n",
       "min                 0.0               0.0  \n",
       "25%                 0.0               0.0  \n",
       "50%                 0.0               0.0  \n",
       "75%                 0.0               0.0  \n",
       "max                 0.0               0.0  "
      ]
     },
     "execution_count": 139,
     "metadata": {},
     "output_type": "execute_result"
    }
   ],
   "source": [
    "# let us check all available t2o columns\n",
    "hvcustomer_df.loc[:,['loc_og_t2o_mou','std_og_t2o_mou','loc_ic_t2o_mou','std_ic_t2o_mou_6','std_ic_t2o_mou_7','std_ic_t2o_mou_8']].describe()\n",
    "\n",
    "# so it is not useful to include these columns in calculating total monthly voice call usages"
   ]
  },
  {
   "cell_type": "code",
   "execution_count": 140,
   "metadata": {},
   "outputs": [
    {
     "data": {
      "text/html": [
       "<div>\n",
       "<style scoped>\n",
       "    .dataframe tbody tr th:only-of-type {\n",
       "        vertical-align: middle;\n",
       "    }\n",
       "\n",
       "    .dataframe tbody tr th {\n",
       "        vertical-align: top;\n",
       "    }\n",
       "\n",
       "    .dataframe thead th {\n",
       "        text-align: right;\n",
       "    }\n",
       "</style>\n",
       "<table border=\"1\" class=\"dataframe\">\n",
       "  <thead>\n",
       "    <tr style=\"text-align: right;\">\n",
       "      <th></th>\n",
       "      <th>total_ic_og_mou_6</th>\n",
       "      <th>total_ic_og_mou_7</th>\n",
       "      <th>total_ic_og_mou_8</th>\n",
       "    </tr>\n",
       "  </thead>\n",
       "  <tbody>\n",
       "    <tr>\n",
       "      <th>count</th>\n",
       "      <td>29979.000000</td>\n",
       "      <td>29979.000000</td>\n",
       "      <td>29979.000000</td>\n",
       "    </tr>\n",
       "    <tr>\n",
       "      <th>mean</th>\n",
       "      <td>974.933521</td>\n",
       "      <td>1002.782865</td>\n",
       "      <td>899.321583</td>\n",
       "    </tr>\n",
       "    <tr>\n",
       "      <th>std</th>\n",
       "      <td>784.175459</td>\n",
       "      <td>802.089549</td>\n",
       "      <td>815.463460</td>\n",
       "    </tr>\n",
       "    <tr>\n",
       "      <th>min</th>\n",
       "      <td>0.000000</td>\n",
       "      <td>0.000000</td>\n",
       "      <td>0.000000</td>\n",
       "    </tr>\n",
       "    <tr>\n",
       "      <th>25%</th>\n",
       "      <td>466.195000</td>\n",
       "      <td>489.665000</td>\n",
       "      <td>355.000000</td>\n",
       "    </tr>\n",
       "    <tr>\n",
       "      <th>50%</th>\n",
       "      <td>806.470000</td>\n",
       "      <td>830.940000</td>\n",
       "      <td>727.530000</td>\n",
       "    </tr>\n",
       "    <tr>\n",
       "      <th>75%</th>\n",
       "      <td>1274.015000</td>\n",
       "      <td>1305.035000</td>\n",
       "      <td>1213.195000</td>\n",
       "    </tr>\n",
       "    <tr>\n",
       "      <th>max</th>\n",
       "      <td>12309.760000</td>\n",
       "      <td>11166.080000</td>\n",
       "      <td>14077.950000</td>\n",
       "    </tr>\n",
       "  </tbody>\n",
       "</table>\n",
       "</div>"
      ],
      "text/plain": [
       "       total_ic_og_mou_6  total_ic_og_mou_7  total_ic_og_mou_8\n",
       "count       29979.000000       29979.000000       29979.000000\n",
       "mean          974.933521        1002.782865         899.321583\n",
       "std           784.175459         802.089549         815.463460\n",
       "min             0.000000           0.000000           0.000000\n",
       "25%           466.195000         489.665000         355.000000\n",
       "50%           806.470000         830.940000         727.530000\n",
       "75%          1274.015000        1305.035000        1213.195000\n",
       "max         12309.760000       11166.080000       14077.950000"
      ]
     },
     "execution_count": 140,
     "metadata": {},
     "output_type": "execute_result"
    }
   ],
   "source": [
    "# calculating monthly total voice call usages\n",
    "hvcustomer_df['total_ic_og_mou_6']=hvcustomer_df['total_t2t_mou_6']+hvcustomer_df['total_og_t2c_mou_6']+hvcustomer_df['total_t2f_mou_6']+hvcustomer_df['total_t2m_mou_6']\n",
    "hvcustomer_df['total_ic_og_mou_7']=hvcustomer_df['total_t2t_mou_7']+hvcustomer_df['total_og_t2c_mou_7']+hvcustomer_df['total_t2f_mou_7']+hvcustomer_df['total_t2m_mou_7']\n",
    "hvcustomer_df['total_ic_og_mou_8']=hvcustomer_df['total_t2t_mou_8']+hvcustomer_df['total_og_t2c_mou_8']+hvcustomer_df['total_t2f_mou_8']+hvcustomer_df['total_t2m_mou_8']\n",
    "hvcustomer_df.loc[:,['total_ic_og_mou_6','total_ic_og_mou_7','total_ic_og_mou_8']].describe()"
   ]
  },
  {
   "cell_type": "code",
   "execution_count": 141,
   "metadata": {},
   "outputs": [],
   "source": [
    "# function for dividing by total voice call usage\n",
    "def div_by_zero(col1,col2):\n",
    "    try:\n",
    "        return(col1/col2)\n",
    "    except ZeroDivisionError:\n",
    "        return(0)"
   ]
  },
  {
   "cell_type": "code",
   "execution_count": 142,
   "metadata": {},
   "outputs": [
    {
     "data": {
      "text/html": [
       "<div>\n",
       "<style scoped>\n",
       "    .dataframe tbody tr th:only-of-type {\n",
       "        vertical-align: middle;\n",
       "    }\n",
       "\n",
       "    .dataframe tbody tr th {\n",
       "        vertical-align: top;\n",
       "    }\n",
       "\n",
       "    .dataframe thead th {\n",
       "        text-align: right;\n",
       "    }\n",
       "</style>\n",
       "<table border=\"1\" class=\"dataframe\">\n",
       "  <thead>\n",
       "    <tr style=\"text-align: right;\">\n",
       "      <th></th>\n",
       "      <th>t2m_share_6</th>\n",
       "      <th>t2m_share_7</th>\n",
       "      <th>t2m_share_8</th>\n",
       "    </tr>\n",
       "  </thead>\n",
       "  <tbody>\n",
       "    <tr>\n",
       "      <th>count</th>\n",
       "      <td>29123.000000</td>\n",
       "      <td>29208.000000</td>\n",
       "      <td>28075.000000</td>\n",
       "    </tr>\n",
       "    <tr>\n",
       "      <th>mean</th>\n",
       "      <td>0.606767</td>\n",
       "      <td>0.605839</td>\n",
       "      <td>0.610411</td>\n",
       "    </tr>\n",
       "    <tr>\n",
       "      <th>std</th>\n",
       "      <td>0.264142</td>\n",
       "      <td>0.263764</td>\n",
       "      <td>0.260354</td>\n",
       "    </tr>\n",
       "    <tr>\n",
       "      <th>min</th>\n",
       "      <td>0.000000</td>\n",
       "      <td>0.000000</td>\n",
       "      <td>0.000000</td>\n",
       "    </tr>\n",
       "    <tr>\n",
       "      <th>25%</th>\n",
       "      <td>0.412938</td>\n",
       "      <td>0.414442</td>\n",
       "      <td>0.431658</td>\n",
       "    </tr>\n",
       "    <tr>\n",
       "      <th>50%</th>\n",
       "      <td>0.660920</td>\n",
       "      <td>0.660001</td>\n",
       "      <td>0.664323</td>\n",
       "    </tr>\n",
       "    <tr>\n",
       "      <th>75%</th>\n",
       "      <td>0.822497</td>\n",
       "      <td>0.821779</td>\n",
       "      <td>0.821254</td>\n",
       "    </tr>\n",
       "    <tr>\n",
       "      <th>max</th>\n",
       "      <td>1.000000</td>\n",
       "      <td>1.000000</td>\n",
       "      <td>1.000000</td>\n",
       "    </tr>\n",
       "  </tbody>\n",
       "</table>\n",
       "</div>"
      ],
      "text/plain": [
       "        t2m_share_6   t2m_share_7   t2m_share_8\n",
       "count  29123.000000  29208.000000  28075.000000\n",
       "mean       0.606767      0.605839      0.610411\n",
       "std        0.264142      0.263764      0.260354\n",
       "min        0.000000      0.000000      0.000000\n",
       "25%        0.412938      0.414442      0.431658\n",
       "50%        0.660920      0.660001      0.664323\n",
       "75%        0.822497      0.821779      0.821254\n",
       "max        1.000000      1.000000      1.000000"
      ]
     },
     "execution_count": 142,
     "metadata": {},
     "output_type": "execute_result"
    }
   ],
   "source": [
    "hvcustomer_df['t2m_share_6']=hvcustomer_df.apply(lambda x:div_by_zero(x['total_t2m_mou_6'],x['total_ic_og_mou_6']), axis=1)\n",
    "hvcustomer_df['t2m_share_7']=hvcustomer_df.apply(lambda x:div_by_zero(x['total_t2m_mou_7'],x['total_ic_og_mou_7']), axis=1)\n",
    "hvcustomer_df['t2m_share_8']=hvcustomer_df.apply(lambda x:div_by_zero(x['total_t2m_mou_8'],x['total_ic_og_mou_8']), axis=1)\n",
    "hvcustomer_df.loc[:,['t2m_share_6','t2m_share_7','t2m_share_8']].describe()"
   ]
  },
  {
   "cell_type": "code",
   "execution_count": 149,
   "metadata": {},
   "outputs": [
    {
     "data": {
      "text/html": [
       "<div>\n",
       "<style scoped>\n",
       "    .dataframe tbody tr th:only-of-type {\n",
       "        vertical-align: middle;\n",
       "    }\n",
       "\n",
       "    .dataframe tbody tr th {\n",
       "        vertical-align: top;\n",
       "    }\n",
       "\n",
       "    .dataframe thead th {\n",
       "        text-align: right;\n",
       "    }\n",
       "</style>\n",
       "<table border=\"1\" class=\"dataframe\">\n",
       "  <thead>\n",
       "    <tr style=\"text-align: right;\">\n",
       "      <th></th>\n",
       "      <th>t2m_share_6</th>\n",
       "      <th>total_t2m_mou_6</th>\n",
       "      <th>total_ic_og_mou_6</th>\n",
       "    </tr>\n",
       "  </thead>\n",
       "  <tbody>\n",
       "    <tr>\n",
       "      <th>count</th>\n",
       "      <td>0.0</td>\n",
       "      <td>856.0</td>\n",
       "      <td>856.0</td>\n",
       "    </tr>\n",
       "    <tr>\n",
       "      <th>mean</th>\n",
       "      <td>NaN</td>\n",
       "      <td>0.0</td>\n",
       "      <td>0.0</td>\n",
       "    </tr>\n",
       "    <tr>\n",
       "      <th>std</th>\n",
       "      <td>NaN</td>\n",
       "      <td>0.0</td>\n",
       "      <td>0.0</td>\n",
       "    </tr>\n",
       "    <tr>\n",
       "      <th>min</th>\n",
       "      <td>NaN</td>\n",
       "      <td>0.0</td>\n",
       "      <td>0.0</td>\n",
       "    </tr>\n",
       "    <tr>\n",
       "      <th>25%</th>\n",
       "      <td>NaN</td>\n",
       "      <td>0.0</td>\n",
       "      <td>0.0</td>\n",
       "    </tr>\n",
       "    <tr>\n",
       "      <th>50%</th>\n",
       "      <td>NaN</td>\n",
       "      <td>0.0</td>\n",
       "      <td>0.0</td>\n",
       "    </tr>\n",
       "    <tr>\n",
       "      <th>75%</th>\n",
       "      <td>NaN</td>\n",
       "      <td>0.0</td>\n",
       "      <td>0.0</td>\n",
       "    </tr>\n",
       "    <tr>\n",
       "      <th>max</th>\n",
       "      <td>NaN</td>\n",
       "      <td>0.0</td>\n",
       "      <td>0.0</td>\n",
       "    </tr>\n",
       "  </tbody>\n",
       "</table>\n",
       "</div>"
      ],
      "text/plain": [
       "       t2m_share_6  total_t2m_mou_6  total_ic_og_mou_6\n",
       "count          0.0            856.0              856.0\n",
       "mean           NaN              0.0                0.0\n",
       "std            NaN              0.0                0.0\n",
       "min            NaN              0.0                0.0\n",
       "25%            NaN              0.0                0.0\n",
       "50%            NaN              0.0                0.0\n",
       "75%            NaN              0.0                0.0\n",
       "max            NaN              0.0                0.0"
      ]
     },
     "execution_count": 149,
     "metadata": {},
     "output_type": "execute_result"
    }
   ],
   "source": [
    "hvcustomer_df.loc[:,['t2m_share_6','total_t2m_mou_6','total_ic_og_mou_6']][hvcustomer_df['t2m_share_6'].isnull()].describe()\n",
    "\n",
    "# for all these cases, we can impute 0"
   ]
  },
  {
   "cell_type": "code",
   "execution_count": 150,
   "metadata": {},
   "outputs": [
    {
     "data": {
      "text/html": [
       "<div>\n",
       "<style scoped>\n",
       "    .dataframe tbody tr th:only-of-type {\n",
       "        vertical-align: middle;\n",
       "    }\n",
       "\n",
       "    .dataframe tbody tr th {\n",
       "        vertical-align: top;\n",
       "    }\n",
       "\n",
       "    .dataframe thead th {\n",
       "        text-align: right;\n",
       "    }\n",
       "</style>\n",
       "<table border=\"1\" class=\"dataframe\">\n",
       "  <thead>\n",
       "    <tr style=\"text-align: right;\">\n",
       "      <th></th>\n",
       "      <th>t2m_share_6</th>\n",
       "      <th>t2m_share_7</th>\n",
       "      <th>t2m_share_8</th>\n",
       "    </tr>\n",
       "  </thead>\n",
       "  <tbody>\n",
       "    <tr>\n",
       "      <th>count</th>\n",
       "      <td>29979.000000</td>\n",
       "      <td>29979.000000</td>\n",
       "      <td>29979.000000</td>\n",
       "    </tr>\n",
       "    <tr>\n",
       "      <th>mean</th>\n",
       "      <td>0.589442</td>\n",
       "      <td>0.590258</td>\n",
       "      <td>0.571643</td>\n",
       "    </tr>\n",
       "    <tr>\n",
       "      <th>std</th>\n",
       "      <td>0.279270</td>\n",
       "      <td>0.277451</td>\n",
       "      <td>0.292645</td>\n",
       "    </tr>\n",
       "    <tr>\n",
       "      <th>min</th>\n",
       "      <td>0.000000</td>\n",
       "      <td>0.000000</td>\n",
       "      <td>0.000000</td>\n",
       "    </tr>\n",
       "    <tr>\n",
       "      <th>25%</th>\n",
       "      <td>0.383537</td>\n",
       "      <td>0.389214</td>\n",
       "      <td>0.357863</td>\n",
       "    </tr>\n",
       "    <tr>\n",
       "      <th>50%</th>\n",
       "      <td>0.650353</td>\n",
       "      <td>0.650960</td>\n",
       "      <td>0.639389</td>\n",
       "    </tr>\n",
       "    <tr>\n",
       "      <th>75%</th>\n",
       "      <td>0.818075</td>\n",
       "      <td>0.817819</td>\n",
       "      <td>0.811399</td>\n",
       "    </tr>\n",
       "    <tr>\n",
       "      <th>max</th>\n",
       "      <td>1.000000</td>\n",
       "      <td>1.000000</td>\n",
       "      <td>1.000000</td>\n",
       "    </tr>\n",
       "  </tbody>\n",
       "</table>\n",
       "</div>"
      ],
      "text/plain": [
       "        t2m_share_6   t2m_share_7   t2m_share_8\n",
       "count  29979.000000  29979.000000  29979.000000\n",
       "mean       0.589442      0.590258      0.571643\n",
       "std        0.279270      0.277451      0.292645\n",
       "min        0.000000      0.000000      0.000000\n",
       "25%        0.383537      0.389214      0.357863\n",
       "50%        0.650353      0.650960      0.639389\n",
       "75%        0.818075      0.817819      0.811399\n",
       "max        1.000000      1.000000      1.000000"
      ]
     },
     "execution_count": 150,
     "metadata": {},
     "output_type": "execute_result"
    }
   ],
   "source": [
    "# imputing derived columns with 0\n",
    "hvcustomer_df.loc[:,['t2m_share_6','t2m_share_7','t2m_share_8']]=hvcustomer_df.loc[:,['t2m_share_6','t2m_share_7','t2m_share_8']].fillna(0)\n",
    "hvcustomer_df.loc[:,['t2m_share_6','t2m_share_7','t2m_share_8']].describe()"
   ]
  },
  {
   "cell_type": "code",
   "execution_count": 153,
   "metadata": {},
   "outputs": [
    {
     "data": {
      "text/plain": [
       "count    29979.000000\n",
       "mean         0.599491\n",
       "std          0.263859\n",
       "min          0.000000\n",
       "25%          0.410312\n",
       "50%          0.655629\n",
       "75%          0.813106\n",
       "max          1.000000\n",
       "Name: t2m_share_good, dtype: float64"
      ]
     },
     "execution_count": 153,
     "metadata": {},
     "output_type": "execute_result"
    }
   ],
   "source": [
    "# creating the share for good phase (june and july)\n",
    "hvcustomer_df['total_ic_og_mou_good']=hvcustomer_df['total_ic_og_mou_6']+hvcustomer_df['total_ic_og_mou_7']\n",
    "hvcustomer_df['total_t2m_mou_good']=hvcustomer_df['total_t2m_mou_6']+hvcustomer_df['total_t2m_mou_7']\n",
    "hvcustomer_df['t2m_share_good']=hvcustomer_df.apply(lambda x:div_by_zero(x['total_t2m_mou_good'],x['total_ic_og_mou_good']), axis=1)\n",
    "hvcustomer_df['t2m_share_good']=hvcustomer_df['t2m_share_good'].fillna(0)\n",
    "hvcustomer_df['t2m_share_good'].describe()"
   ]
  },
  {
   "cell_type": "code",
   "execution_count": 156,
   "metadata": {},
   "outputs": [
    {
     "data": {
      "text/html": [
       "<div>\n",
       "<style scoped>\n",
       "    .dataframe tbody tr th:only-of-type {\n",
       "        vertical-align: middle;\n",
       "    }\n",
       "\n",
       "    .dataframe tbody tr th {\n",
       "        vertical-align: top;\n",
       "    }\n",
       "\n",
       "    .dataframe thead th {\n",
       "        text-align: right;\n",
       "    }\n",
       "</style>\n",
       "<table border=\"1\" class=\"dataframe\">\n",
       "  <thead>\n",
       "    <tr style=\"text-align: right;\">\n",
       "      <th></th>\n",
       "      <th>t2m_share_good</th>\n",
       "      <th>t2m_share_6</th>\n",
       "      <th>t2m_share_7</th>\n",
       "      <th>t2m_share_8</th>\n",
       "      <th>Churn</th>\n",
       "    </tr>\n",
       "  </thead>\n",
       "  <tbody>\n",
       "    <tr>\n",
       "      <th>count</th>\n",
       "      <td>27390.000000</td>\n",
       "      <td>27390.000000</td>\n",
       "      <td>27390.000000</td>\n",
       "      <td>27390.000000</td>\n",
       "      <td>27390.0</td>\n",
       "    </tr>\n",
       "    <tr>\n",
       "      <th>mean</th>\n",
       "      <td>0.604320</td>\n",
       "      <td>0.595187</td>\n",
       "      <td>0.599194</td>\n",
       "      <td>0.598734</td>\n",
       "      <td>0.0</td>\n",
       "    </tr>\n",
       "    <tr>\n",
       "      <th>std</th>\n",
       "      <td>0.258183</td>\n",
       "      <td>0.273275</td>\n",
       "      <td>0.268851</td>\n",
       "      <td>0.270164</td>\n",
       "      <td>0.0</td>\n",
       "    </tr>\n",
       "    <tr>\n",
       "      <th>min</th>\n",
       "      <td>0.000000</td>\n",
       "      <td>0.000000</td>\n",
       "      <td>0.000000</td>\n",
       "      <td>0.000000</td>\n",
       "      <td>0.0</td>\n",
       "    </tr>\n",
       "    <tr>\n",
       "      <th>25%</th>\n",
       "      <td>0.422790</td>\n",
       "      <td>0.399008</td>\n",
       "      <td>0.408599</td>\n",
       "      <td>0.414715</td>\n",
       "      <td>0.0</td>\n",
       "    </tr>\n",
       "    <tr>\n",
       "      <th>50%</th>\n",
       "      <td>0.658469</td>\n",
       "      <td>0.655218</td>\n",
       "      <td>0.656760</td>\n",
       "      <td>0.657420</td>\n",
       "      <td>0.0</td>\n",
       "    </tr>\n",
       "    <tr>\n",
       "      <th>75%</th>\n",
       "      <td>0.811850</td>\n",
       "      <td>0.816844</td>\n",
       "      <td>0.817821</td>\n",
       "      <td>0.816833</td>\n",
       "      <td>0.0</td>\n",
       "    </tr>\n",
       "    <tr>\n",
       "      <th>max</th>\n",
       "      <td>1.000000</td>\n",
       "      <td>1.000000</td>\n",
       "      <td>1.000000</td>\n",
       "      <td>1.000000</td>\n",
       "      <td>0.0</td>\n",
       "    </tr>\n",
       "  </tbody>\n",
       "</table>\n",
       "</div>"
      ],
      "text/plain": [
       "       t2m_share_good   t2m_share_6   t2m_share_7   t2m_share_8    Churn\n",
       "count    27390.000000  27390.000000  27390.000000  27390.000000  27390.0\n",
       "mean         0.604320      0.595187      0.599194      0.598734      0.0\n",
       "std          0.258183      0.273275      0.268851      0.270164      0.0\n",
       "min          0.000000      0.000000      0.000000      0.000000      0.0\n",
       "25%          0.422790      0.399008      0.408599      0.414715      0.0\n",
       "50%          0.658469      0.655218      0.656760      0.657420      0.0\n",
       "75%          0.811850      0.816844      0.817821      0.816833      0.0\n",
       "max          1.000000      1.000000      1.000000      1.000000      0.0"
      ]
     },
     "execution_count": 156,
     "metadata": {},
     "output_type": "execute_result"
    }
   ],
   "source": [
    "hvcustomer_df.loc[:,['t2m_share_good','t2m_share_6','t2m_share_7','t2m_share_8','Churn']][hvcustomer_df['Churn']==0].describe()\n",
    "\n",
    "# for non-churners, the mean share of t2m is hovering around 60%"
   ]
  },
  {
   "cell_type": "code",
   "execution_count": 157,
   "metadata": {},
   "outputs": [
    {
     "data": {
      "text/html": [
       "<div>\n",
       "<style scoped>\n",
       "    .dataframe tbody tr th:only-of-type {\n",
       "        vertical-align: middle;\n",
       "    }\n",
       "\n",
       "    .dataframe tbody tr th {\n",
       "        vertical-align: top;\n",
       "    }\n",
       "\n",
       "    .dataframe thead th {\n",
       "        text-align: right;\n",
       "    }\n",
       "</style>\n",
       "<table border=\"1\" class=\"dataframe\">\n",
       "  <thead>\n",
       "    <tr style=\"text-align: right;\">\n",
       "      <th></th>\n",
       "      <th>t2m_share_good</th>\n",
       "      <th>t2m_share_6</th>\n",
       "      <th>t2m_share_7</th>\n",
       "      <th>t2m_share_8</th>\n",
       "      <th>Churn</th>\n",
       "    </tr>\n",
       "  </thead>\n",
       "  <tbody>\n",
       "    <tr>\n",
       "      <th>count</th>\n",
       "      <td>2589.000000</td>\n",
       "      <td>2589.000000</td>\n",
       "      <td>2589.000000</td>\n",
       "      <td>2589.000000</td>\n",
       "      <td>2589.0</td>\n",
       "    </tr>\n",
       "    <tr>\n",
       "      <th>mean</th>\n",
       "      <td>0.548406</td>\n",
       "      <td>0.528666</td>\n",
       "      <td>0.495715</td>\n",
       "      <td>0.285031</td>\n",
       "      <td>1.0</td>\n",
       "    </tr>\n",
       "    <tr>\n",
       "      <th>std</th>\n",
       "      <td>0.313282</td>\n",
       "      <td>0.330202</td>\n",
       "      <td>0.341968</td>\n",
       "      <td>0.360044</td>\n",
       "      <td>0.0</td>\n",
       "    </tr>\n",
       "    <tr>\n",
       "      <th>min</th>\n",
       "      <td>0.000000</td>\n",
       "      <td>0.000000</td>\n",
       "      <td>0.000000</td>\n",
       "      <td>0.000000</td>\n",
       "      <td>1.0</td>\n",
       "    </tr>\n",
       "    <tr>\n",
       "      <th>25%</th>\n",
       "      <td>0.262220</td>\n",
       "      <td>0.220144</td>\n",
       "      <td>0.171807</td>\n",
       "      <td>0.000000</td>\n",
       "      <td>1.0</td>\n",
       "    </tr>\n",
       "    <tr>\n",
       "      <th>50%</th>\n",
       "      <td>0.602616</td>\n",
       "      <td>0.581979</td>\n",
       "      <td>0.526377</td>\n",
       "      <td>0.000000</td>\n",
       "      <td>1.0</td>\n",
       "    </tr>\n",
       "    <tr>\n",
       "      <th>75%</th>\n",
       "      <td>0.833718</td>\n",
       "      <td>0.834823</td>\n",
       "      <td>0.817227</td>\n",
       "      <td>0.628213</td>\n",
       "      <td>1.0</td>\n",
       "    </tr>\n",
       "    <tr>\n",
       "      <th>max</th>\n",
       "      <td>1.000000</td>\n",
       "      <td>1.000000</td>\n",
       "      <td>1.000000</td>\n",
       "      <td>1.000000</td>\n",
       "      <td>1.0</td>\n",
       "    </tr>\n",
       "  </tbody>\n",
       "</table>\n",
       "</div>"
      ],
      "text/plain": [
       "       t2m_share_good  t2m_share_6  t2m_share_7  t2m_share_8   Churn\n",
       "count     2589.000000  2589.000000  2589.000000  2589.000000  2589.0\n",
       "mean         0.548406     0.528666     0.495715     0.285031     1.0\n",
       "std          0.313282     0.330202     0.341968     0.360044     0.0\n",
       "min          0.000000     0.000000     0.000000     0.000000     1.0\n",
       "25%          0.262220     0.220144     0.171807     0.000000     1.0\n",
       "50%          0.602616     0.581979     0.526377     0.000000     1.0\n",
       "75%          0.833718     0.834823     0.817227     0.628213     1.0\n",
       "max          1.000000     1.000000     1.000000     1.000000     1.0"
      ]
     },
     "execution_count": 157,
     "metadata": {},
     "output_type": "execute_result"
    }
   ],
   "source": [
    "hvcustomer_df.loc[:,['t2m_share_good','t2m_share_6','t2m_share_7','t2m_share_8','Churn']][hvcustomer_df['Churn']==1].describe()\n",
    "\n",
    "# in contrast to expectations, the share of t2m usage for churners is decreasing over time\n",
    "# in any case, let us include these columns and check how they impact our models"
   ]
  },
  {
   "cell_type": "code",
   "execution_count": 158,
   "metadata": {},
   "outputs": [
    {
     "data": {
      "text/plain": [
       "Index([], dtype='object')"
      ]
     },
     "execution_count": 158,
     "metadata": {},
     "output_type": "execute_result"
    }
   ],
   "source": [
    "categorical_cols = hvcustomer_df.select_dtypes(include=['object']).columns\n",
    "categorical_cols"
   ]
  },
  {
   "cell_type": "code",
   "execution_count": 159,
   "metadata": {},
   "outputs": [
    {
     "data": {
      "text/plain": [
       "[]"
      ]
     },
     "execution_count": 159,
     "metadata": {},
     "output_type": "execute_result"
    }
   ],
   "source": [
    "date_column_names = [x for x in hvcustomer_df.columns if 'date' in x]\n",
    "date_column_names"
   ]
  },
  {
   "cell_type": "code",
   "execution_count": 160,
   "metadata": {},
   "outputs": [
    {
     "data": {
      "text/plain": [
       "[]"
      ]
     },
     "execution_count": 160,
     "metadata": {},
     "output_type": "execute_result"
    }
   ],
   "source": [
    "# cross check to verify there is no column related to month 9\n",
    "mnth9_column_names = [x for x in hvcustomer_df.columns if '_9' in x]\n",
    "mnth9_column_names"
   ]
  },
  {
   "cell_type": "code",
   "execution_count": 161,
   "metadata": {},
   "outputs": [
    {
     "data": {
      "text/plain": [
       "7     1\n",
       "8     0\n",
       "13    0\n",
       "16    0\n",
       "17    0\n",
       "Name: Churn, dtype: int64"
      ]
     },
     "execution_count": 161,
     "metadata": {},
     "output_type": "execute_result"
    }
   ],
   "source": [
    "# So finally there is no categorical columns left in the dataset and we can proceed with the PCA further.\n",
    "\n",
    "from sklearn.model_selection import train_test_split\n",
    "\n",
    "# Putting feature variable to X\n",
    "X = hvcustomer_df.drop(['Churn','mobile_number'],axis=1)\n",
    "\n",
    "# Putting response variable to y\n",
    "y = hvcustomer_df['Churn']\n",
    "\n",
    "y.head()"
   ]
  },
  {
   "cell_type": "code",
   "execution_count": 162,
   "metadata": {},
   "outputs": [],
   "source": [
    "# Splitting the data into train and test\n",
    "X_train, X_test, y_train, y_test = train_test_split(X,y, train_size=0.7,test_size=0.3,random_state=100)"
   ]
  },
  {
   "cell_type": "code",
   "execution_count": 163,
   "metadata": {},
   "outputs": [
    {
     "data": {
      "text/html": [
       "<div>\n",
       "<style scoped>\n",
       "    .dataframe tbody tr th:only-of-type {\n",
       "        vertical-align: middle;\n",
       "    }\n",
       "\n",
       "    .dataframe tbody tr th {\n",
       "        vertical-align: top;\n",
       "    }\n",
       "\n",
       "    .dataframe thead th {\n",
       "        text-align: right;\n",
       "    }\n",
       "</style>\n",
       "<table border=\"1\" class=\"dataframe\">\n",
       "  <thead>\n",
       "    <tr style=\"text-align: right;\">\n",
       "      <th></th>\n",
       "      <th>circle_id</th>\n",
       "      <th>loc_og_t2o_mou</th>\n",
       "      <th>std_og_t2o_mou</th>\n",
       "      <th>loc_ic_t2o_mou</th>\n",
       "      <th>arpu_6</th>\n",
       "      <th>arpu_7</th>\n",
       "      <th>arpu_8</th>\n",
       "      <th>onnet_mou_6</th>\n",
       "      <th>onnet_mou_7</th>\n",
       "      <th>onnet_mou_8</th>\n",
       "      <th>...</th>\n",
       "      <th>total_t2o_mou</th>\n",
       "      <th>total_ic_og_mou_6</th>\n",
       "      <th>total_ic_og_mou_7</th>\n",
       "      <th>total_ic_og_mou_8</th>\n",
       "      <th>t2m_share_6</th>\n",
       "      <th>t2m_share_7</th>\n",
       "      <th>t2m_share_8</th>\n",
       "      <th>total_ic_og_mou_good</th>\n",
       "      <th>total_t2m_mou_good</th>\n",
       "      <th>t2m_share_good</th>\n",
       "    </tr>\n",
       "  </thead>\n",
       "  <tbody>\n",
       "    <tr>\n",
       "      <th>88105</th>\n",
       "      <td>0.0</td>\n",
       "      <td>0.0</td>\n",
       "      <td>0.0</td>\n",
       "      <td>0.0</td>\n",
       "      <td>-1.276418</td>\n",
       "      <td>0.129817</td>\n",
       "      <td>0.873099</td>\n",
       "      <td>-0.644685</td>\n",
       "      <td>-0.524232</td>\n",
       "      <td>-0.463189</td>\n",
       "      <td>...</td>\n",
       "      <td>0.0</td>\n",
       "      <td>-1.244798</td>\n",
       "      <td>0.530325</td>\n",
       "      <td>1.921647</td>\n",
       "      <td>-2.112818</td>\n",
       "      <td>1.299189</td>\n",
       "      <td>1.354321</td>\n",
       "      <td>-0.385019</td>\n",
       "      <td>0.183913</td>\n",
       "      <td>1.330947</td>\n",
       "    </tr>\n",
       "    <tr>\n",
       "      <th>34588</th>\n",
       "      <td>0.0</td>\n",
       "      <td>0.0</td>\n",
       "      <td>0.0</td>\n",
       "      <td>0.0</td>\n",
       "      <td>-0.532197</td>\n",
       "      <td>-0.155187</td>\n",
       "      <td>-0.733325</td>\n",
       "      <td>-0.544468</td>\n",
       "      <td>-0.555446</td>\n",
       "      <td>-0.540589</td>\n",
       "      <td>...</td>\n",
       "      <td>0.0</td>\n",
       "      <td>-0.923285</td>\n",
       "      <td>-0.991137</td>\n",
       "      <td>-0.887076</td>\n",
       "      <td>0.165738</td>\n",
       "      <td>0.191770</td>\n",
       "      <td>0.914987</td>\n",
       "      <td>-1.058718</td>\n",
       "      <td>-0.830741</td>\n",
       "      <td>0.150517</td>\n",
       "    </tr>\n",
       "    <tr>\n",
       "      <th>16623</th>\n",
       "      <td>0.0</td>\n",
       "      <td>0.0</td>\n",
       "      <td>0.0</td>\n",
       "      <td>0.0</td>\n",
       "      <td>0.669662</td>\n",
       "      <td>-0.193021</td>\n",
       "      <td>-0.036721</td>\n",
       "      <td>-0.465636</td>\n",
       "      <td>-0.578691</td>\n",
       "      <td>-0.551898</td>\n",
       "      <td>...</td>\n",
       "      <td>0.0</td>\n",
       "      <td>-0.302778</td>\n",
       "      <td>-0.267202</td>\n",
       "      <td>-0.534294</td>\n",
       "      <td>0.533872</td>\n",
       "      <td>0.747204</td>\n",
       "      <td>0.788519</td>\n",
       "      <td>-0.314899</td>\n",
       "      <td>0.010139</td>\n",
       "      <td>0.642291</td>\n",
       "    </tr>\n",
       "    <tr>\n",
       "      <th>54904</th>\n",
       "      <td>0.0</td>\n",
       "      <td>0.0</td>\n",
       "      <td>0.0</td>\n",
       "      <td>0.0</td>\n",
       "      <td>-0.314969</td>\n",
       "      <td>0.199922</td>\n",
       "      <td>0.945057</td>\n",
       "      <td>-0.202151</td>\n",
       "      <td>-0.433204</td>\n",
       "      <td>-0.451363</td>\n",
       "      <td>...</td>\n",
       "      <td>0.0</td>\n",
       "      <td>-0.284314</td>\n",
       "      <td>0.779363</td>\n",
       "      <td>2.164783</td>\n",
       "      <td>-0.156224</td>\n",
       "      <td>0.982790</td>\n",
       "      <td>1.330924</td>\n",
       "      <td>0.279642</td>\n",
       "      <td>0.621865</td>\n",
       "      <td>0.617785</td>\n",
       "    </tr>\n",
       "    <tr>\n",
       "      <th>33555</th>\n",
       "      <td>0.0</td>\n",
       "      <td>0.0</td>\n",
       "      <td>0.0</td>\n",
       "      <td>0.0</td>\n",
       "      <td>-0.253807</td>\n",
       "      <td>-0.583049</td>\n",
       "      <td>-0.165798</td>\n",
       "      <td>-0.635502</td>\n",
       "      <td>-0.605319</td>\n",
       "      <td>-0.506014</td>\n",
       "      <td>...</td>\n",
       "      <td>0.0</td>\n",
       "      <td>0.275753</td>\n",
       "      <td>-0.267326</td>\n",
       "      <td>0.317425</td>\n",
       "      <td>1.425572</td>\n",
       "      <td>1.263583</td>\n",
       "      <td>1.330490</td>\n",
       "      <td>0.001612</td>\n",
       "      <td>0.721894</td>\n",
       "      <td>1.399925</td>\n",
       "    </tr>\n",
       "  </tbody>\n",
       "</table>\n",
       "<p>5 rows × 253 columns</p>\n",
       "</div>"
      ],
      "text/plain": [
       "       circle_id  loc_og_t2o_mou  std_og_t2o_mou  loc_ic_t2o_mou    arpu_6  \\\n",
       "88105        0.0             0.0             0.0             0.0 -1.276418   \n",
       "34588        0.0             0.0             0.0             0.0 -0.532197   \n",
       "16623        0.0             0.0             0.0             0.0  0.669662   \n",
       "54904        0.0             0.0             0.0             0.0 -0.314969   \n",
       "33555        0.0             0.0             0.0             0.0 -0.253807   \n",
       "\n",
       "         arpu_7    arpu_8  onnet_mou_6  onnet_mou_7  onnet_mou_8  \\\n",
       "88105  0.129817  0.873099    -0.644685    -0.524232    -0.463189   \n",
       "34588 -0.155187 -0.733325    -0.544468    -0.555446    -0.540589   \n",
       "16623 -0.193021 -0.036721    -0.465636    -0.578691    -0.551898   \n",
       "54904  0.199922  0.945057    -0.202151    -0.433204    -0.451363   \n",
       "33555 -0.583049 -0.165798    -0.635502    -0.605319    -0.506014   \n",
       "\n",
       "            ...        total_t2o_mou  total_ic_og_mou_6  total_ic_og_mou_7  \\\n",
       "88105       ...                  0.0          -1.244798           0.530325   \n",
       "34588       ...                  0.0          -0.923285          -0.991137   \n",
       "16623       ...                  0.0          -0.302778          -0.267202   \n",
       "54904       ...                  0.0          -0.284314           0.779363   \n",
       "33555       ...                  0.0           0.275753          -0.267326   \n",
       "\n",
       "       total_ic_og_mou_8  t2m_share_6  t2m_share_7  t2m_share_8  \\\n",
       "88105           1.921647    -2.112818     1.299189     1.354321   \n",
       "34588          -0.887076     0.165738     0.191770     0.914987   \n",
       "16623          -0.534294     0.533872     0.747204     0.788519   \n",
       "54904           2.164783    -0.156224     0.982790     1.330924   \n",
       "33555           0.317425     1.425572     1.263583     1.330490   \n",
       "\n",
       "       total_ic_og_mou_good  total_t2m_mou_good  t2m_share_good  \n",
       "88105             -0.385019            0.183913        1.330947  \n",
       "34588             -1.058718           -0.830741        0.150517  \n",
       "16623             -0.314899            0.010139        0.642291  \n",
       "54904              0.279642            0.621865        0.617785  \n",
       "33555              0.001612            0.721894        1.399925  \n",
       "\n",
       "[5 rows x 253 columns]"
      ]
     },
     "execution_count": 163,
     "metadata": {},
     "output_type": "execute_result"
    }
   ],
   "source": [
    "from sklearn.preprocessing import StandardScaler\n",
    "\n",
    "scaler = StandardScaler()\n",
    "\n",
    "cols = X.columns\n",
    "\n",
    "X_train[cols] = scaler.fit_transform(X_train[cols])\n",
    "\n",
    "X_train.head()"
   ]
  },
  {
   "cell_type": "code",
   "execution_count": 164,
   "metadata": {},
   "outputs": [
    {
     "data": {
      "text/plain": [
       "(20985, 253)"
      ]
     },
     "execution_count": 164,
     "metadata": {},
     "output_type": "execute_result"
    }
   ],
   "source": [
    "X_train.shape"
   ]
  },
  {
   "cell_type": "markdown",
   "metadata": {},
   "source": [
    "#### PCA and Classification Models"
   ]
  },
  {
   "cell_type": "code",
   "execution_count": 165,
   "metadata": {},
   "outputs": [],
   "source": [
    "from sklearn.decomposition import PCA\n",
    "pca = PCA(svd_solver='randomized', random_state=42)"
   ]
  },
  {
   "cell_type": "code",
   "execution_count": 166,
   "metadata": {},
   "outputs": [
    {
     "data": {
      "text/plain": [
       "PCA(copy=True, iterated_power='auto', n_components=None, random_state=42,\n",
       "  svd_solver='randomized', tol=0.0, whiten=False)"
      ]
     },
     "execution_count": 166,
     "metadata": {},
     "output_type": "execute_result"
    }
   ],
   "source": [
    "pca.fit(X_train)"
   ]
  },
  {
   "cell_type": "code",
   "execution_count": 167,
   "metadata": {},
   "outputs": [
    {
     "data": {
      "text/plain": [
       "array([[-9.90674206e-17, -1.11022302e-16, -1.38777878e-17, ...,\n",
       "         1.71445324e-01,  1.34163768e-01, -1.07375792e-03],\n",
       "       [ 1.28902217e-17, -1.38777878e-17,  1.11022302e-16, ...,\n",
       "        -1.65458860e-02,  4.43969200e-02,  7.88497874e-02],\n",
       "       [ 3.96563022e-18, -2.08166817e-17,  5.55111512e-17, ...,\n",
       "         1.70441594e-02, -1.39693762e-01, -1.87372679e-01],\n",
       "       ...,\n",
       "       [ 0.00000000e+00,  9.28186559e-17,  3.27624614e-18, ...,\n",
       "         1.17260993e-16, -6.52509627e-17,  1.71938075e-19],\n",
       "       [ 0.00000000e+00, -2.89542875e-17, -1.92680240e-16, ...,\n",
       "        -8.73007599e-17,  8.66808525e-18,  1.10406619e-18],\n",
       "       [ 0.00000000e+00, -1.42676600e-01,  8.47361597e-02, ...,\n",
       "         5.09344409e-02,  3.57102503e-02, -1.24553146e-15]])"
      ]
     },
     "execution_count": 167,
     "metadata": {},
     "output_type": "execute_result"
    }
   ],
   "source": [
    "pca.components_"
   ]
  },
  {
   "cell_type": "code",
   "execution_count": 168,
   "metadata": {},
   "outputs": [
    {
     "data": {
      "text/html": [
       "<div>\n",
       "<style scoped>\n",
       "    .dataframe tbody tr th:only-of-type {\n",
       "        vertical-align: middle;\n",
       "    }\n",
       "\n",
       "    .dataframe tbody tr th {\n",
       "        vertical-align: top;\n",
       "    }\n",
       "\n",
       "    .dataframe thead th {\n",
       "        text-align: right;\n",
       "    }\n",
       "</style>\n",
       "<table border=\"1\" class=\"dataframe\">\n",
       "  <thead>\n",
       "    <tr style=\"text-align: right;\">\n",
       "      <th></th>\n",
       "      <th>PC1</th>\n",
       "      <th>PC2</th>\n",
       "      <th>Feature</th>\n",
       "    </tr>\n",
       "  </thead>\n",
       "  <tbody>\n",
       "    <tr>\n",
       "      <th>0</th>\n",
       "      <td>-9.906742e-17</td>\n",
       "      <td>1.289022e-17</td>\n",
       "      <td>circle_id</td>\n",
       "    </tr>\n",
       "    <tr>\n",
       "      <th>1</th>\n",
       "      <td>-1.110223e-16</td>\n",
       "      <td>-1.387779e-17</td>\n",
       "      <td>loc_og_t2o_mou</td>\n",
       "    </tr>\n",
       "    <tr>\n",
       "      <th>2</th>\n",
       "      <td>-1.387779e-17</td>\n",
       "      <td>1.110223e-16</td>\n",
       "      <td>std_og_t2o_mou</td>\n",
       "    </tr>\n",
       "    <tr>\n",
       "      <th>3</th>\n",
       "      <td>3.469447e-18</td>\n",
       "      <td>5.551115e-17</td>\n",
       "      <td>loc_ic_t2o_mou</td>\n",
       "    </tr>\n",
       "    <tr>\n",
       "      <th>4</th>\n",
       "      <td>8.506436e-02</td>\n",
       "      <td>-7.096640e-04</td>\n",
       "      <td>arpu_6</td>\n",
       "    </tr>\n",
       "  </tbody>\n",
       "</table>\n",
       "</div>"
      ],
      "text/plain": [
       "            PC1           PC2         Feature\n",
       "0 -9.906742e-17  1.289022e-17       circle_id\n",
       "1 -1.110223e-16 -1.387779e-17  loc_og_t2o_mou\n",
       "2 -1.387779e-17  1.110223e-16  std_og_t2o_mou\n",
       "3  3.469447e-18  5.551115e-17  loc_ic_t2o_mou\n",
       "4  8.506436e-02 -7.096640e-04          arpu_6"
      ]
     },
     "execution_count": 168,
     "metadata": {},
     "output_type": "execute_result"
    }
   ],
   "source": [
    "colnames = list(X_train.columns)\n",
    "pcs_df = pd.DataFrame({'PC1':pca.components_[0],'PC2':pca.components_[1], 'Feature':colnames})\n",
    "pcs_df.head()"
   ]
  },
  {
   "cell_type": "code",
   "execution_count": 169,
   "metadata": {},
   "outputs": [
    {
     "data": {
      "image/png": "[encoded data removed]",
      "text/plain": [
       "<Figure size 576x576 with 1 Axes>"
      ]
     },
     "metadata": {
      "needs_background": "light"
     },
     "output_type": "display_data"
    }
   ],
   "source": [
    "%matplotlib inline\n",
    "fig = plt.figure(figsize = (8,8))\n",
    "plt.scatter(pcs_df.PC1, pcs_df.PC2)\n",
    "plt.xlabel('Principal Component 1')\n",
    "plt.ylabel('Principal Component 2')\n",
    "for i, txt in enumerate(pcs_df.Feature):\n",
    "    plt.annotate(txt, (pcs_df.PC1[i],pcs_df.PC2[i]))\n",
    "plt.tight_layout()\n",
    "plt.show()"
   ]
  },
  {
   "cell_type": "code",
   "execution_count": 170,
   "metadata": {},
   "outputs": [
    {
     "data": {
      "image/png": "[encoded data removed]",
      "text/plain": [
       "<Figure size 864x576 with 1 Axes>"
      ]
     },
     "metadata": {
      "needs_background": "light"
     },
     "output_type": "display_data"
    }
   ],
   "source": [
    "#Making the screeplot - plotting the cumulative variance against the number of components\n",
    "%matplotlib inline\n",
    "fig = plt.figure(figsize = (12,8))\n",
    "plt.plot(np.cumsum(pca.explained_variance_ratio_))\n",
    "plt.xlabel('number of components')\n",
    "plt.ylabel('cumulative explained variance')\n",
    "plt.show()"
   ]
  },
  {
   "cell_type": "code",
   "execution_count": 171,
   "metadata": {},
   "outputs": [],
   "source": [
    "#Using incremental PCA for efficiency - saves a lot of time on larger datasets\n",
    "from sklearn.decomposition import IncrementalPCA\n",
    "pca_final = IncrementalPCA(n_components=70)"
   ]
  },
  {
   "cell_type": "code",
   "execution_count": 172,
   "metadata": {},
   "outputs": [
    {
     "data": {
      "text/plain": [
       "(20985, 70)"
      ]
     },
     "execution_count": 172,
     "metadata": {},
     "output_type": "execute_result"
    }
   ],
   "source": [
    "df_train_pca = pca_final.fit_transform(X_train)\n",
    "df_train_pca.shape"
   ]
  },
  {
   "cell_type": "code",
   "execution_count": 173,
   "metadata": {},
   "outputs": [],
   "source": [
    "#creating correlation matrix for the principal components\n",
    "corrmat = np.corrcoef(df_train_pca.transpose())"
   ]
  },
  {
   "cell_type": "code",
   "execution_count": 174,
   "metadata": {},
   "outputs": [
    {
     "data": {
      "text/plain": [
       "<matplotlib.axes._subplots.AxesSubplot at 0x26500424588>"
      ]
     },
     "execution_count": 174,
     "metadata": {},
     "output_type": "execute_result"
    },
    {
     "data": {
      "image/png": "[encoded data removed]",
      "text/plain": [
       "<Figure size 1440x720 with 2 Axes>"
      ]
     },
     "metadata": {
      "needs_background": "light"
     },
     "output_type": "display_data"
    }
   ],
   "source": [
    "#plotting the correlation matrix\n",
    "%matplotlib inline\n",
    "plt.figure(figsize = (20,10))\n",
    "sns.heatmap(corrmat,annot = False)"
   ]
  },
  {
   "cell_type": "markdown",
   "metadata": {},
   "source": [
    "- Proceeding with Logistic regression on PCA"
   ]
  },
  {
   "cell_type": "code",
   "execution_count": 175,
   "metadata": {},
   "outputs": [],
   "source": [
    "# Logistic Regression on PCA"
   ]
  },
  {
   "cell_type": "code",
   "execution_count": 176,
   "metadata": {},
   "outputs": [],
   "source": [
    "#Training the model on the train data\n",
    "from sklearn.linear_model import LogisticRegression\n",
    "from sklearn import metrics\n",
    "\n",
    "learner_pca = LogisticRegression()\n",
    "model_pca = learner_pca.fit(df_train_pca,y_train)"
   ]
  },
  {
   "cell_type": "code",
   "execution_count": 177,
   "metadata": {},
   "outputs": [
    {
     "data": {
      "text/plain": [
       "'0.9'"
      ]
     },
     "execution_count": 177,
     "metadata": {},
     "output_type": "execute_result"
    }
   ],
   "source": [
    "#Making prediction on the train data\n",
    "pred_probs_train = model_pca.predict_proba(df_train_pca)[:,1]\n",
    "\"{:2.2}\".format(metrics.roc_auc_score(y_train, pred_probs_train))"
   ]
  },
  {
   "cell_type": "code",
   "execution_count": 178,
   "metadata": {},
   "outputs": [
    {
     "data": {
      "text/plain": [
       "array([0.01193745, 0.04420456, 0.00157511, ..., 0.01528731, 0.04995379,\n",
       "       0.00952161])"
      ]
     },
     "execution_count": 178,
     "metadata": {},
     "output_type": "execute_result"
    }
   ],
   "source": [
    "pred_probs_train"
   ]
  },
  {
   "cell_type": "code",
   "execution_count": 179,
   "metadata": {},
   "outputs": [
    {
     "data": {
      "text/html": [
       "<div>\n",
       "<style scoped>\n",
       "    .dataframe tbody tr th:only-of-type {\n",
       "        vertical-align: middle;\n",
       "    }\n",
       "\n",
       "    .dataframe tbody tr th {\n",
       "        vertical-align: top;\n",
       "    }\n",
       "\n",
       "    .dataframe thead th {\n",
       "        text-align: right;\n",
       "    }\n",
       "</style>\n",
       "<table border=\"1\" class=\"dataframe\">\n",
       "  <thead>\n",
       "    <tr style=\"text-align: right;\">\n",
       "      <th></th>\n",
       "      <th>Churn_Train</th>\n",
       "      <th>Churn_Train_Prob</th>\n",
       "      <th>CustID</th>\n",
       "    </tr>\n",
       "  </thead>\n",
       "  <tbody>\n",
       "    <tr>\n",
       "      <th>0</th>\n",
       "      <td>0</td>\n",
       "      <td>0.011937</td>\n",
       "      <td>88105</td>\n",
       "    </tr>\n",
       "    <tr>\n",
       "      <th>1</th>\n",
       "      <td>0</td>\n",
       "      <td>0.044205</td>\n",
       "      <td>34588</td>\n",
       "    </tr>\n",
       "    <tr>\n",
       "      <th>2</th>\n",
       "      <td>0</td>\n",
       "      <td>0.001575</td>\n",
       "      <td>16623</td>\n",
       "    </tr>\n",
       "    <tr>\n",
       "      <th>3</th>\n",
       "      <td>0</td>\n",
       "      <td>0.019026</td>\n",
       "      <td>54904</td>\n",
       "    </tr>\n",
       "    <tr>\n",
       "      <th>4</th>\n",
       "      <td>0</td>\n",
       "      <td>0.057256</td>\n",
       "      <td>33555</td>\n",
       "    </tr>\n",
       "  </tbody>\n",
       "</table>\n",
       "</div>"
      ],
      "text/plain": [
       "   Churn_Train  Churn_Train_Prob  CustID\n",
       "0            0          0.011937   88105\n",
       "1            0          0.044205   34588\n",
       "2            0          0.001575   16623\n",
       "3            0          0.019026   54904\n",
       "4            0          0.057256   33555"
      ]
     },
     "execution_count": 179,
     "metadata": {},
     "output_type": "execute_result"
    }
   ],
   "source": [
    "# Framing the details for further analysis and optimization\n",
    "prediction_df = pd.DataFrame({'Churn_Train':y_train.values, 'Churn_Train_Prob':pred_probs_train})\n",
    "prediction_df['CustID'] = y_train.index\n",
    "prediction_df.head()"
   ]
  },
  {
   "cell_type": "code",
   "execution_count": 181,
   "metadata": {},
   "outputs": [
    {
     "data": {
      "text/html": [
       "<div>\n",
       "<style scoped>\n",
       "    .dataframe tbody tr th:only-of-type {\n",
       "        vertical-align: middle;\n",
       "    }\n",
       "\n",
       "    .dataframe tbody tr th {\n",
       "        vertical-align: top;\n",
       "    }\n",
       "\n",
       "    .dataframe thead th {\n",
       "        text-align: right;\n",
       "    }\n",
       "</style>\n",
       "<table border=\"1\" class=\"dataframe\">\n",
       "  <thead>\n",
       "    <tr style=\"text-align: right;\">\n",
       "      <th></th>\n",
       "      <th>Churn_Train</th>\n",
       "      <th>Churn_Train_Prob</th>\n",
       "      <th>CustID</th>\n",
       "      <th>0.0</th>\n",
       "      <th>0.1</th>\n",
       "      <th>0.2</th>\n",
       "      <th>0.3</th>\n",
       "      <th>0.4</th>\n",
       "      <th>0.5</th>\n",
       "      <th>0.6</th>\n",
       "      <th>0.7</th>\n",
       "      <th>0.8</th>\n",
       "      <th>0.9</th>\n",
       "    </tr>\n",
       "  </thead>\n",
       "  <tbody>\n",
       "    <tr>\n",
       "      <th>0</th>\n",
       "      <td>0</td>\n",
       "      <td>0.011937</td>\n",
       "      <td>88105</td>\n",
       "      <td>1</td>\n",
       "      <td>0</td>\n",
       "      <td>0</td>\n",
       "      <td>0</td>\n",
       "      <td>0</td>\n",
       "      <td>0</td>\n",
       "      <td>0</td>\n",
       "      <td>0</td>\n",
       "      <td>0</td>\n",
       "      <td>0</td>\n",
       "    </tr>\n",
       "    <tr>\n",
       "      <th>1</th>\n",
       "      <td>0</td>\n",
       "      <td>0.044205</td>\n",
       "      <td>34588</td>\n",
       "      <td>1</td>\n",
       "      <td>0</td>\n",
       "      <td>0</td>\n",
       "      <td>0</td>\n",
       "      <td>0</td>\n",
       "      <td>0</td>\n",
       "      <td>0</td>\n",
       "      <td>0</td>\n",
       "      <td>0</td>\n",
       "      <td>0</td>\n",
       "    </tr>\n",
       "    <tr>\n",
       "      <th>2</th>\n",
       "      <td>0</td>\n",
       "      <td>0.001575</td>\n",
       "      <td>16623</td>\n",
       "      <td>1</td>\n",
       "      <td>0</td>\n",
       "      <td>0</td>\n",
       "      <td>0</td>\n",
       "      <td>0</td>\n",
       "      <td>0</td>\n",
       "      <td>0</td>\n",
       "      <td>0</td>\n",
       "      <td>0</td>\n",
       "      <td>0</td>\n",
       "    </tr>\n",
       "    <tr>\n",
       "      <th>3</th>\n",
       "      <td>0</td>\n",
       "      <td>0.019026</td>\n",
       "      <td>54904</td>\n",
       "      <td>1</td>\n",
       "      <td>0</td>\n",
       "      <td>0</td>\n",
       "      <td>0</td>\n",
       "      <td>0</td>\n",
       "      <td>0</td>\n",
       "      <td>0</td>\n",
       "      <td>0</td>\n",
       "      <td>0</td>\n",
       "      <td>0</td>\n",
       "    </tr>\n",
       "    <tr>\n",
       "      <th>4</th>\n",
       "      <td>0</td>\n",
       "      <td>0.057256</td>\n",
       "      <td>33555</td>\n",
       "      <td>1</td>\n",
       "      <td>0</td>\n",
       "      <td>0</td>\n",
       "      <td>0</td>\n",
       "      <td>0</td>\n",
       "      <td>0</td>\n",
       "      <td>0</td>\n",
       "      <td>0</td>\n",
       "      <td>0</td>\n",
       "      <td>0</td>\n",
       "    </tr>\n",
       "  </tbody>\n",
       "</table>\n",
       "</div>"
      ],
      "text/plain": [
       "   Churn_Train  Churn_Train_Prob  CustID  0.0  0.1  0.2  0.3  0.4  0.5  0.6  \\\n",
       "0            0          0.011937   88105    1    0    0    0    0    0    0   \n",
       "1            0          0.044205   34588    1    0    0    0    0    0    0   \n",
       "2            0          0.001575   16623    1    0    0    0    0    0    0   \n",
       "3            0          0.019026   54904    1    0    0    0    0    0    0   \n",
       "4            0          0.057256   33555    1    0    0    0    0    0    0   \n",
       "\n",
       "   0.7  0.8  0.9  \n",
       "0    0    0    0  \n",
       "1    0    0    0  \n",
       "2    0    0    0  \n",
       "3    0    0    0  \n",
       "4    0    0    0  "
      ]
     },
     "execution_count": 181,
     "metadata": {},
     "output_type": "execute_result"
    }
   ],
   "source": [
    "# Let's create columns with different probability cutoffs \n",
    "numbers = [float(x)/10 for x in range(10)]\n",
    "for i in numbers:\n",
    "    prediction_df[i]= prediction_df.Churn_Train_Prob.map(lambda x: 1 if x > i else 0)\n",
    "prediction_df.head()"
   ]
  },
  {
   "cell_type": "code",
   "execution_count": 182,
   "metadata": {},
   "outputs": [
    {
     "name": "stdout",
     "output_type": "stream",
     "text": [
      "     prob  accuracy     sensi     speci\n",
      "0.0   0.0  0.084537  1.000000  0.000000\n",
      "0.1   0.1  0.855087  0.812852  0.858987\n",
      "0.2   0.2  0.913939  0.695603  0.934100\n",
      "0.3   0.3  0.930141  0.607666  0.959919\n",
      "0.4   0.4  0.936621  0.523675  0.974754\n",
      "0.5   0.5  0.934954  0.387260  0.985529\n",
      "0.6   0.6  0.931237  0.271702  0.992140\n",
      "0.7   0.7  0.927520  0.187711  0.995836\n",
      "0.8   0.8  0.923469  0.111048  0.998490\n",
      "0.9   0.9  0.919180  0.046787  0.999740\n"
     ]
    }
   ],
   "source": [
    "# Now let's calculate accuracy sensitivity and specificity for various probability cutoffs.\n",
    "cutoff_df = pd.DataFrame( columns = ['prob','accuracy','sensi','speci'])\n",
    "from sklearn.metrics import confusion_matrix\n",
    "\n",
    "# TP = confusion[1,1] # true positive \n",
    "# TN = confusion[0,0] # true negatives\n",
    "# FP = confusion[0,1] # false positives\n",
    "# FN = confusion[1,0] # false negatives\n",
    "\n",
    "num = [0.0,0.1,0.2,0.3,0.4,0.5,0.6,0.7,0.8,0.9]\n",
    "for i in num:\n",
    "    cm1 = metrics.confusion_matrix(prediction_df.Churn_Train, prediction_df[i] )\n",
    "    total1=sum(sum(cm1))\n",
    "    accuracy = (cm1[0,0]+cm1[1,1])/total1\n",
    "    \n",
    "    speci = cm1[0,0]/(cm1[0,0]+cm1[0,1])\n",
    "    sensi = cm1[1,1]/(cm1[1,0]+cm1[1,1])\n",
    "    cutoff_df.loc[i] =[ i ,accuracy,sensi,speci]\n",
    "print(cutoff_df)"
   ]
  },
  {
   "cell_type": "code",
   "execution_count": 183,
   "metadata": {},
   "outputs": [
    {
     "data": {
      "image/png": "[encoded data removed]",
      "text/plain": [
       "<Figure size 432x288 with 1 Axes>"
      ]
     },
     "metadata": {
      "needs_background": "light"
     },
     "output_type": "display_data"
    }
   ],
   "source": [
    "# Let's plot accuracy sensitivity and specificity for various probabilities.\n",
    "cutoff_df.plot.line(x='prob', y=['accuracy','sensi','speci'])\n",
    "plt.show()"
   ]
  },
  {
   "cell_type": "code",
   "execution_count": 184,
   "metadata": {},
   "outputs": [
    {
     "name": "stdout",
     "output_type": "stream",
     "text": [
      "448\n"
     ]
    }
   ],
   "source": [
    "# code goes to find the optimum cutoff for the probability to define churn\n",
    "prediction_df['Opt_predicted'] = prediction_df.Churn_Train_Prob.map(lambda x: 1 if x > 0.15 else 0)\n",
    "\n",
    "metrics.accuracy_score(prediction_df.Churn_Train, prediction_df['Opt_predicted'])\n",
    "confusion_metrics = metrics.confusion_matrix(prediction_df.Churn_Train, prediction_df['Opt_predicted'])\n",
    "print(confusion_metrics[1,0])"
   ]
  },
  {
   "cell_type": "code",
   "execution_count": 185,
   "metadata": {},
   "outputs": [
    {
     "name": "stdout",
     "output_type": "stream",
     "text": [
      "0.7474633596392334\n"
     ]
    }
   ],
   "source": [
    "TP = confusion_metrics[1,1]\n",
    "FN = confusion_metrics[1,0]\n",
    "sensitivity = TP/(TP+FN)\n",
    "print(sensitivity)"
   ]
  },
  {
   "cell_type": "code",
   "execution_count": 186,
   "metadata": {},
   "outputs": [
    {
     "data": {
      "text/plain": [
       "0.8963068858708602"
      ]
     },
     "execution_count": 186,
     "metadata": {},
     "output_type": "execute_result"
    }
   ],
   "source": [
    "metrics.accuracy_score(prediction_df.Churn_Train, prediction_df.Opt_predicted)"
   ]
  },
  {
   "cell_type": "code",
   "execution_count": 187,
   "metadata": {},
   "outputs": [
    {
     "data": {
      "text/plain": [
       "(8994, 70)"
      ]
     },
     "execution_count": 187,
     "metadata": {},
     "output_type": "execute_result"
    }
   ],
   "source": [
    "#Applying selected components to the test data - 16 components\n",
    "X_test[cols] = scaler.transform(X_test[cols])\n",
    "df_test_pca = pca_final.transform(X_test)\n",
    "df_test_pca.shape"
   ]
  },
  {
   "cell_type": "code",
   "execution_count": 188,
   "metadata": {},
   "outputs": [
    {
     "data": {
      "text/plain": [
       "'0.9'"
      ]
     },
     "execution_count": 188,
     "metadata": {},
     "output_type": "execute_result"
    }
   ],
   "source": [
    "#Making prediction on the test data\n",
    "pred_probs_test = model_pca.predict_proba(df_test_pca)[:,1]\n",
    "\"{:2.2}\".format(metrics.roc_auc_score(y_test, pred_probs_test))"
   ]
  },
  {
   "cell_type": "code",
   "execution_count": 189,
   "metadata": {},
   "outputs": [],
   "source": [
    "from sklearn.metrics import precision_recall_curve\n",
    "p, r, thresholds = precision_recall_curve(prediction_df.Churn_Train, prediction_df.Churn_Train_Prob)"
   ]
  },
  {
   "cell_type": "code",
   "execution_count": 191,
   "metadata": {},
   "outputs": [
    {
     "data": {
      "image/png": "[encoded data removed]",
      "text/plain": [
       "<Figure size 432x288 with 1 Axes>"
      ]
     },
     "metadata": {
      "needs_background": "light"
     },
     "output_type": "display_data"
    },
    {
     "name": "stdout",
     "output_type": "stream",
     "text": [
      "[0.31267697 0.31313806] [0.5971831  0.59751973] [0.59751973 0.59751973]\n"
     ]
    }
   ],
   "source": [
    "plt.plot(thresholds, p[:-1], \"g-\")\n",
    "plt.plot(thresholds, r[:-1], \"r-\")\n",
    "\n",
    "#checking where precision and recall are changing direction\n",
    "\n",
    "idx = np.argwhere(np.diff(np.sign(p - r))).flatten()\n",
    "\n",
    "#Plotting the point of intersection of precision and recall\n",
    "\n",
    "plt.plot(thresholds[idx], p[idx], 'bo')\n",
    "\n",
    "plt.show()\n",
    "\n",
    "#Printing the value of the threshold for which precision and recall are intersecting\n",
    "\n",
    "print(thresholds[idx],p[idx],r[idx])"
   ]
  },
  {
   "cell_type": "code",
   "execution_count": 192,
   "metadata": {},
   "outputs": [
    {
     "name": "stdout",
     "output_type": "stream",
     "text": [
      "722\n"
     ]
    }
   ],
   "source": [
    "prediction_df['0.32_predicted'] = prediction_df.Churn_Train_Prob.map(lambda x: 1 if x > 0.32 else 0)\n",
    "\n",
    "metrics.accuracy_score(prediction_df.Churn_Train, prediction_df['0.32_predicted'])\n",
    "confusion_metrics = metrics.confusion_matrix(prediction_df.Churn_Train, prediction_df['0.32_predicted'])\n",
    "print(confusion_metrics[1,0])"
   ]
  },
  {
   "cell_type": "code",
   "execution_count": 193,
   "metadata": {},
   "outputs": [
    {
     "name": "stdout",
     "output_type": "stream",
     "text": [
      "0.593010146561443\n"
     ]
    }
   ],
   "source": [
    "TP = confusion_metrics[1,1]\n",
    "FN = confusion_metrics[1,0]\n",
    "sensitivity = TP/(TP+FN)\n",
    "print(sensitivity)"
   ]
  },
  {
   "cell_type": "code",
   "execution_count": 195,
   "metadata": {},
   "outputs": [
    {
     "data": {
      "text/plain": [
       "0.9323326185370503"
      ]
     },
     "execution_count": 195,
     "metadata": {},
     "output_type": "execute_result"
    }
   ],
   "source": [
    "metrics.accuracy_score(prediction_df.Churn_Train, prediction_df['0.32_predicted'])"
   ]
  },
  {
   "cell_type": "code",
   "execution_count": 196,
   "metadata": {},
   "outputs": [
    {
     "data": {
      "text/plain": [
       "array([5.13618373e-05, 6.32068038e-03, 1.32662297e-02, ...,\n",
       "       2.24702439e-02, 5.33892273e-05, 1.02184603e-02])"
      ]
     },
     "execution_count": 196,
     "metadata": {},
     "output_type": "execute_result"
    }
   ],
   "source": [
    "pred_probs_test"
   ]
  },
  {
   "cell_type": "code",
   "execution_count": 197,
   "metadata": {},
   "outputs": [
    {
     "data": {
      "text/html": [
       "<div>\n",
       "<style scoped>\n",
       "    .dataframe tbody tr th:only-of-type {\n",
       "        vertical-align: middle;\n",
       "    }\n",
       "\n",
       "    .dataframe tbody tr th {\n",
       "        vertical-align: top;\n",
       "    }\n",
       "\n",
       "    .dataframe thead th {\n",
       "        text-align: right;\n",
       "    }\n",
       "</style>\n",
       "<table border=\"1\" class=\"dataframe\">\n",
       "  <thead>\n",
       "    <tr style=\"text-align: right;\">\n",
       "      <th></th>\n",
       "      <th>Churn_Test</th>\n",
       "      <th>Churn_Test_Prob</th>\n",
       "      <th>CustID</th>\n",
       "    </tr>\n",
       "  </thead>\n",
       "  <tbody>\n",
       "    <tr>\n",
       "      <th>0</th>\n",
       "      <td>0</td>\n",
       "      <td>0.000051</td>\n",
       "      <td>76438</td>\n",
       "    </tr>\n",
       "    <tr>\n",
       "      <th>1</th>\n",
       "      <td>0</td>\n",
       "      <td>0.006321</td>\n",
       "      <td>72869</td>\n",
       "    </tr>\n",
       "    <tr>\n",
       "      <th>2</th>\n",
       "      <td>0</td>\n",
       "      <td>0.013266</td>\n",
       "      <td>86053</td>\n",
       "    </tr>\n",
       "    <tr>\n",
       "      <th>3</th>\n",
       "      <td>0</td>\n",
       "      <td>0.048410</td>\n",
       "      <td>29093</td>\n",
       "    </tr>\n",
       "    <tr>\n",
       "      <th>4</th>\n",
       "      <td>0</td>\n",
       "      <td>0.459184</td>\n",
       "      <td>96385</td>\n",
       "    </tr>\n",
       "  </tbody>\n",
       "</table>\n",
       "</div>"
      ],
      "text/plain": [
       "   Churn_Test  Churn_Test_Prob  CustID\n",
       "0           0         0.000051   76438\n",
       "1           0         0.006321   72869\n",
       "2           0         0.013266   86053\n",
       "3           0         0.048410   29093\n",
       "4           0         0.459184   96385"
      ]
     },
     "execution_count": 197,
     "metadata": {},
     "output_type": "execute_result"
    }
   ],
   "source": [
    "predictiontest_df = pd.DataFrame({'Churn_Test':y_test.values, 'Churn_Test_Prob':pred_probs_test})\n",
    "predictiontest_df['CustID'] = y_test.index\n",
    "predictiontest_df.head()"
   ]
  },
  {
   "cell_type": "code",
   "execution_count": 206,
   "metadata": {},
   "outputs": [
    {
     "name": "stdout",
     "output_type": "stream",
     "text": [
      "357\n"
     ]
    }
   ],
   "source": [
    "predictiontest_df['0.32_predicted'] = predictiontest_df.Churn_Test_Prob.map(lambda x: 1 if x > 0.32 else 0)\n",
    "\n",
    "metrics.accuracy_score(predictiontest_df.Churn_Test, predictiontest_df['0.32_predicted'])\n",
    "confusion_metrics = metrics.confusion_matrix(predictiontest_df.Churn_Test, predictiontest_df['0.32_predicted'])\n",
    "print(confusion_metrics[1,0])"
   ]
  },
  {
   "cell_type": "code",
   "execution_count": 207,
   "metadata": {},
   "outputs": [
    {
     "name": "stdout",
     "output_type": "stream",
     "text": [
      "0.561963190184049\n"
     ]
    }
   ],
   "source": [
    "TP = confusion_metrics[1,1]\n",
    "FN = confusion_metrics[1,0]\n",
    "sensitivity = TP/(TP+FN)\n",
    "print(sensitivity)"
   ]
  },
  {
   "cell_type": "code",
   "execution_count": 208,
   "metadata": {},
   "outputs": [
    {
     "data": {
      "text/plain": [
       "0.9271736713364466"
      ]
     },
     "execution_count": 208,
     "metadata": {},
     "output_type": "execute_result"
    }
   ],
   "source": [
    "metrics.accuracy_score(predictiontest_df.Churn_Test, predictiontest_df['0.35_predicted'])"
   ]
  },
  {
   "cell_type": "code",
   "execution_count": 209,
   "metadata": {},
   "outputs": [
    {
     "data": {
      "text/html": [
       "<div>\n",
       "<style scoped>\n",
       "    .dataframe tbody tr th:only-of-type {\n",
       "        vertical-align: middle;\n",
       "    }\n",
       "\n",
       "    .dataframe tbody tr th {\n",
       "        vertical-align: top;\n",
       "    }\n",
       "\n",
       "    .dataframe thead th {\n",
       "        text-align: right;\n",
       "    }\n",
       "</style>\n",
       "<table border=\"1\" class=\"dataframe\">\n",
       "  <thead>\n",
       "    <tr style=\"text-align: right;\">\n",
       "      <th></th>\n",
       "      <th>Churn_Test</th>\n",
       "      <th>Churn_Test_Prob</th>\n",
       "      <th>CustID</th>\n",
       "      <th>0.35_predicted</th>\n",
       "      <th>0.32_predicted</th>\n",
       "    </tr>\n",
       "  </thead>\n",
       "  <tbody>\n",
       "    <tr>\n",
       "      <th>0</th>\n",
       "      <td>0</td>\n",
       "      <td>0.000051</td>\n",
       "      <td>76438</td>\n",
       "      <td>0</td>\n",
       "      <td>0</td>\n",
       "    </tr>\n",
       "    <tr>\n",
       "      <th>1</th>\n",
       "      <td>0</td>\n",
       "      <td>0.006321</td>\n",
       "      <td>72869</td>\n",
       "      <td>0</td>\n",
       "      <td>0</td>\n",
       "    </tr>\n",
       "    <tr>\n",
       "      <th>2</th>\n",
       "      <td>0</td>\n",
       "      <td>0.013266</td>\n",
       "      <td>86053</td>\n",
       "      <td>0</td>\n",
       "      <td>0</td>\n",
       "    </tr>\n",
       "    <tr>\n",
       "      <th>3</th>\n",
       "      <td>0</td>\n",
       "      <td>0.048410</td>\n",
       "      <td>29093</td>\n",
       "      <td>0</td>\n",
       "      <td>0</td>\n",
       "    </tr>\n",
       "    <tr>\n",
       "      <th>4</th>\n",
       "      <td>0</td>\n",
       "      <td>0.459184</td>\n",
       "      <td>96385</td>\n",
       "      <td>1</td>\n",
       "      <td>1</td>\n",
       "    </tr>\n",
       "  </tbody>\n",
       "</table>\n",
       "</div>"
      ],
      "text/plain": [
       "   Churn_Test  Churn_Test_Prob  CustID  0.35_predicted  0.32_predicted\n",
       "0           0         0.000051   76438               0               0\n",
       "1           0         0.006321   72869               0               0\n",
       "2           0         0.013266   86053               0               0\n",
       "3           0         0.048410   29093               0               0\n",
       "4           0         0.459184   96385               1               1"
      ]
     },
     "execution_count": 209,
     "metadata": {},
     "output_type": "execute_result"
    }
   ],
   "source": [
    "predictiontest_df.head()"
   ]
  },
  {
   "cell_type": "code",
   "execution_count": 210,
   "metadata": {},
   "outputs": [],
   "source": [
    "## For the total prediction data we need to merge both the training and test data frame"
   ]
  },
  {
   "cell_type": "code",
   "execution_count": 211,
   "metadata": {},
   "outputs": [
    {
     "data": {
      "text/html": [
       "<div>\n",
       "<style scoped>\n",
       "    .dataframe tbody tr th:only-of-type {\n",
       "        vertical-align: middle;\n",
       "    }\n",
       "\n",
       "    .dataframe tbody tr th {\n",
       "        vertical-align: top;\n",
       "    }\n",
       "\n",
       "    .dataframe thead th {\n",
       "        text-align: right;\n",
       "    }\n",
       "</style>\n",
       "<table border=\"1\" class=\"dataframe\">\n",
       "  <thead>\n",
       "    <tr style=\"text-align: right;\">\n",
       "      <th></th>\n",
       "      <th>Churn_Train</th>\n",
       "      <th>Churn_Train_Prob</th>\n",
       "      <th>CustID</th>\n",
       "      <th>0.0</th>\n",
       "      <th>0.1</th>\n",
       "      <th>0.2</th>\n",
       "      <th>0.3</th>\n",
       "      <th>0.4</th>\n",
       "      <th>0.5</th>\n",
       "      <th>0.6</th>\n",
       "      <th>0.7</th>\n",
       "      <th>0.8</th>\n",
       "      <th>0.9</th>\n",
       "      <th>Opt_predicted</th>\n",
       "      <th>0.32_predicted</th>\n",
       "    </tr>\n",
       "  </thead>\n",
       "  <tbody>\n",
       "    <tr>\n",
       "      <th>0</th>\n",
       "      <td>0</td>\n",
       "      <td>0.011937</td>\n",
       "      <td>88105</td>\n",
       "      <td>1</td>\n",
       "      <td>0</td>\n",
       "      <td>0</td>\n",
       "      <td>0</td>\n",
       "      <td>0</td>\n",
       "      <td>0</td>\n",
       "      <td>0</td>\n",
       "      <td>0</td>\n",
       "      <td>0</td>\n",
       "      <td>0</td>\n",
       "      <td>0</td>\n",
       "      <td>0</td>\n",
       "    </tr>\n",
       "    <tr>\n",
       "      <th>1</th>\n",
       "      <td>0</td>\n",
       "      <td>0.044205</td>\n",
       "      <td>34588</td>\n",
       "      <td>1</td>\n",
       "      <td>0</td>\n",
       "      <td>0</td>\n",
       "      <td>0</td>\n",
       "      <td>0</td>\n",
       "      <td>0</td>\n",
       "      <td>0</td>\n",
       "      <td>0</td>\n",
       "      <td>0</td>\n",
       "      <td>0</td>\n",
       "      <td>0</td>\n",
       "      <td>0</td>\n",
       "    </tr>\n",
       "    <tr>\n",
       "      <th>2</th>\n",
       "      <td>0</td>\n",
       "      <td>0.001575</td>\n",
       "      <td>16623</td>\n",
       "      <td>1</td>\n",
       "      <td>0</td>\n",
       "      <td>0</td>\n",
       "      <td>0</td>\n",
       "      <td>0</td>\n",
       "      <td>0</td>\n",
       "      <td>0</td>\n",
       "      <td>0</td>\n",
       "      <td>0</td>\n",
       "      <td>0</td>\n",
       "      <td>0</td>\n",
       "      <td>0</td>\n",
       "    </tr>\n",
       "    <tr>\n",
       "      <th>3</th>\n",
       "      <td>0</td>\n",
       "      <td>0.019026</td>\n",
       "      <td>54904</td>\n",
       "      <td>1</td>\n",
       "      <td>0</td>\n",
       "      <td>0</td>\n",
       "      <td>0</td>\n",
       "      <td>0</td>\n",
       "      <td>0</td>\n",
       "      <td>0</td>\n",
       "      <td>0</td>\n",
       "      <td>0</td>\n",
       "      <td>0</td>\n",
       "      <td>0</td>\n",
       "      <td>0</td>\n",
       "    </tr>\n",
       "    <tr>\n",
       "      <th>4</th>\n",
       "      <td>0</td>\n",
       "      <td>0.057256</td>\n",
       "      <td>33555</td>\n",
       "      <td>1</td>\n",
       "      <td>0</td>\n",
       "      <td>0</td>\n",
       "      <td>0</td>\n",
       "      <td>0</td>\n",
       "      <td>0</td>\n",
       "      <td>0</td>\n",
       "      <td>0</td>\n",
       "      <td>0</td>\n",
       "      <td>0</td>\n",
       "      <td>0</td>\n",
       "      <td>0</td>\n",
       "    </tr>\n",
       "  </tbody>\n",
       "</table>\n",
       "</div>"
      ],
      "text/plain": [
       "   Churn_Train  Churn_Train_Prob  CustID  0.0  0.1  0.2  0.3  0.4  0.5  0.6  \\\n",
       "0            0          0.011937   88105    1    0    0    0    0    0    0   \n",
       "1            0          0.044205   34588    1    0    0    0    0    0    0   \n",
       "2            0          0.001575   16623    1    0    0    0    0    0    0   \n",
       "3            0          0.019026   54904    1    0    0    0    0    0    0   \n",
       "4            0          0.057256   33555    1    0    0    0    0    0    0   \n",
       "\n",
       "   0.7  0.8  0.9  Opt_predicted  0.32_predicted  \n",
       "0    0    0    0              0               0  \n",
       "1    0    0    0              0               0  \n",
       "2    0    0    0              0               0  \n",
       "3    0    0    0              0               0  \n",
       "4    0    0    0              0               0  "
      ]
     },
     "execution_count": 211,
     "metadata": {},
     "output_type": "execute_result"
    }
   ],
   "source": [
    "prediction_df.head()"
   ]
  },
  {
   "cell_type": "code",
   "execution_count": 212,
   "metadata": {},
   "outputs": [
    {
     "data": {
      "text/html": [
       "<div>\n",
       "<style scoped>\n",
       "    .dataframe tbody tr th:only-of-type {\n",
       "        vertical-align: middle;\n",
       "    }\n",
       "\n",
       "    .dataframe tbody tr th {\n",
       "        vertical-align: top;\n",
       "    }\n",
       "\n",
       "    .dataframe thead th {\n",
       "        text-align: right;\n",
       "    }\n",
       "</style>\n",
       "<table border=\"1\" class=\"dataframe\">\n",
       "  <thead>\n",
       "    <tr style=\"text-align: right;\">\n",
       "      <th>0.32_predicted</th>\n",
       "      <th>0</th>\n",
       "      <th>1</th>\n",
       "    </tr>\n",
       "    <tr>\n",
       "      <th>Churn_Test</th>\n",
       "      <th></th>\n",
       "      <th></th>\n",
       "    </tr>\n",
       "  </thead>\n",
       "  <tbody>\n",
       "    <tr>\n",
       "      <th>0</th>\n",
       "      <td>7866</td>\n",
       "      <td>313</td>\n",
       "    </tr>\n",
       "    <tr>\n",
       "      <th>1</th>\n",
       "      <td>357</td>\n",
       "      <td>458</td>\n",
       "    </tr>\n",
       "  </tbody>\n",
       "</table>\n",
       "</div>"
      ],
      "text/plain": [
       "0.32_predicted     0    1\n",
       "Churn_Test               \n",
       "0               7866  313\n",
       "1                357  458"
      ]
     },
     "execution_count": 212,
     "metadata": {},
     "output_type": "execute_result"
    }
   ],
   "source": [
    "pd.crosstab(predictiontest_df['Churn_Test'],predictiontest_df['0.32_predicted'])"
   ]
  },
  {
   "cell_type": "code",
   "execution_count": 213,
   "metadata": {},
   "outputs": [
    {
     "data": {
      "text/html": [
       "<div>\n",
       "<style scoped>\n",
       "    .dataframe tbody tr th:only-of-type {\n",
       "        vertical-align: middle;\n",
       "    }\n",
       "\n",
       "    .dataframe tbody tr th {\n",
       "        vertical-align: top;\n",
       "    }\n",
       "\n",
       "    .dataframe thead th {\n",
       "        text-align: right;\n",
       "    }\n",
       "</style>\n",
       "<table border=\"1\" class=\"dataframe\">\n",
       "  <thead>\n",
       "    <tr style=\"text-align: right;\">\n",
       "      <th>0.25_predicted</th>\n",
       "      <th>0</th>\n",
       "      <th>1</th>\n",
       "    </tr>\n",
       "    <tr>\n",
       "      <th>Churn_Test</th>\n",
       "      <th></th>\n",
       "      <th></th>\n",
       "    </tr>\n",
       "  </thead>\n",
       "  <tbody>\n",
       "    <tr>\n",
       "      <th>0</th>\n",
       "      <td>7743</td>\n",
       "      <td>436</td>\n",
       "    </tr>\n",
       "    <tr>\n",
       "      <th>1</th>\n",
       "      <td>307</td>\n",
       "      <td>508</td>\n",
       "    </tr>\n",
       "  </tbody>\n",
       "</table>\n",
       "</div>"
      ],
      "text/plain": [
       "0.25_predicted     0    1\n",
       "Churn_Test               \n",
       "0               7743  436\n",
       "1                307  508"
      ]
     },
     "execution_count": 213,
     "metadata": {},
     "output_type": "execute_result"
    }
   ],
   "source": [
    "# what this means is that 458 churners are rightly identified but 357 are not\n",
    "# total churners are 815 - a sensitivity of 56%\n",
    "# we are un-concerned with efforts towards the 313 false positives, as these customers will not churn\n",
    "# So, we can improve sensitivity at the expense of specificity by decreasing the cut-off for predicting churn\n",
    "# let us lower the cutoff now and check what happens\n",
    "\n",
    "predictiontest_df['0.25_predicted'] = predictiontest_df.Churn_Test_Prob.map(lambda x: 1 if x > 0.25 else 0)\n",
    "pd.crosstab(predictiontest_df['Churn_Test'],predictiontest_df['0.25_predicted'])\n",
    "\n",
    "# total churners are still 815, and more churners are being rightly identified - form 458 to 508\n",
    "# so the sensitivity is now 508 / (815) = 62.3%\n",
    "# let us lower the cutoff further and check what happens"
   ]
  },
  {
   "cell_type": "code",
   "execution_count": 214,
   "metadata": {},
   "outputs": [
    {
     "data": {
      "text/html": [
       "<div>\n",
       "<style scoped>\n",
       "    .dataframe tbody tr th:only-of-type {\n",
       "        vertical-align: middle;\n",
       "    }\n",
       "\n",
       "    .dataframe tbody tr th {\n",
       "        vertical-align: top;\n",
       "    }\n",
       "\n",
       "    .dataframe thead th {\n",
       "        text-align: right;\n",
       "    }\n",
       "</style>\n",
       "<table border=\"1\" class=\"dataframe\">\n",
       "  <thead>\n",
       "    <tr style=\"text-align: right;\">\n",
       "      <th>0.15_predicted</th>\n",
       "      <th>0</th>\n",
       "      <th>1</th>\n",
       "    </tr>\n",
       "    <tr>\n",
       "      <th>Churn_Test</th>\n",
       "      <th></th>\n",
       "      <th></th>\n",
       "    </tr>\n",
       "  </thead>\n",
       "  <tbody>\n",
       "    <tr>\n",
       "      <th>0</th>\n",
       "      <td>7411</td>\n",
       "      <td>768</td>\n",
       "    </tr>\n",
       "    <tr>\n",
       "      <th>1</th>\n",
       "      <td>222</td>\n",
       "      <td>593</td>\n",
       "    </tr>\n",
       "  </tbody>\n",
       "</table>\n",
       "</div>"
      ],
      "text/plain": [
       "0.15_predicted     0    1\n",
       "Churn_Test               \n",
       "0               7411  768\n",
       "1                222  593"
      ]
     },
     "execution_count": 214,
     "metadata": {},
     "output_type": "execute_result"
    }
   ],
   "source": [
    "predictiontest_df['0.15_predicted'] = predictiontest_df.Churn_Test_Prob.map(lambda x: 1 if x > 0.15 else 0)\n",
    "pd.crosstab(predictiontest_df['Churn_Test'],predictiontest_df['0.15_predicted'])\n",
    "\n",
    "# total churners are still 815, and more churners are being rightly identified - form 508 to 593\n",
    "# so the sensitivity is now 593 / (815) = 73%"
   ]
  },
  {
   "cell_type": "code",
   "execution_count": 215,
   "metadata": {},
   "outputs": [],
   "source": [
    "# Let us check these for training dataset as well\n",
    "prediction_df['0.32_predicted'] = prediction_df.Churn_Train_Prob.map(lambda x: 1 if x > 0.32 else 0)\n",
    "prediction_df['0.25_predicted'] = prediction_df.Churn_Train_Prob.map(lambda x: 1 if x > 0.25 else 0)\n",
    "prediction_df['0.15_predicted'] = prediction_df.Churn_Train_Prob.map(lambda x: 1 if x > 0.15 else 0)\n"
   ]
  },
  {
   "cell_type": "code",
   "execution_count": 216,
   "metadata": {},
   "outputs": [
    {
     "data": {
      "text/html": [
       "<div>\n",
       "<style scoped>\n",
       "    .dataframe tbody tr th:only-of-type {\n",
       "        vertical-align: middle;\n",
       "    }\n",
       "\n",
       "    .dataframe tbody tr th {\n",
       "        vertical-align: top;\n",
       "    }\n",
       "\n",
       "    .dataframe thead th {\n",
       "        text-align: right;\n",
       "    }\n",
       "</style>\n",
       "<table border=\"1\" class=\"dataframe\">\n",
       "  <thead>\n",
       "    <tr style=\"text-align: right;\">\n",
       "      <th>0.32_predicted</th>\n",
       "      <th>0</th>\n",
       "      <th>1</th>\n",
       "    </tr>\n",
       "    <tr>\n",
       "      <th>Churn_Train</th>\n",
       "      <th></th>\n",
       "      <th></th>\n",
       "    </tr>\n",
       "  </thead>\n",
       "  <tbody>\n",
       "    <tr>\n",
       "      <th>0</th>\n",
       "      <td>18513</td>\n",
       "      <td>698</td>\n",
       "    </tr>\n",
       "    <tr>\n",
       "      <th>1</th>\n",
       "      <td>722</td>\n",
       "      <td>1052</td>\n",
       "    </tr>\n",
       "  </tbody>\n",
       "</table>\n",
       "</div>"
      ],
      "text/plain": [
       "0.32_predicted      0     1\n",
       "Churn_Train                \n",
       "0               18513   698\n",
       "1                 722  1052"
      ]
     },
     "execution_count": 216,
     "metadata": {},
     "output_type": "execute_result"
    }
   ],
   "source": [
    "pd.crosstab(prediction_df['Churn_Train'],prediction_df['0.32_predicted'])\n",
    "# sensitivity = 1052 /(1774) = 59.3%"
   ]
  },
  {
   "cell_type": "code",
   "execution_count": 217,
   "metadata": {},
   "outputs": [
    {
     "data": {
      "text/html": [
       "<div>\n",
       "<style scoped>\n",
       "    .dataframe tbody tr th:only-of-type {\n",
       "        vertical-align: middle;\n",
       "    }\n",
       "\n",
       "    .dataframe tbody tr th {\n",
       "        vertical-align: top;\n",
       "    }\n",
       "\n",
       "    .dataframe thead th {\n",
       "        text-align: right;\n",
       "    }\n",
       "</style>\n",
       "<table border=\"1\" class=\"dataframe\">\n",
       "  <thead>\n",
       "    <tr style=\"text-align: right;\">\n",
       "      <th>0.25_predicted</th>\n",
       "      <th>0</th>\n",
       "      <th>1</th>\n",
       "    </tr>\n",
       "    <tr>\n",
       "      <th>Churn_Train</th>\n",
       "      <th></th>\n",
       "      <th></th>\n",
       "    </tr>\n",
       "  </thead>\n",
       "  <tbody>\n",
       "    <tr>\n",
       "      <th>0</th>\n",
       "      <td>18240</td>\n",
       "      <td>971</td>\n",
       "    </tr>\n",
       "    <tr>\n",
       "      <th>1</th>\n",
       "      <td>621</td>\n",
       "      <td>1153</td>\n",
       "    </tr>\n",
       "  </tbody>\n",
       "</table>\n",
       "</div>"
      ],
      "text/plain": [
       "0.25_predicted      0     1\n",
       "Churn_Train                \n",
       "0               18240   971\n",
       "1                 621  1153"
      ]
     },
     "execution_count": 217,
     "metadata": {},
     "output_type": "execute_result"
    }
   ],
   "source": [
    "pd.crosstab(prediction_df['Churn_Train'],prediction_df['0.25_predicted'])\n",
    "# sensitivity = 1153 /(1774) = 65%"
   ]
  },
  {
   "cell_type": "code",
   "execution_count": 218,
   "metadata": {},
   "outputs": [
    {
     "data": {
      "text/html": [
       "<div>\n",
       "<style scoped>\n",
       "    .dataframe tbody tr th:only-of-type {\n",
       "        vertical-align: middle;\n",
       "    }\n",
       "\n",
       "    .dataframe tbody tr th {\n",
       "        vertical-align: top;\n",
       "    }\n",
       "\n",
       "    .dataframe thead th {\n",
       "        text-align: right;\n",
       "    }\n",
       "</style>\n",
       "<table border=\"1\" class=\"dataframe\">\n",
       "  <thead>\n",
       "    <tr style=\"text-align: right;\">\n",
       "      <th>0.15_predicted</th>\n",
       "      <th>0</th>\n",
       "      <th>1</th>\n",
       "    </tr>\n",
       "    <tr>\n",
       "      <th>Churn_Train</th>\n",
       "      <th></th>\n",
       "      <th></th>\n",
       "    </tr>\n",
       "  </thead>\n",
       "  <tbody>\n",
       "    <tr>\n",
       "      <th>0</th>\n",
       "      <td>17483</td>\n",
       "      <td>1728</td>\n",
       "    </tr>\n",
       "    <tr>\n",
       "      <th>1</th>\n",
       "      <td>448</td>\n",
       "      <td>1326</td>\n",
       "    </tr>\n",
       "  </tbody>\n",
       "</table>\n",
       "</div>"
      ],
      "text/plain": [
       "0.15_predicted      0     1\n",
       "Churn_Train                \n",
       "0               17483  1728\n",
       "1                 448  1326"
      ]
     },
     "execution_count": 218,
     "metadata": {},
     "output_type": "execute_result"
    }
   ],
   "source": [
    "pd.crosstab(prediction_df['Churn_Train'],prediction_df['0.15_predicted'])\n",
    "# sensitivity = 1326 /(1774) = 75%"
   ]
  },
  {
   "cell_type": "markdown",
   "metadata": {},
   "source": [
    "### Logistic Regression - Conclusion \n",
    "#### Although sensitivity can be increased by varying the cut-off\n",
    "#### it results in sub-optimal classification\n",
    "- say marketing campaigns are constructed to target users predicted to churn, then the spend on these campaigns would be misdirected with increasing proportion as the cut-off keeps reducing\n",
    "    - at the cut-off of 0.35, the campaigns would target 684 false churners instead of the required 790 churners\n",
    "    - at the cut-off of 0.25, the campaigns would target 1103 false churners instead of the required 580 churners\n",
    "    - at the cut-off of 0.15, the campaigns would target 1982 false churners instead of the required 403 churners\n",
    "\n",
    "#### The better solution would be to build a model that provides better sensitivity\n",
    "\n",
    "## Optimal result of logistic regression and PCA - sensitivity on test data is 508 / (815) = 62.3%\n",
    "\n",
    "#### We will now check if XGBoost on PCA can provide us with a better model"
   ]
  },
  {
   "cell_type": "code",
   "execution_count": 219,
   "metadata": {},
   "outputs": [],
   "source": [
    "# XGboost on PCA"
   ]
  },
  {
   "cell_type": "code",
   "execution_count": 220,
   "metadata": {},
   "outputs": [
    {
     "data": {
      "text/plain": [
       "array([0.00414813, 0.00807153, 0.02458113, 0.01876182, 0.19566716,\n",
       "       0.07078855, 0.04291414, 0.23203667, 0.0245636 , 0.02149571],\n",
       "      dtype=float32)"
      ]
     },
     "execution_count": 220,
     "metadata": {},
     "output_type": "execute_result"
    }
   ],
   "source": [
    "import xgboost as xgb\n",
    "from xgboost import XGBClassifier\n",
    "\n",
    "# fit model on training data with default hyperparameters - learning rate 0.1 and subsample 1.0\n",
    "model = XGBClassifier()\n",
    "model.fit(df_train_pca, y_train)\n",
    "\n",
    "# make prediction on train data\n",
    "y_train_prob = model.predict_proba(df_train_pca)[:,1]\n",
    "\n",
    "# make predictions for test data\n",
    "# use predict_proba since we need probabilities to compute auc\n",
    "y_pred = model.predict_proba(df_test_pca)[:,1]\n",
    "y_pred[:10]"
   ]
  },
  {
   "cell_type": "code",
   "execution_count": 221,
   "metadata": {},
   "outputs": [
    {
     "data": {
      "text/plain": [
       "array([0.02765005, 0.031196  , 0.00602516, ..., 0.02554664, 0.07401184,\n",
       "       0.01139686], dtype=float32)"
      ]
     },
     "execution_count": 221,
     "metadata": {},
     "output_type": "execute_result"
    }
   ],
   "source": [
    "y_train_prob"
   ]
  },
  {
   "cell_type": "code",
   "execution_count": 222,
   "metadata": {},
   "outputs": [
    {
     "data": {
      "text/html": [
       "<div>\n",
       "<style scoped>\n",
       "    .dataframe tbody tr th:only-of-type {\n",
       "        vertical-align: middle;\n",
       "    }\n",
       "\n",
       "    .dataframe tbody tr th {\n",
       "        vertical-align: top;\n",
       "    }\n",
       "\n",
       "    .dataframe thead th {\n",
       "        text-align: right;\n",
       "    }\n",
       "</style>\n",
       "<table border=\"1\" class=\"dataframe\">\n",
       "  <thead>\n",
       "    <tr style=\"text-align: right;\">\n",
       "      <th></th>\n",
       "      <th>Churn_Train</th>\n",
       "      <th>Churn_Train_Prob</th>\n",
       "      <th>CustID</th>\n",
       "    </tr>\n",
       "  </thead>\n",
       "  <tbody>\n",
       "    <tr>\n",
       "      <th>0</th>\n",
       "      <td>0</td>\n",
       "      <td>0.027650</td>\n",
       "      <td>88105</td>\n",
       "    </tr>\n",
       "    <tr>\n",
       "      <th>1</th>\n",
       "      <td>0</td>\n",
       "      <td>0.031196</td>\n",
       "      <td>34588</td>\n",
       "    </tr>\n",
       "    <tr>\n",
       "      <th>2</th>\n",
       "      <td>0</td>\n",
       "      <td>0.006025</td>\n",
       "      <td>16623</td>\n",
       "    </tr>\n",
       "    <tr>\n",
       "      <th>3</th>\n",
       "      <td>0</td>\n",
       "      <td>0.033736</td>\n",
       "      <td>54904</td>\n",
       "    </tr>\n",
       "    <tr>\n",
       "      <th>4</th>\n",
       "      <td>0</td>\n",
       "      <td>0.026287</td>\n",
       "      <td>33555</td>\n",
       "    </tr>\n",
       "  </tbody>\n",
       "</table>\n",
       "</div>"
      ],
      "text/plain": [
       "   Churn_Train  Churn_Train_Prob  CustID\n",
       "0            0          0.027650   88105\n",
       "1            0          0.031196   34588\n",
       "2            0          0.006025   16623\n",
       "3            0          0.033736   54904\n",
       "4            0          0.026287   33555"
      ]
     },
     "execution_count": 222,
     "metadata": {},
     "output_type": "execute_result"
    }
   ],
   "source": [
    "prediction1_df = pd.DataFrame({'Churn_Train':y_train.values, 'Churn_Train_Prob':y_train_prob})\n",
    "prediction1_df['CustID'] = y_train.index\n",
    "prediction1_df.head()"
   ]
  },
  {
   "cell_type": "code",
   "execution_count": 223,
   "metadata": {},
   "outputs": [],
   "source": [
    "p, r, thresholds = precision_recall_curve(prediction1_df.Churn_Train, prediction1_df.Churn_Train_Prob)"
   ]
  },
  {
   "cell_type": "code",
   "execution_count": 224,
   "metadata": {},
   "outputs": [
    {
     "data": {
      "image/png": "[encoded data removed]",
      "text/plain": [
       "<Figure size 432x288 with 1 Axes>"
      ]
     },
     "metadata": {
      "needs_background": "light"
     },
     "output_type": "display_data"
    },
    {
     "name": "stdout",
     "output_type": "stream",
     "text": [
      "[0.3015979 0.3016326] [0.63943662 0.63923337] [0.63979707 0.63923337]\n"
     ]
    }
   ],
   "source": [
    "plt.plot(thresholds, p[:-1], \"g-\")\n",
    "plt.plot(thresholds, r[:-1], \"r-\")\n",
    "\n",
    "#checking where precision and recall are changing direction\n",
    "\n",
    "idx = np.argwhere(np.diff(np.sign(p - r))).flatten()\n",
    "\n",
    "#Plotting the point of intersection of precision and recall\n",
    "\n",
    "plt.plot(thresholds[idx], p[idx], 'bo')\n",
    "\n",
    "plt.show()\n",
    "\n",
    "#Printing the value of the threshold for which precision and recall are intersecting\n",
    "\n",
    "print(thresholds[idx],p[idx],r[idx])"
   ]
  },
  {
   "cell_type": "code",
   "execution_count": 225,
   "metadata": {},
   "outputs": [
    {
     "name": "stdout",
     "output_type": "stream",
     "text": [
      "635\n"
     ]
    }
   ],
   "source": [
    "prediction1_df['0.30_predicted'] = prediction1_df.Churn_Train_Prob.map(lambda x: 1 if x > 0.30 else 0)\n",
    "\n",
    "metrics.accuracy_score(prediction1_df.Churn_Train, prediction1_df['0.30_predicted'])\n",
    "confusion_metrics = metrics.confusion_matrix(prediction1_df.Churn_Train, prediction1_df['0.30_predicted'])\n",
    "print(confusion_metrics[1,0])"
   ]
  },
  {
   "cell_type": "code",
   "execution_count": 226,
   "metadata": {},
   "outputs": [
    {
     "name": "stdout",
     "output_type": "stream",
     "text": [
      "0.6420518602029313\n"
     ]
    }
   ],
   "source": [
    "TP = confusion_metrics[1,1]\n",
    "FN = confusion_metrics[1,0]\n",
    "sensitivity = TP/(TP+FN)\n",
    "print(sensitivity)"
   ]
  },
  {
   "cell_type": "code",
   "execution_count": 228,
   "metadata": {},
   "outputs": [
    {
     "data": {
      "text/plain": [
       "0.9388134381701215"
      ]
     },
     "execution_count": 228,
     "metadata": {},
     "output_type": "execute_result"
    }
   ],
   "source": [
    "metrics.accuracy_score(prediction1_df.Churn_Train, prediction1_df['0.30_predicted'])"
   ]
  },
  {
   "cell_type": "code",
   "execution_count": 229,
   "metadata": {},
   "outputs": [
    {
     "data": {
      "text/html": [
       "<div>\n",
       "<style scoped>\n",
       "    .dataframe tbody tr th:only-of-type {\n",
       "        vertical-align: middle;\n",
       "    }\n",
       "\n",
       "    .dataframe tbody tr th {\n",
       "        vertical-align: top;\n",
       "    }\n",
       "\n",
       "    .dataframe thead th {\n",
       "        text-align: right;\n",
       "    }\n",
       "</style>\n",
       "<table border=\"1\" class=\"dataframe\">\n",
       "  <thead>\n",
       "    <tr style=\"text-align: right;\">\n",
       "      <th></th>\n",
       "      <th>Churn_Test</th>\n",
       "      <th>Churn_Test_Prob</th>\n",
       "      <th>CustID</th>\n",
       "    </tr>\n",
       "  </thead>\n",
       "  <tbody>\n",
       "    <tr>\n",
       "      <th>0</th>\n",
       "      <td>0</td>\n",
       "      <td>0.004148</td>\n",
       "      <td>76438</td>\n",
       "    </tr>\n",
       "    <tr>\n",
       "      <th>1</th>\n",
       "      <td>0</td>\n",
       "      <td>0.008072</td>\n",
       "      <td>72869</td>\n",
       "    </tr>\n",
       "    <tr>\n",
       "      <th>2</th>\n",
       "      <td>0</td>\n",
       "      <td>0.024581</td>\n",
       "      <td>86053</td>\n",
       "    </tr>\n",
       "    <tr>\n",
       "      <th>3</th>\n",
       "      <td>0</td>\n",
       "      <td>0.018762</td>\n",
       "      <td>29093</td>\n",
       "    </tr>\n",
       "    <tr>\n",
       "      <th>4</th>\n",
       "      <td>0</td>\n",
       "      <td>0.195667</td>\n",
       "      <td>96385</td>\n",
       "    </tr>\n",
       "  </tbody>\n",
       "</table>\n",
       "</div>"
      ],
      "text/plain": [
       "   Churn_Test  Churn_Test_Prob  CustID\n",
       "0           0         0.004148   76438\n",
       "1           0         0.008072   72869\n",
       "2           0         0.024581   86053\n",
       "3           0         0.018762   29093\n",
       "4           0         0.195667   96385"
      ]
     },
     "execution_count": 229,
     "metadata": {},
     "output_type": "execute_result"
    }
   ],
   "source": [
    "prediction1_test_df = pd.DataFrame({'Churn_Test':y_test.values, 'Churn_Test_Prob':y_pred})\n",
    "prediction1_test_df['CustID'] = y_test.index\n",
    "prediction1_test_df.head()"
   ]
  },
  {
   "cell_type": "code",
   "execution_count": 230,
   "metadata": {},
   "outputs": [
    {
     "data": {
      "text/plain": [
       "0.9236157438292195"
      ]
     },
     "execution_count": 230,
     "metadata": {},
     "output_type": "execute_result"
    }
   ],
   "source": [
    "prediction1_test_df['0.30_predicted'] = prediction1_test_df.Churn_Test_Prob.map(lambda x: 1 if x > 0.30 else 0)\n",
    "\n",
    "metrics.accuracy_score(prediction1_test_df.Churn_Test, prediction1_test_df['0.30_predicted'])"
   ]
  },
  {
   "cell_type": "code",
   "execution_count": 231,
   "metadata": {},
   "outputs": [
    {
     "name": "stdout",
     "output_type": "stream",
     "text": [
      "366\n"
     ]
    }
   ],
   "source": [
    "confusion_metrics = metrics.confusion_matrix(prediction1_test_df.Churn_Test, prediction1_test_df['0.30_predicted'])\n",
    "print(confusion_metrics[1,0])"
   ]
  },
  {
   "cell_type": "code",
   "execution_count": 232,
   "metadata": {},
   "outputs": [
    {
     "name": "stdout",
     "output_type": "stream",
     "text": [
      "0.550920245398773\n"
     ]
    }
   ],
   "source": [
    "TP = confusion_metrics[1,1]\n",
    "FN = confusion_metrics[1,0]\n",
    "sensitivity = TP/(TP+FN)\n",
    "print(sensitivity)"
   ]
  },
  {
   "cell_type": "code",
   "execution_count": 233,
   "metadata": {},
   "outputs": [
    {
     "name": "stdout",
     "output_type": "stream",
     "text": [
      "AUC: 90.89%\n"
     ]
    }
   ],
   "source": [
    "# evaluate predictions\n",
    "roc = metrics.roc_auc_score(y_test, y_pred)\n",
    "print(\"AUC: %.2f%%\" % (roc * 100.0))"
   ]
  },
  {
   "cell_type": "markdown",
   "metadata": {},
   "source": [
    "## Optimal result of XGBoost and PCA - sensitivity of 55% on test data"
   ]
  },
  {
   "cell_type": "markdown",
   "metadata": {},
   "source": [
    "#### XGBoost hyperparameter tuning"
   ]
  },
  {
   "cell_type": "code",
   "execution_count": 280,
   "metadata": {},
   "outputs": [],
   "source": [
    "# hyperparameter tuning with XGBoost\n",
    "\n",
    "# creating a KFold object \n",
    "folds = 3\n",
    "\n",
    "# specify range of hyperparameters\n",
    "param_grid = {'learning_rate': [0.1,0.35,0.6], \n",
    "             'subsample': [0.3, 0.6, 0.9]}         \n",
    "\n",
    "\n",
    "# specify model\n",
    "xgb_model = XGBClassifier(max_depth=2, n_estimators=200)\n",
    "\n",
    "# set up GridSearchCV()\n",
    "model_cv = GridSearchCV(estimator = xgb_model, \n",
    "                        param_grid = param_grid, \n",
    "                        cv = folds, \n",
    "                        verbose = 1,\n",
    "                        scoring=\"recall\",\n",
    "                        return_train_score=True,\n",
    "                       n_jobs=-1)"
   ]
  },
  {
   "cell_type": "code",
   "execution_count": 281,
   "metadata": {},
   "outputs": [
    {
     "name": "stdout",
     "output_type": "stream",
     "text": [
      "Fitting 3 folds for each of 9 candidates, totalling 27 fits\n"
     ]
    },
    {
     "name": "stderr",
     "output_type": "stream",
     "text": [
      "[Parallel(n_jobs=-1)]: Using backend LokyBackend with 4 concurrent workers.\n",
      "[Parallel(n_jobs=-1)]: Done  27 out of  27 | elapsed: 10.8min finished\n"
     ]
    },
    {
     "data": {
      "text/plain": [
       "GridSearchCV(cv=3, error_score='raise-deprecating',\n",
       "       estimator=XGBClassifier(base_score=0.5, booster='gbtree', colsample_bylevel=1,\n",
       "       colsample_bynode=1, colsample_bytree=1, gamma=0, learning_rate=0.1,\n",
       "       max_delta_step=0, max_depth=2, min_child_weight=1, missing=None,\n",
       "       n_estimators=200, n_jobs=1, nthread=None,\n",
       "       objective='binary:logistic', random_state=0, reg_alpha=0,\n",
       "       reg_lambda=1, scale_pos_weight=1, seed=None, silent=None,\n",
       "       subsample=1, verbosity=1),\n",
       "       fit_params=None, iid='warn', n_jobs=-1,\n",
       "       param_grid={'learning_rate': [0.1, 0.35, 0.6], 'subsample': [0.3, 0.6, 0.9]},\n",
       "       pre_dispatch='2*n_jobs', refit=True, return_train_score=True,\n",
       "       scoring='recall', verbose=1)"
      ]
     },
     "execution_count": 281,
     "metadata": {},
     "output_type": "execute_result"
    }
   ],
   "source": [
    "# fit the model\n",
    "model_cv.fit(X_train, y_train)"
   ]
  },
  {
   "cell_type": "code",
   "execution_count": 297,
   "metadata": {},
   "outputs": [],
   "source": [
    "# extracting best cv results\n",
    "cv_results = pd.DataFrame(model_cv.cv_results_)\n",
    "best_params_index_list = cv_results.loc[cv_results['rank_test_score']==1].index.tolist()\n",
    "best_params_index=best_params_index_list[0]\n",
    "best_lr = cv_results.iloc[best_params_index]['param_learning_rate']\n",
    "best_ss = cv_results.iloc[best_params_index]['param_subsample']"
   ]
  },
  {
   "cell_type": "code",
   "execution_count": 299,
   "metadata": {},
   "outputs": [
    {
     "data": {
      "text/html": [
       "<div>\n",
       "<style scoped>\n",
       "    .dataframe tbody tr th:only-of-type {\n",
       "        vertical-align: middle;\n",
       "    }\n",
       "\n",
       "    .dataframe tbody tr th {\n",
       "        vertical-align: top;\n",
       "    }\n",
       "\n",
       "    .dataframe thead th {\n",
       "        text-align: right;\n",
       "    }\n",
       "</style>\n",
       "<table border=\"1\" class=\"dataframe\">\n",
       "  <thead>\n",
       "    <tr style=\"text-align: right;\">\n",
       "      <th></th>\n",
       "      <th>param_learning_rate</th>\n",
       "      <th>param_subsample</th>\n",
       "    </tr>\n",
       "  </thead>\n",
       "  <tbody>\n",
       "    <tr>\n",
       "      <th>5</th>\n",
       "      <td>0.35</td>\n",
       "      <td>0.9</td>\n",
       "    </tr>\n",
       "  </tbody>\n",
       "</table>\n",
       "</div>"
      ],
      "text/plain": [
       "  param_learning_rate param_subsample\n",
       "5                0.35             0.9"
      ]
     },
     "execution_count": 299,
     "metadata": {},
     "output_type": "execute_result"
    }
   ],
   "source": [
    "cv_results.loc[:,['param_learning_rate','param_subsample']][cv_results['rank_test_score']==1]"
   ]
  },
  {
   "cell_type": "code",
   "execution_count": 298,
   "metadata": {},
   "outputs": [
    {
     "data": {
      "image/png": "[encoded data removed]",
      "text/plain": [
       "<Figure size 1152x432 with 3 Axes>"
      ]
     },
     "metadata": {
      "needs_background": "light"
     },
     "output_type": "display_data"
    }
   ],
   "source": [
    "# # plotting\n",
    "plt.figure(figsize=(16,6))\n",
    "\n",
    "param_grid = {'learning_rate': [0.1,0.35,0.6], \n",
    "             'subsample': [0.3, 0.6, 0.9]} \n",
    "\n",
    "\n",
    "for n, subsample in enumerate(param_grid['subsample']):\n",
    "    \n",
    "\n",
    "    # subplot 1/n\n",
    "    plt.subplot(1,len(param_grid['subsample']), n+1)\n",
    "    df = cv_results[cv_results['param_subsample']==subsample]\n",
    "\n",
    "    plt.plot(df[\"param_learning_rate\"], df[\"mean_test_score\"])\n",
    "    plt.plot(df[\"param_learning_rate\"], df[\"mean_train_score\"])\n",
    "    plt.xlabel('learning_rate')\n",
    "    plt.ylabel('recall')\n",
    "    plt.title(\"subsample={0}\".format(subsample))\n",
    "    plt.ylim([0.60, 1])\n",
    "    plt.legend(['test score', 'train score'], loc='upper left')\n",
    "    plt.xscale('log')"
   ]
  },
  {
   "cell_type": "markdown",
   "metadata": {},
   "source": [
    "The results show that a subsample size of 0.9 and learning_rate of about 0.35 seems optimal.\n",
    "\n",
    "\n",
    "Let's build a final model with the chosen hyperparameters."
   ]
  },
  {
   "cell_type": "code",
   "execution_count": 302,
   "metadata": {},
   "outputs": [
    {
     "data": {
      "text/plain": [
       "XGBClassifier(base_score=0.5, booster='gbtree', colsample_bylevel=1,\n",
       "       colsample_bynode=1, colsample_bytree=1, gamma=0, learning_rate=0.1,\n",
       "       max_delta_step=0, max_depth=3, min_child_weight=1, missing=None,\n",
       "       n_estimators=100, n_jobs=1, nthread=None,\n",
       "       objective='binary:logistic',\n",
       "       params={'learning_rate': 0.35, 'max_depth': 2, 'n_estimators': 200, 'subsample': 0.9, 'objective': 'binary:logistic'},\n",
       "       random_state=0, reg_alpha=0, reg_lambda=1, scale_pos_weight=1,\n",
       "       seed=None, silent=None, subsample=1, verbosity=1)"
      ]
     },
     "execution_count": 302,
     "metadata": {},
     "output_type": "execute_result"
    }
   ],
   "source": [
    "# chosen hyperparameters\n",
    "# 'objective':'binary:logistic' outputs probability rather than label, which we need for binary classification\n",
    "params = {'learning_rate': 0.35,\n",
    "          'max_depth': 2, \n",
    "          'n_estimators':200,\n",
    "          'subsample':0.9,\n",
    "         'objective':'binary:logistic'}\n",
    "\n",
    "# fit model on training data\n",
    "model = XGBClassifier(params = params)\n",
    "model.fit(X_train, y_train)"
   ]
  },
  {
   "cell_type": "code",
   "execution_count": 303,
   "metadata": {},
   "outputs": [
    {
     "data": {
      "text/plain": [
       "0.9648404207778132"
      ]
     },
     "execution_count": 303,
     "metadata": {},
     "output_type": "execute_result"
    }
   ],
   "source": [
    "# make predictions for train data\n",
    "# we will first use predict_proba since we need probabilities to compute auc\n",
    "y_train_pred = model.predict_proba(X_train)[:,1]\n",
    "\n",
    "# roc_auc\n",
    "auc = metrics.roc_auc_score(y_train, y_train_pred)\n",
    "auc\n",
    "\n",
    "# The auc is quite good. let us check the cut-off using the training data"
   ]
  },
  {
   "cell_type": "code",
   "execution_count": 304,
   "metadata": {},
   "outputs": [
    {
     "data": {
      "image/png": "[encoded data removed]",
      "text/plain": [
       "<Figure size 432x288 with 1 Axes>"
      ]
     },
     "metadata": {
      "needs_background": "light"
     },
     "output_type": "display_data"
    },
    {
     "name": "stdout",
     "output_type": "stream",
     "text": [
      "[0.33922774 0.33932012] [0.70760563 0.70744081] [0.70800451 0.70744081]\n"
     ]
    }
   ],
   "source": [
    "p, r, thresholds = precision_recall_curve(y_train,y_train_pred)\n",
    "\n",
    "plt.plot(thresholds, p[:-1], \"g-\")\n",
    "plt.plot(thresholds, r[:-1], \"r-\")\n",
    "\n",
    "#checking where precision and recall are changing direction\n",
    "\n",
    "idx = np.argwhere(np.diff(np.sign(p - r))).flatten()\n",
    "\n",
    "#Plotting the point of intersection of precision and recall\n",
    "\n",
    "plt.plot(thresholds[idx], p[idx], 'bo')\n",
    "\n",
    "plt.show()\n",
    "\n",
    "#Printing the value of the threshold for which precision and recall are intersecting\n",
    "\n",
    "print(thresholds[idx],p[idx],r[idx])\n",
    "\n",
    "# 0.34 seems to be the ideal cut-off"
   ]
  },
  {
   "cell_type": "code",
   "execution_count": 305,
   "metadata": {},
   "outputs": [
    {
     "data": {
      "text/html": [
       "<div>\n",
       "<style scoped>\n",
       "    .dataframe tbody tr th:only-of-type {\n",
       "        vertical-align: middle;\n",
       "    }\n",
       "\n",
       "    .dataframe tbody tr th {\n",
       "        vertical-align: top;\n",
       "    }\n",
       "\n",
       "    .dataframe thead th {\n",
       "        text-align: right;\n",
       "    }\n",
       "</style>\n",
       "<table border=\"1\" class=\"dataframe\">\n",
       "  <thead>\n",
       "    <tr style=\"text-align: right;\">\n",
       "      <th>0.34_predicted</th>\n",
       "      <th>0</th>\n",
       "      <th>1</th>\n",
       "    </tr>\n",
       "    <tr>\n",
       "      <th>Churn</th>\n",
       "      <th></th>\n",
       "      <th></th>\n",
       "    </tr>\n",
       "  </thead>\n",
       "  <tbody>\n",
       "    <tr>\n",
       "      <th>0</th>\n",
       "      <td>18694</td>\n",
       "      <td>517</td>\n",
       "    </tr>\n",
       "    <tr>\n",
       "      <th>1</th>\n",
       "      <td>520</td>\n",
       "      <td>1254</td>\n",
       "    </tr>\n",
       "  </tbody>\n",
       "</table>\n",
       "</div>"
      ],
      "text/plain": [
       "0.34_predicted      0     1\n",
       "Churn                      \n",
       "0               18694   517\n",
       "1                 520  1254"
      ]
     },
     "execution_count": 305,
     "metadata": {},
     "output_type": "execute_result"
    }
   ],
   "source": [
    "best_xgb_model_train_res = y_train.to_frame()\n",
    "best_xgb_model_train_res['pred_churn']=y_train_pred\n",
    "best_xgb_model_train_res['0.34_predicted'] = best_xgb_model_train_res.pred_churn.map(lambda x: 1 if x > 0.34 else 0)\n",
    "pd.crosstab(best_xgb_model_train_res['Churn'],best_xgb_model_train_res['0.34_predicted'])\n",
    "\n",
    "# 0.34 as cut-off results in the following metrics\n",
    "# accuracy - 19948 / 20985 = 95%\n",
    "# sensitivity - 1256 / 1774 = 71%\n",
    "# specificity - 18694 / 19211 = 97%\n",
    "\n",
    "# this is by far the highest value of sensitivity we have been able to achieve so far\n",
    "# let us now check the test result metrics with the same cut-off"
   ]
  },
  {
   "cell_type": "code",
   "execution_count": 308,
   "metadata": {},
   "outputs": [
    {
     "data": {
      "text/plain": [
       "0.949888424417763"
      ]
     },
     "execution_count": 308,
     "metadata": {},
     "output_type": "execute_result"
    }
   ],
   "source": [
    "# make predictions for test data\n",
    "# first, we use predict_proba since we need probabilities to compute auc\n",
    "y_pred = model.predict_proba(X_test)[:,1]\n",
    "\n",
    "# roc_auc\n",
    "auc = metrics.roc_auc_score(y_test, y_pred)\n",
    "auc"
   ]
  },
  {
   "cell_type": "markdown",
   "metadata": {},
   "source": [
    "We're looking at an AUC of 0.95 .. Let us now check the metrics for this model with 0.34 as cut-off"
   ]
  },
  {
   "cell_type": "code",
   "execution_count": 309,
   "metadata": {},
   "outputs": [
    {
     "data": {
      "text/html": [
       "<div>\n",
       "<style scoped>\n",
       "    .dataframe tbody tr th:only-of-type {\n",
       "        vertical-align: middle;\n",
       "    }\n",
       "\n",
       "    .dataframe tbody tr th {\n",
       "        vertical-align: top;\n",
       "    }\n",
       "\n",
       "    .dataframe thead th {\n",
       "        text-align: right;\n",
       "    }\n",
       "</style>\n",
       "<table border=\"1\" class=\"dataframe\">\n",
       "  <thead>\n",
       "    <tr style=\"text-align: right;\">\n",
       "      <th>0.34_predicted</th>\n",
       "      <th>0</th>\n",
       "      <th>1</th>\n",
       "    </tr>\n",
       "    <tr>\n",
       "      <th>Churn</th>\n",
       "      <th></th>\n",
       "      <th></th>\n",
       "    </tr>\n",
       "  </thead>\n",
       "  <tbody>\n",
       "    <tr>\n",
       "      <th>0</th>\n",
       "      <td>7938</td>\n",
       "      <td>241</td>\n",
       "    </tr>\n",
       "    <tr>\n",
       "      <th>1</th>\n",
       "      <td>290</td>\n",
       "      <td>525</td>\n",
       "    </tr>\n",
       "  </tbody>\n",
       "</table>\n",
       "</div>"
      ],
      "text/plain": [
       "0.34_predicted     0    1\n",
       "Churn                    \n",
       "0               7938  241\n",
       "1                290  525"
      ]
     },
     "execution_count": 309,
     "metadata": {},
     "output_type": "execute_result"
    }
   ],
   "source": [
    "best_xgb_model_test_res = y_test.to_frame()\n",
    "best_xgb_model_test_res['pred_churn']=y_pred\n",
    "best_xgb_model_test_res['0.34_predicted'] = best_xgb_model_test_res.pred_churn.map(lambda x: 1 if x > 0.34 else 0)\n",
    "pd.crosstab(best_xgb_model_test_res['Churn'],best_xgb_model_test_res['0.34_predicted'])\n",
    "\n",
    "# 0.34 as cut-off results in the following metrics\n",
    "# accuracy - 8463 / 8994 = 94%\n",
    "# sensitivity - 525 / 815 = 64%\n",
    "# specificity - 7938 / 8179 = 97%\n",
    "\n",
    "# this is by far the highest value of sensitivity we have been able to achieve so far\n",
    "# Let us now look at the important features that have helped us build this model"
   ]
  },
  {
   "cell_type": "code",
   "execution_count": 310,
   "metadata": {},
   "outputs": [
    {
     "data": {
      "text/html": [
       "<div>\n",
       "<style scoped>\n",
       "    .dataframe tbody tr th:only-of-type {\n",
       "        vertical-align: middle;\n",
       "    }\n",
       "\n",
       "    .dataframe tbody tr th {\n",
       "        vertical-align: top;\n",
       "    }\n",
       "\n",
       "    .dataframe thead th {\n",
       "        text-align: right;\n",
       "    }\n",
       "</style>\n",
       "<table border=\"1\" class=\"dataframe\">\n",
       "  <thead>\n",
       "    <tr style=\"text-align: right;\">\n",
       "      <th></th>\n",
       "      <th>0</th>\n",
       "      <th>CUMSUM_0</th>\n",
       "    </tr>\n",
       "  </thead>\n",
       "  <tbody>\n",
       "    <tr>\n",
       "      <th>total_t2m_mou_8</th>\n",
       "      <td>0.176490</td>\n",
       "      <td>0.176490</td>\n",
       "    </tr>\n",
       "    <tr>\n",
       "      <th>total_ic_mou_8</th>\n",
       "      <td>0.085516</td>\n",
       "      <td>0.262007</td>\n",
       "    </tr>\n",
       "    <tr>\n",
       "      <th>loc_ic_t2m_mou_8</th>\n",
       "      <td>0.079503</td>\n",
       "      <td>0.341510</td>\n",
       "    </tr>\n",
       "    <tr>\n",
       "      <th>loc_ic_mou_8</th>\n",
       "      <td>0.040429</td>\n",
       "      <td>0.381939</td>\n",
       "    </tr>\n",
       "    <tr>\n",
       "      <th>total_ic_t2m_mou_8</th>\n",
       "      <td>0.035359</td>\n",
       "      <td>0.417298</td>\n",
       "    </tr>\n",
       "    <tr>\n",
       "      <th>loc_og_mou_8</th>\n",
       "      <td>0.021857</td>\n",
       "      <td>0.439155</td>\n",
       "    </tr>\n",
       "    <tr>\n",
       "      <th>onnet_mou_8</th>\n",
       "      <td>0.016631</td>\n",
       "      <td>0.455786</td>\n",
       "    </tr>\n",
       "    <tr>\n",
       "      <th>std_og_mou_7</th>\n",
       "      <td>0.015107</td>\n",
       "      <td>0.470893</td>\n",
       "    </tr>\n",
       "    <tr>\n",
       "      <th>vol_3g_mb_8</th>\n",
       "      <td>0.014461</td>\n",
       "      <td>0.485355</td>\n",
       "    </tr>\n",
       "    <tr>\n",
       "      <th>total_monthly_8</th>\n",
       "      <td>0.014189</td>\n",
       "      <td>0.499543</td>\n",
       "    </tr>\n",
       "    <tr>\n",
       "      <th>roam_mou_8</th>\n",
       "      <td>0.014012</td>\n",
       "      <td>0.513555</td>\n",
       "    </tr>\n",
       "    <tr>\n",
       "      <th>total_t2f_mou_8</th>\n",
       "      <td>0.013608</td>\n",
       "      <td>0.527163</td>\n",
       "    </tr>\n",
       "    <tr>\n",
       "      <th>total_rech_num_7</th>\n",
       "      <td>0.013214</td>\n",
       "      <td>0.540377</td>\n",
       "    </tr>\n",
       "    <tr>\n",
       "      <th>total_roam_ic_mou</th>\n",
       "      <td>0.012945</td>\n",
       "      <td>0.553321</td>\n",
       "    </tr>\n",
       "    <tr>\n",
       "      <th>last_day_rch_amt_8</th>\n",
       "      <td>0.012170</td>\n",
       "      <td>0.565491</td>\n",
       "    </tr>\n",
       "  </tbody>\n",
       "</table>\n",
       "</div>"
      ],
      "text/plain": [
       "                           0  CUMSUM_0\n",
       "total_t2m_mou_8     0.176490  0.176490\n",
       "total_ic_mou_8      0.085516  0.262007\n",
       "loc_ic_t2m_mou_8    0.079503  0.341510\n",
       "loc_ic_mou_8        0.040429  0.381939\n",
       "total_ic_t2m_mou_8  0.035359  0.417298\n",
       "loc_og_mou_8        0.021857  0.439155\n",
       "onnet_mou_8         0.016631  0.455786\n",
       "std_og_mou_7        0.015107  0.470893\n",
       "vol_3g_mb_8         0.014461  0.485355\n",
       "total_monthly_8     0.014189  0.499543\n",
       "roam_mou_8          0.014012  0.513555\n",
       "total_t2f_mou_8     0.013608  0.527163\n",
       "total_rech_num_7    0.013214  0.540377\n",
       "total_roam_ic_mou   0.012945  0.553321\n",
       "last_day_rch_amt_8  0.012170  0.565491"
      ]
     },
     "execution_count": 310,
     "metadata": {},
     "output_type": "execute_result"
    }
   ],
   "source": [
    "# feature importance\n",
    "importance = dict(zip(X_train.columns, model.feature_importances_))\n",
    "imp_features = pd.DataFrame.from_records([importance])\n",
    "imp_features = imp_features.transpose().sort_values(by=0,ascending=False)\n",
    "imp_features['CUMSUM_0'] = imp_features[0].cumsum()\n",
    "imp_features.head(15)\n",
    "\n",
    "# We see that the top 15 important features contain a lot of 'total' columns derived from available columns\n",
    "# Also, most of the features are corresponding to the action phase, which suggests that\n",
    "    # the 3rd month of usage is critical in determining if the customer is going to churn or not\n",
    "    # a monthly review of usage is important for identifying probable churners and taking necessary action"
   ]
  },
  {
   "cell_type": "code",
   "execution_count": 311,
   "metadata": {},
   "outputs": [
    {
     "data": {
      "text/plain": [
       "0.5533969647804042"
      ]
     },
     "execution_count": 311,
     "metadata": {},
     "output_type": "execute_result"
    }
   ],
   "source": [
    "# Let us check how much have derived total columns contributed to the overall model\n",
    "# We are checking this by filtering the index on total and adding the denoted importance\n",
    "\n",
    "imp_features[imp_features.index.str.startswith(\"total\")].loc[:,0].sum()\n",
    "\n",
    "# Around 55% of the model importance is dependent on the derived columns we have created during EDA"
   ]
  },
  {
   "cell_type": "markdown",
   "metadata": {},
   "source": [
    "#### Random Forest model (without PCA) - for feature importance"
   ]
  },
  {
   "cell_type": "code",
   "execution_count": 316,
   "metadata": {},
   "outputs": [],
   "source": [
    "from sklearn.model_selection import GridSearchCV\n",
    "from sklearn.model_selection import KFold\n",
    "from sklearn.ensemble import RandomForestClassifier\n",
    "# Create the parameter grid based on the results of random search \n",
    "param_grid = {\n",
    "    'max_depth': [4,8,10],\n",
    "    'min_samples_leaf': range(100, 400, 200),\n",
    "    'min_samples_split': range(200, 500, 200),\n",
    "    'n_estimators': [100,200, 300], \n",
    "    'max_features': [5, 10]\n",
    "}\n",
    "# Create a based model\n",
    "rf = RandomForestClassifier()\n",
    "# Instantiate the grid search model\n",
    "grid_search = GridSearchCV(estimator = rf,\n",
    "                           param_grid = param_grid,\n",
    "                           cv = 3,\n",
    "                           n_jobs = -1,\n",
    "                           verbose = 1,\n",
    "                           scoring=\"recall\",\n",
    "                           return_train_score=True)"
   ]
  },
  {
   "cell_type": "code",
   "execution_count": 317,
   "metadata": {},
   "outputs": [
    {
     "name": "stdout",
     "output_type": "stream",
     "text": [
      "Fitting 3 folds for each of 72 candidates, totalling 216 fits\n"
     ]
    },
    {
     "name": "stderr",
     "output_type": "stream",
     "text": [
      "[Parallel(n_jobs=-1)]: Using backend LokyBackend with 4 concurrent workers.\n",
      "[Parallel(n_jobs=-1)]: Done  42 tasks      | elapsed:  1.6min\n",
      "[Parallel(n_jobs=-1)]: Done 192 tasks      | elapsed: 10.7min\n",
      "[Parallel(n_jobs=-1)]: Done 216 out of 216 | elapsed: 12.8min finished\n"
     ]
    },
    {
     "data": {
      "text/plain": [
       "GridSearchCV(cv=3, error_score='raise-deprecating',\n",
       "       estimator=RandomForestClassifier(bootstrap=True, class_weight=None, criterion='gini',\n",
       "            max_depth=None, max_features='auto', max_leaf_nodes=None,\n",
       "            min_impurity_decrease=0.0, min_impurity_split=None,\n",
       "            min_samples_leaf=1, min_samples_split=2,\n",
       "            min_weight_fraction_leaf=0.0, n_estimators='warn', n_jobs=None,\n",
       "            oob_score=False, random_state=None, verbose=0,\n",
       "            warm_start=False),\n",
       "       fit_params=None, iid='warn', n_jobs=-1,\n",
       "       param_grid={'max_depth': [4, 8, 10], 'min_samples_leaf': range(100, 400, 200), 'min_samples_split': range(200, 500, 200), 'n_estimators': [100, 200, 300], 'max_features': [5, 10]},\n",
       "       pre_dispatch='2*n_jobs', refit=True, return_train_score=True,\n",
       "       scoring='recall', verbose=1)"
      ]
     },
     "execution_count": 317,
     "metadata": {},
     "output_type": "execute_result"
    }
   ],
   "source": [
    "# Fit the grid search to the data\n",
    "grid_search.fit(X_train, y_train)"
   ]
  },
  {
   "cell_type": "code",
   "execution_count": 318,
   "metadata": {},
   "outputs": [
    {
     "name": "stdout",
     "output_type": "stream",
     "text": [
      "Recall of 0.48422355494829306 using {'max_depth': 8, 'max_features': 10, 'min_samples_leaf': 100, 'min_samples_split': 400, 'n_estimators': 100}\n"
     ]
    }
   ],
   "source": [
    "# printing the optimal accuracy score and hyperparameters\n",
    "print('Recall of',grid_search.best_score_,'using',grid_search.best_params_)"
   ]
  },
  {
   "cell_type": "code",
   "execution_count": 319,
   "metadata": {},
   "outputs": [
    {
     "data": {
      "text/plain": [
       "{'max_depth': 8,\n",
       " 'max_features': 10,\n",
       " 'min_samples_leaf': 100,\n",
       " 'min_samples_split': 400,\n",
       " 'n_estimators': 100}"
      ]
     },
     "execution_count": 319,
     "metadata": {},
     "output_type": "execute_result"
    }
   ],
   "source": [
    "grid_search.best_params_"
   ]
  },
  {
   "cell_type": "code",
   "execution_count": 320,
   "metadata": {},
   "outputs": [
    {
     "name": "stderr",
     "output_type": "stream",
     "text": [
      "[Parallel(n_jobs=-1)]: Using backend ThreadingBackend with 4 concurrent workers.\n",
      "[Parallel(n_jobs=-1)]: Done  42 tasks      | elapsed:    1.6s\n",
      "[Parallel(n_jobs=-1)]: Done 100 out of 100 | elapsed:    4.0s finished\n"
     ]
    },
    {
     "data": {
      "text/plain": [
       "RandomForestClassifier(bootstrap=True, class_weight=None, criterion='gini',\n",
       "            max_depth=8, max_features=10, max_leaf_nodes=None,\n",
       "            min_impurity_decrease=0.0, min_impurity_split=None,\n",
       "            min_samples_leaf=100, min_samples_split=400,\n",
       "            min_weight_fraction_leaf=0.0, n_estimators=100, n_jobs=-1,\n",
       "            oob_score=False, random_state=None, verbose=1,\n",
       "            warm_start=False)"
      ]
     },
     "execution_count": 320,
     "metadata": {},
     "output_type": "execute_result"
    }
   ],
   "source": [
    "# extracting best parameters\n",
    "best_param_grid = list(grid_search.best_params_.values())\n",
    "\n",
    "#re-running the model with best parameters\n",
    "\n",
    "# initiating random forest classifier with best parameters\n",
    "rf = RandomForestClassifier(max_depth=best_param_grid[0],\n",
    "                            max_features=best_param_grid[1],\n",
    "                            min_samples_leaf=best_param_grid[2],\n",
    "                            min_samples_split=best_param_grid[3],\n",
    "                            n_estimators=best_param_grid[4],\n",
    "                            n_jobs = -1,\n",
    "                            verbose = 1)\n",
    "\n",
    "# Fit the grid search to the data\n",
    "rf.fit(X_train, y_train)"
   ]
  },
  {
   "cell_type": "code",
   "execution_count": 321,
   "metadata": {},
   "outputs": [
    {
     "name": "stderr",
     "output_type": "stream",
     "text": [
      "[Parallel(n_jobs=4)]: Using backend ThreadingBackend with 4 concurrent workers.\n",
      "[Parallel(n_jobs=4)]: Done  42 tasks      | elapsed:    0.0s\n",
      "[Parallel(n_jobs=4)]: Done 100 out of 100 | elapsed:    0.0s finished\n"
     ]
    },
    {
     "data": {
      "text/plain": [
       "0.9342987127407335"
      ]
     },
     "execution_count": 321,
     "metadata": {},
     "output_type": "execute_result"
    }
   ],
   "source": [
    "# make predictions for train data\n",
    "# we will first use predict_proba since we need probabilities to compute auc\n",
    "y_train_pred = rf.predict_proba(X_train)[:,1]\n",
    "\n",
    "# roc_auc\n",
    "auc = metrics.roc_auc_score(y_train, y_train_pred)\n",
    "auc\n",
    "\n",
    "# The auc is quite good. let us check the cut-off using the training data"
   ]
  },
  {
   "cell_type": "code",
   "execution_count": 322,
   "metadata": {},
   "outputs": [
    {
     "data": {
      "image/png": "[encoded data removed]",
      "text/plain": [
       "<Figure size 432x288 with 1 Axes>"
      ]
     },
     "metadata": {
      "needs_background": "light"
     },
     "output_type": "display_data"
    },
    {
     "name": "stdout",
     "output_type": "stream",
     "text": [
      "[0.22177932 0.2221419 ] [0.60732394 0.60766629] [0.60766629 0.60766629]\n"
     ]
    }
   ],
   "source": [
    "p, r, thresholds = precision_recall_curve(y_train,y_train_pred)\n",
    "\n",
    "plt.plot(thresholds, p[:-1], \"g-\")\n",
    "plt.plot(thresholds, r[:-1], \"r-\")\n",
    "\n",
    "#checking where precision and recall are changing direction\n",
    "\n",
    "idx = np.argwhere(np.diff(np.sign(p - r))).flatten()\n",
    "\n",
    "#Plotting the point of intersection of precision and recall\n",
    "\n",
    "plt.plot(thresholds[idx], p[idx], 'bo')\n",
    "\n",
    "plt.show()\n",
    "\n",
    "#Printing the value of the threshold for which precision and recall are intersecting\n",
    "\n",
    "print(thresholds[idx],p[idx],r[idx])\n",
    "\n",
    "# 0.22 seems to be the ideal cut-off"
   ]
  },
  {
   "cell_type": "code",
   "execution_count": 323,
   "metadata": {},
   "outputs": [
    {
     "data": {
      "text/html": [
       "<div>\n",
       "<style scoped>\n",
       "    .dataframe tbody tr th:only-of-type {\n",
       "        vertical-align: middle;\n",
       "    }\n",
       "\n",
       "    .dataframe tbody tr th {\n",
       "        vertical-align: top;\n",
       "    }\n",
       "\n",
       "    .dataframe thead th {\n",
       "        text-align: right;\n",
       "    }\n",
       "</style>\n",
       "<table border=\"1\" class=\"dataframe\">\n",
       "  <thead>\n",
       "    <tr style=\"text-align: right;\">\n",
       "      <th>0.22_predicted</th>\n",
       "      <th>0</th>\n",
       "      <th>1</th>\n",
       "    </tr>\n",
       "    <tr>\n",
       "      <th>Churn</th>\n",
       "      <th></th>\n",
       "      <th></th>\n",
       "    </tr>\n",
       "  </thead>\n",
       "  <tbody>\n",
       "    <tr>\n",
       "      <th>0</th>\n",
       "      <td>18510</td>\n",
       "      <td>701</td>\n",
       "    </tr>\n",
       "    <tr>\n",
       "      <th>1</th>\n",
       "      <td>691</td>\n",
       "      <td>1083</td>\n",
       "    </tr>\n",
       "  </tbody>\n",
       "</table>\n",
       "</div>"
      ],
      "text/plain": [
       "0.22_predicted      0     1\n",
       "Churn                      \n",
       "0               18510   701\n",
       "1                 691  1083"
      ]
     },
     "execution_count": 323,
     "metadata": {},
     "output_type": "execute_result"
    }
   ],
   "source": [
    "best_rf_model_train_res = y_train.to_frame()\n",
    "best_rf_model_train_res['pred_churn']=y_train_pred\n",
    "best_rf_model_train_res['0.22_predicted'] = best_rf_model_train_res.pred_churn.map(lambda x: 1 if x > 0.22 else 0)\n",
    "pd.crosstab(best_rf_model_train_res['Churn'],best_rf_model_train_res['0.22_predicted'])\n",
    "\n",
    "# 0.34 as cut-off results in the following metrics\n",
    "# accuracy - 19593 / 20985 = 93.4%\n",
    "# sensitivity - 1083 / 1774 = 61%\n",
    "# specificity - 18510 / 19211 = 96%\n",
    "\n",
    "# let us now check the test result metrics with the same cut-off"
   ]
  },
  {
   "cell_type": "code",
   "execution_count": 326,
   "metadata": {},
   "outputs": [
    {
     "name": "stderr",
     "output_type": "stream",
     "text": [
      "[Parallel(n_jobs=4)]: Using backend ThreadingBackend with 4 concurrent workers.\n",
      "[Parallel(n_jobs=4)]: Done  42 tasks      | elapsed:    0.0s\n",
      "[Parallel(n_jobs=4)]: Done 100 out of 100 | elapsed:    0.0s finished\n"
     ]
    },
    {
     "data": {
      "text/plain": [
       "0.9211070998074523"
      ]
     },
     "execution_count": 326,
     "metadata": {},
     "output_type": "execute_result"
    }
   ],
   "source": [
    "# make predictions for test data\n",
    "# first, we use predict_proba since we need probabilities to compute auc\n",
    "y_test_pred = rf.predict_proba(X_test)[:,1]\n",
    "\n",
    "# roc_auc\n",
    "auc = metrics.roc_auc_score(y_test, y_test_pred)\n",
    "auc"
   ]
  },
  {
   "cell_type": "code",
   "execution_count": 328,
   "metadata": {},
   "outputs": [
    {
     "data": {
      "text/html": [
       "<div>\n",
       "<style scoped>\n",
       "    .dataframe tbody tr th:only-of-type {\n",
       "        vertical-align: middle;\n",
       "    }\n",
       "\n",
       "    .dataframe tbody tr th {\n",
       "        vertical-align: top;\n",
       "    }\n",
       "\n",
       "    .dataframe thead th {\n",
       "        text-align: right;\n",
       "    }\n",
       "</style>\n",
       "<table border=\"1\" class=\"dataframe\">\n",
       "  <thead>\n",
       "    <tr style=\"text-align: right;\">\n",
       "      <th>0.22_predicted</th>\n",
       "      <th>0</th>\n",
       "      <th>1</th>\n",
       "    </tr>\n",
       "    <tr>\n",
       "      <th>Churn</th>\n",
       "      <th></th>\n",
       "      <th></th>\n",
       "    </tr>\n",
       "  </thead>\n",
       "  <tbody>\n",
       "    <tr>\n",
       "      <th>0</th>\n",
       "      <td>7861</td>\n",
       "      <td>318</td>\n",
       "    </tr>\n",
       "    <tr>\n",
       "      <th>1</th>\n",
       "      <td>336</td>\n",
       "      <td>479</td>\n",
       "    </tr>\n",
       "  </tbody>\n",
       "</table>\n",
       "</div>"
      ],
      "text/plain": [
       "0.22_predicted     0    1\n",
       "Churn                    \n",
       "0               7861  318\n",
       "1                336  479"
      ]
     },
     "execution_count": 328,
     "metadata": {},
     "output_type": "execute_result"
    }
   ],
   "source": [
    "best_rf_model_test_res = y_test.to_frame()\n",
    "best_rf_model_test_res['pred_churn']=y_test_pred\n",
    "best_rf_model_test_res['0.22_predicted'] = best_rf_model_test_res.pred_churn.map(lambda x: 1 if x > 0.22 else 0)\n",
    "pd.crosstab(best_rf_model_test_res['Churn'],best_rf_model_test_res['0.22_predicted'])\n",
    "\n",
    "# 0.34 as cut-off results in the following metrics\n",
    "# accuracy - 8340 / 8994 = 93%\n",
    "# sensitivity - 479 / 815 = 58%\n",
    "# specificity - 7861 / 8179 = 96%\n",
    "\n",
    "# this is by far the highest value of sensitivity we have been able to achieve so far\n",
    "# Let us now look at the important features that have helped us build this model"
   ]
  },
  {
   "cell_type": "code",
   "execution_count": 329,
   "metadata": {},
   "outputs": [
    {
     "data": {
      "text/plain": [
       "array([0.00000000e+00, 0.00000000e+00, 0.00000000e+00, 0.00000000e+00,\n",
       "       7.82780639e-04, 3.01579119e-03, 4.22742585e-02, 5.51855324e-04,\n",
       "       5.26336733e-04, 1.00698369e-02, 5.10335878e-04, 3.51871078e-04,\n",
       "       2.23167911e-02, 2.59270617e-04, 3.29417229e-03, 1.03279169e-02,\n",
       "       5.28167625e-04, 2.04611209e-03, 9.41044528e-03, 2.54982386e-04,\n",
       "       1.04424875e-04, 1.79987649e-02, 6.85256771e-04, 7.63311885e-04,\n",
       "       1.90388331e-02, 1.25854220e-04, 4.22157954e-04, 2.39249174e-03,\n",
       "       1.55821419e-05, 5.56119083e-05, 1.03241709e-05, 2.45004822e-04,\n",
       "       1.24455588e-04, 4.53009879e-02, 6.53511947e-04, 7.98223608e-04,\n",
       "       3.95213058e-03, 3.37558092e-04, 4.68064954e-04, 4.33559894e-03,\n",
       "       3.07482091e-06, 9.89688753e-06, 0.00000000e+00, 0.00000000e+00,\n",
       "       0.00000000e+00, 0.00000000e+00, 3.59753492e-04, 1.41515236e-03,\n",
       "       5.84130228e-03, 3.63533109e-05, 1.06069613e-04, 4.71759266e-05,\n",
       "       1.07918491e-04, 1.75458789e-04, 9.10583210e-04, 9.60118837e-05,\n",
       "       0.00000000e+00, 0.00000000e+00, 4.50966294e-04, 2.17708465e-03,\n",
       "       4.57614272e-02, 1.31185817e-04, 1.24630584e-03, 2.94338895e-02,\n",
       "       5.03336026e-04, 6.89972011e-04, 5.75057328e-02, 2.73413916e-04,\n",
       "       4.30859077e-04, 8.59126124e-03, 7.46071177e-05, 6.83273072e-04,\n",
       "       2.81897256e-02, 1.07145748e-04, 2.16163606e-04, 1.59390879e-03,\n",
       "       1.47590689e-04, 2.78547625e-04, 9.52471484e-03, 6.16728916e-06,\n",
       "       1.07839678e-05, 5.04383562e-06, 0.00000000e+00, 0.00000000e+00,\n",
       "       0.00000000e+00, 1.11681934e-04, 2.45392673e-04, 1.31688944e-02,\n",
       "       9.10990122e-04, 6.68858771e-04, 5.80538166e-02, 7.82011674e-06,\n",
       "       1.04234459e-05, 3.76925160e-05, 2.52196674e-05, 8.57724081e-06,\n",
       "       3.66051068e-06, 5.33322523e-05, 2.65016182e-05, 6.58386500e-07,\n",
       "       2.66687982e-04, 6.52187716e-04, 1.67007312e-03, 7.66725153e-04,\n",
       "       8.06126813e-04, 1.06725554e-02, 8.71891327e-04, 4.25110242e-04,\n",
       "       2.00918473e-02, 2.59951552e-05, 9.50319823e-04, 1.07170642e-02,\n",
       "       1.70554069e-04, 7.15774172e-04, 6.33856235e-03, 3.30111213e-04,\n",
       "       8.57240378e-04, 2.73881021e-03, 0.00000000e+00, 0.00000000e+00,\n",
       "       0.00000000e+00, 4.64694550e-06, 0.00000000e+00, 0.00000000e+00,\n",
       "       5.30359684e-04, 4.35281060e-06, 0.00000000e+00, 0.00000000e+00,\n",
       "       0.00000000e+00, 0.00000000e+00, 3.65221455e-04, 1.45013252e-03,\n",
       "       2.64240942e-04, 3.67076850e-06, 4.26832354e-06, 1.29974916e-04,\n",
       "       9.83166966e-03, 6.25444041e-04, 1.30484847e-03, 5.75610085e-04,\n",
       "       2.52468181e-04, 6.37296190e-07, 2.94810246e-04, 1.06687405e-04,\n",
       "       5.03062128e-04, 3.84497513e-04, 5.01982094e-04, 6.78915526e-04,\n",
       "       4.45260806e-05, 2.67014571e-04, 6.67136219e-05, 0.00000000e+00,\n",
       "       2.60853183e-04, 9.03004020e-04, 1.58750448e-03, 5.62111191e-04,\n",
       "       2.94867921e-03, 4.09741218e-05, 5.87636658e-04, 3.43340493e-04,\n",
       "       1.28613622e-03, 3.33244333e-04, 1.81769093e-03, 7.94284590e-04,\n",
       "       8.51031669e-05, 1.65919851e-03, 2.55492683e-04, 0.00000000e+00,\n",
       "       1.81106582e-03, 1.50731167e-02, 2.83147605e-02, 3.23972610e-02,\n",
       "       3.25357928e-02, 2.75870758e-05, 6.87029629e-03, 4.64256160e-03,\n",
       "       1.61444248e-02, 3.33878535e-02, 3.42838934e-02, 7.74606233e-02,\n",
       "       3.92196336e-05, 8.94355746e-03, 2.45254828e-03, 0.00000000e+00,\n",
       "       1.62682728e-03, 1.70364108e-03, 1.60458023e-05, 8.49149237e-05,\n",
       "       1.06200297e-04, 6.04556359e-05, 9.44220276e-04, 6.94585261e-04,\n",
       "       1.88964052e-04, 1.15099625e-04, 3.43320073e-03, 8.95640014e-05,\n",
       "       1.93385488e-03, 4.30746828e-04, 5.08722081e-04, 0.00000000e+00,\n",
       "       2.08894923e-03, 6.04176333e-04, 1.70192377e-05, 5.35003289e-04,\n",
       "       3.71482349e-03, 2.14902556e-03, 3.48789545e-03, 7.53719722e-06,\n",
       "       0.00000000e+00, 3.36759591e-05, 5.25389248e-05, 9.63770598e-05,\n",
       "       1.08022128e-04, 1.37646099e-05, 3.87348580e-04, 0.00000000e+00,\n",
       "       5.87419554e-04, 8.27803383e-04, 0.00000000e+00, 0.00000000e+00,\n",
       "       5.63294840e-04, 7.75634969e-04, 1.60006455e-03, 7.99838655e-04,\n",
       "       1.32028313e-04, 6.35676924e-04, 2.17759035e-03, 1.27726051e-03,\n",
       "       5.25969733e-04, 5.46414177e-05, 4.14483909e-04, 2.42232463e-04,\n",
       "       4.38357587e-05, 2.55605453e-03, 3.94591100e-04, 4.19927009e-05,\n",
       "       1.59362492e-04, 1.85242089e-04, 6.73681286e-04, 4.85921215e-04,\n",
       "       1.60735020e-04, 0.00000000e+00, 0.00000000e+00, 0.00000000e+00,\n",
       "       4.37109464e-04, 4.51521925e-03, 3.92455982e-02, 6.62939198e-04,\n",
       "       2.92459583e-03, 4.98892416e-02, 5.15313040e-04, 9.52624009e-04,\n",
       "       3.71143548e-04])"
      ]
     },
     "execution_count": 329,
     "metadata": {},
     "output_type": "execute_result"
    }
   ],
   "source": [
    "grid_search.best_estimator_.feature_importances_"
   ]
  },
  {
   "cell_type": "code",
   "execution_count": 330,
   "metadata": {},
   "outputs": [
    {
     "data": {
      "text/html": [
       "<div>\n",
       "<style scoped>\n",
       "    .dataframe tbody tr th:only-of-type {\n",
       "        vertical-align: middle;\n",
       "    }\n",
       "\n",
       "    .dataframe tbody tr th {\n",
       "        vertical-align: top;\n",
       "    }\n",
       "\n",
       "    .dataframe thead th {\n",
       "        text-align: right;\n",
       "    }\n",
       "</style>\n",
       "<table border=\"1\" class=\"dataframe\">\n",
       "  <thead>\n",
       "    <tr style=\"text-align: right;\">\n",
       "      <th></th>\n",
       "      <th>importance</th>\n",
       "      <th>CUMSUM_imp</th>\n",
       "    </tr>\n",
       "  </thead>\n",
       "  <tbody>\n",
       "    <tr>\n",
       "      <th>total_t2m_mou_8</th>\n",
       "      <td>0.077461</td>\n",
       "      <td>0.077461</td>\n",
       "    </tr>\n",
       "    <tr>\n",
       "      <th>total_ic_mou_8</th>\n",
       "      <td>0.058054</td>\n",
       "      <td>0.135514</td>\n",
       "    </tr>\n",
       "    <tr>\n",
       "      <th>loc_ic_t2m_mou_8</th>\n",
       "      <td>0.057506</td>\n",
       "      <td>0.193020</td>\n",
       "    </tr>\n",
       "    <tr>\n",
       "      <th>t2m_share_8</th>\n",
       "      <td>0.049889</td>\n",
       "      <td>0.242909</td>\n",
       "    </tr>\n",
       "    <tr>\n",
       "      <th>total_og_mou_8</th>\n",
       "      <td>0.045761</td>\n",
       "      <td>0.288671</td>\n",
       "    </tr>\n",
       "    <tr>\n",
       "      <th>loc_og_mou_8</th>\n",
       "      <td>0.045301</td>\n",
       "      <td>0.333972</td>\n",
       "    </tr>\n",
       "    <tr>\n",
       "      <th>arpu_8</th>\n",
       "      <td>0.042274</td>\n",
       "      <td>0.376246</td>\n",
       "    </tr>\n",
       "    <tr>\n",
       "      <th>total_ic_og_mou_8</th>\n",
       "      <td>0.039246</td>\n",
       "      <td>0.415492</td>\n",
       "    </tr>\n",
       "    <tr>\n",
       "      <th>total_ic_t2m_mou_8</th>\n",
       "      <td>0.034284</td>\n",
       "      <td>0.449776</td>\n",
       "    </tr>\n",
       "    <tr>\n",
       "      <th>total_og_t2m_mou_8</th>\n",
       "      <td>0.033388</td>\n",
       "      <td>0.483163</td>\n",
       "    </tr>\n",
       "    <tr>\n",
       "      <th>total_t2t_mou_8</th>\n",
       "      <td>0.032536</td>\n",
       "      <td>0.515699</td>\n",
       "    </tr>\n",
       "    <tr>\n",
       "      <th>total_ic_t2t_mou_8</th>\n",
       "      <td>0.032397</td>\n",
       "      <td>0.548096</td>\n",
       "    </tr>\n",
       "    <tr>\n",
       "      <th>loc_ic_t2t_mou_8</th>\n",
       "      <td>0.029434</td>\n",
       "      <td>0.577530</td>\n",
       "    </tr>\n",
       "    <tr>\n",
       "      <th>total_og_t2t_mou_8</th>\n",
       "      <td>0.028315</td>\n",
       "      <td>0.605845</td>\n",
       "    </tr>\n",
       "    <tr>\n",
       "      <th>loc_ic_mou_8</th>\n",
       "      <td>0.028190</td>\n",
       "      <td>0.634035</td>\n",
       "    </tr>\n",
       "  </tbody>\n",
       "</table>\n",
       "</div>"
      ],
      "text/plain": [
       "                    importance  CUMSUM_imp\n",
       "total_t2m_mou_8       0.077461    0.077461\n",
       "total_ic_mou_8        0.058054    0.135514\n",
       "loc_ic_t2m_mou_8      0.057506    0.193020\n",
       "t2m_share_8           0.049889    0.242909\n",
       "total_og_mou_8        0.045761    0.288671\n",
       "loc_og_mou_8          0.045301    0.333972\n",
       "arpu_8                0.042274    0.376246\n",
       "total_ic_og_mou_8     0.039246    0.415492\n",
       "total_ic_t2m_mou_8    0.034284    0.449776\n",
       "total_og_t2m_mou_8    0.033388    0.483163\n",
       "total_t2t_mou_8       0.032536    0.515699\n",
       "total_ic_t2t_mou_8    0.032397    0.548096\n",
       "loc_ic_t2t_mou_8      0.029434    0.577530\n",
       "total_og_t2t_mou_8    0.028315    0.605845\n",
       "loc_ic_mou_8          0.028190    0.634035"
      ]
     },
     "execution_count": 330,
     "metadata": {},
     "output_type": "execute_result"
    }
   ],
   "source": [
    "feature_importances = pd.DataFrame(grid_search.best_estimator_.feature_importances_,\n",
    "                                   index = X_train.columns,\n",
    "                                    columns=['importance']).sort_values('importance',\n",
    "                                                                        ascending=False)\n",
    "feature_importances=feature_importances.sort_values(by='importance',ascending=False)\n",
    "feature_importances['CUMSUM_imp'] = feature_importances['importance'].cumsum()\n",
    "feature_importances.head(15)"
   ]
  },
  {
   "cell_type": "code",
   "execution_count": 331,
   "metadata": {},
   "outputs": [
    {
     "data": {
      "text/html": [
       "<div>\n",
       "<style scoped>\n",
       "    .dataframe tbody tr th:only-of-type {\n",
       "        vertical-align: middle;\n",
       "    }\n",
       "\n",
       "    .dataframe tbody tr th {\n",
       "        vertical-align: top;\n",
       "    }\n",
       "\n",
       "    .dataframe thead th {\n",
       "        text-align: right;\n",
       "    }\n",
       "</style>\n",
       "<table border=\"1\" class=\"dataframe\">\n",
       "  <thead>\n",
       "    <tr style=\"text-align: right;\">\n",
       "      <th></th>\n",
       "      <th>0</th>\n",
       "      <th>CUMSUM_0</th>\n",
       "      <th>RF_imp</th>\n",
       "      <th>RF_imp_cumsum</th>\n",
       "    </tr>\n",
       "  </thead>\n",
       "  <tbody>\n",
       "    <tr>\n",
       "      <th>total_t2m_mou_8</th>\n",
       "      <td>0.176490</td>\n",
       "      <td>0.176490</td>\n",
       "      <td>0.077461</td>\n",
       "      <td>0.077461</td>\n",
       "    </tr>\n",
       "    <tr>\n",
       "      <th>total_ic_mou_8</th>\n",
       "      <td>0.085516</td>\n",
       "      <td>0.262007</td>\n",
       "      <td>0.058054</td>\n",
       "      <td>0.135514</td>\n",
       "    </tr>\n",
       "    <tr>\n",
       "      <th>loc_ic_t2m_mou_8</th>\n",
       "      <td>0.079503</td>\n",
       "      <td>0.341510</td>\n",
       "      <td>0.057506</td>\n",
       "      <td>0.193020</td>\n",
       "    </tr>\n",
       "    <tr>\n",
       "      <th>loc_ic_mou_8</th>\n",
       "      <td>0.040429</td>\n",
       "      <td>0.381939</td>\n",
       "      <td>0.028190</td>\n",
       "      <td>0.634035</td>\n",
       "    </tr>\n",
       "    <tr>\n",
       "      <th>total_ic_t2m_mou_8</th>\n",
       "      <td>0.035359</td>\n",
       "      <td>0.417298</td>\n",
       "      <td>0.034284</td>\n",
       "      <td>0.449776</td>\n",
       "    </tr>\n",
       "  </tbody>\n",
       "</table>\n",
       "</div>"
      ],
      "text/plain": [
       "                           0  CUMSUM_0    RF_imp  RF_imp_cumsum\n",
       "total_t2m_mou_8     0.176490  0.176490  0.077461       0.077461\n",
       "total_ic_mou_8      0.085516  0.262007  0.058054       0.135514\n",
       "loc_ic_t2m_mou_8    0.079503  0.341510  0.057506       0.193020\n",
       "loc_ic_mou_8        0.040429  0.381939  0.028190       0.634035\n",
       "total_ic_t2m_mou_8  0.035359  0.417298  0.034284       0.449776"
      ]
     },
     "execution_count": 331,
     "metadata": {},
     "output_type": "execute_result"
    }
   ],
   "source": [
    "# Let us compare both values of importance  - XGB and Random Forest\n",
    "# step 1 - bringing both together into one dataframe\n",
    "feature_imp_compare_df=imp_features\n",
    "feature_imp_compare_df['RF_imp']=feature_importances['importance']\n",
    "feature_imp_compare_df['RF_imp_cumsum']=feature_importances['CUMSUM_imp']\n",
    "feature_imp_compare_df.head()"
   ]
  },
  {
   "cell_type": "code",
   "execution_count": 332,
   "metadata": {},
   "outputs": [
    {
     "data": {
      "image/png": "[encoded data removed]",
      "text/plain": [
       "<Figure size 576x576 with 1 Axes>"
      ]
     },
     "metadata": {
      "needs_background": "light"
     },
     "output_type": "display_data"
    }
   ],
   "source": [
    "# step 2 plotting the graph\n",
    "%matplotlib inline\n",
    "fig = plt.figure(figsize = (8,8))\n",
    "plt.scatter(feature_imp_compare_df[0], feature_imp_compare_df['RF_imp'])\n",
    "plt.xlabel('XGBoost importance')\n",
    "plt.ylabel('Random Forest importance')\n",
    "for i, txt in enumerate(feature_imp_compare_df.index):\n",
    "    plt.annotate(txt, (feature_imp_compare_df[0][i],feature_imp_compare_df['RF_imp'][i]))\n",
    "plt.tight_layout()\n",
    "plt.show()\n",
    "\n",
    "# some insights from this comparison are\n",
    "# for both models, the usage in action phase is critical in determining churn\n",
    "# In both models, many parameters describing usage with other operators is important in determining churn"
   ]
  },
  {
   "cell_type": "code",
   "execution_count": 333,
   "metadata": {},
   "outputs": [
    {
     "data": {
      "text/html": [
       "<div>\n",
       "<style scoped>\n",
       "    .dataframe tbody tr th:only-of-type {\n",
       "        vertical-align: middle;\n",
       "    }\n",
       "\n",
       "    .dataframe tbody tr th {\n",
       "        vertical-align: top;\n",
       "    }\n",
       "\n",
       "    .dataframe thead th {\n",
       "        text-align: right;\n",
       "    }\n",
       "</style>\n",
       "<table border=\"1\" class=\"dataframe\">\n",
       "  <thead>\n",
       "    <tr style=\"text-align: right;\">\n",
       "      <th></th>\n",
       "      <th>0</th>\n",
       "      <th>CUMSUM_0</th>\n",
       "      <th>RF_imp</th>\n",
       "      <th>RF_imp_cumsum</th>\n",
       "      <th>mean_imp</th>\n",
       "    </tr>\n",
       "  </thead>\n",
       "  <tbody>\n",
       "    <tr>\n",
       "      <th>total_t2m_mou_8</th>\n",
       "      <td>0.176490</td>\n",
       "      <td>0.176490</td>\n",
       "      <td>0.077461</td>\n",
       "      <td>0.077461</td>\n",
       "      <td>0.126975</td>\n",
       "    </tr>\n",
       "    <tr>\n",
       "      <th>total_ic_mou_8</th>\n",
       "      <td>0.085516</td>\n",
       "      <td>0.262007</td>\n",
       "      <td>0.058054</td>\n",
       "      <td>0.135514</td>\n",
       "      <td>0.071785</td>\n",
       "    </tr>\n",
       "    <tr>\n",
       "      <th>loc_ic_t2m_mou_8</th>\n",
       "      <td>0.079503</td>\n",
       "      <td>0.341510</td>\n",
       "      <td>0.057506</td>\n",
       "      <td>0.193020</td>\n",
       "      <td>0.068504</td>\n",
       "    </tr>\n",
       "    <tr>\n",
       "      <th>total_ic_t2m_mou_8</th>\n",
       "      <td>0.035359</td>\n",
       "      <td>0.417298</td>\n",
       "      <td>0.034284</td>\n",
       "      <td>0.449776</td>\n",
       "      <td>0.034822</td>\n",
       "    </tr>\n",
       "    <tr>\n",
       "      <th>loc_ic_mou_8</th>\n",
       "      <td>0.040429</td>\n",
       "      <td>0.381939</td>\n",
       "      <td>0.028190</td>\n",
       "      <td>0.634035</td>\n",
       "      <td>0.034309</td>\n",
       "    </tr>\n",
       "    <tr>\n",
       "      <th>loc_og_mou_8</th>\n",
       "      <td>0.021857</td>\n",
       "      <td>0.439155</td>\n",
       "      <td>0.045301</td>\n",
       "      <td>0.333972</td>\n",
       "      <td>0.033579</td>\n",
       "    </tr>\n",
       "    <tr>\n",
       "      <th>t2m_share_8</th>\n",
       "      <td>0.004162</td>\n",
       "      <td>0.793473</td>\n",
       "      <td>0.049889</td>\n",
       "      <td>0.242909</td>\n",
       "      <td>0.027025</td>\n",
       "    </tr>\n",
       "    <tr>\n",
       "      <th>total_og_mou_8</th>\n",
       "      <td>0.004794</td>\n",
       "      <td>0.748476</td>\n",
       "      <td>0.045761</td>\n",
       "      <td>0.288671</td>\n",
       "      <td>0.025278</td>\n",
       "    </tr>\n",
       "    <tr>\n",
       "      <th>arpu_8</th>\n",
       "      <td>0.007152</td>\n",
       "      <td>0.690648</td>\n",
       "      <td>0.042274</td>\n",
       "      <td>0.376246</td>\n",
       "      <td>0.024713</td>\n",
       "    </tr>\n",
       "    <tr>\n",
       "      <th>total_ic_og_mou_8</th>\n",
       "      <td>0.007937</td>\n",
       "      <td>0.660471</td>\n",
       "      <td>0.039246</td>\n",
       "      <td>0.415492</td>\n",
       "      <td>0.023591</td>\n",
       "    </tr>\n",
       "    <tr>\n",
       "      <th>total_ic_t2t_mou_8</th>\n",
       "      <td>0.003988</td>\n",
       "      <td>0.813736</td>\n",
       "      <td>0.032397</td>\n",
       "      <td>0.548096</td>\n",
       "      <td>0.018193</td>\n",
       "    </tr>\n",
       "    <tr>\n",
       "      <th>total_og_t2m_mou_8</th>\n",
       "      <td>0.002211</td>\n",
       "      <td>0.958391</td>\n",
       "      <td>0.033388</td>\n",
       "      <td>0.483163</td>\n",
       "      <td>0.017799</td>\n",
       "    </tr>\n",
       "    <tr>\n",
       "      <th>total_t2t_mou_8</th>\n",
       "      <td>0.002076</td>\n",
       "      <td>0.971301</td>\n",
       "      <td>0.032536</td>\n",
       "      <td>0.515699</td>\n",
       "      <td>0.017306</td>\n",
       "    </tr>\n",
       "    <tr>\n",
       "      <th>loc_ic_t2t_mou_8</th>\n",
       "      <td>0.002800</td>\n",
       "      <td>0.901699</td>\n",
       "      <td>0.029434</td>\n",
       "      <td>0.577530</td>\n",
       "      <td>0.016117</td>\n",
       "    </tr>\n",
       "    <tr>\n",
       "      <th>total_t2f_mou_8</th>\n",
       "      <td>0.013608</td>\n",
       "      <td>0.527163</td>\n",
       "      <td>0.016144</td>\n",
       "      <td>0.729626</td>\n",
       "      <td>0.014876</td>\n",
       "    </tr>\n",
       "  </tbody>\n",
       "</table>\n",
       "</div>"
      ],
      "text/plain": [
       "                           0  CUMSUM_0    RF_imp  RF_imp_cumsum  mean_imp\n",
       "total_t2m_mou_8     0.176490  0.176490  0.077461       0.077461  0.126975\n",
       "total_ic_mou_8      0.085516  0.262007  0.058054       0.135514  0.071785\n",
       "loc_ic_t2m_mou_8    0.079503  0.341510  0.057506       0.193020  0.068504\n",
       "total_ic_t2m_mou_8  0.035359  0.417298  0.034284       0.449776  0.034822\n",
       "loc_ic_mou_8        0.040429  0.381939  0.028190       0.634035  0.034309\n",
       "loc_og_mou_8        0.021857  0.439155  0.045301       0.333972  0.033579\n",
       "t2m_share_8         0.004162  0.793473  0.049889       0.242909  0.027025\n",
       "total_og_mou_8      0.004794  0.748476  0.045761       0.288671  0.025278\n",
       "arpu_8              0.007152  0.690648  0.042274       0.376246  0.024713\n",
       "total_ic_og_mou_8   0.007937  0.660471  0.039246       0.415492  0.023591\n",
       "total_ic_t2t_mou_8  0.003988  0.813736  0.032397       0.548096  0.018193\n",
       "total_og_t2m_mou_8  0.002211  0.958391  0.033388       0.483163  0.017799\n",
       "total_t2t_mou_8     0.002076  0.971301  0.032536       0.515699  0.017306\n",
       "loc_ic_t2t_mou_8    0.002800  0.901699  0.029434       0.577530  0.016117\n",
       "total_t2f_mou_8     0.013608  0.527163  0.016144       0.729626  0.014876"
      ]
     },
     "execution_count": 333,
     "metadata": {},
     "output_type": "execute_result"
    }
   ],
   "source": [
    "# Let us compute the average feature importance dictated by both XGBoost and Random forest models\n",
    "# our objective is to arrive at the mean importance\n",
    "feature_imp_compare_df['mean_imp']=(feature_imp_compare_df[0]+feature_imp_compare_df['RF_imp'])/2\n",
    "feature_imp_compare_df.sort_values(by='mean_imp',ascending=False).head(15)"
   ]
  },
  {
   "cell_type": "markdown",
   "metadata": {},
   "source": [
    "#### Of the 15 features, 10 are totals derived from existing features\n",
    "#### Of the remaining 5, 3 are local incoming usages, 1 is local outgoing usage and 1 is arpu\n",
    "#### across the features, incoming is more important than outgoing  - 8 incoming usage features and 4 outgoing\n",
    "#### t2m usage is also important, with 5 features desrcibing different t2m usages"
   ]
  }
 ],
 "metadata": {
  "kernelspec": {
   "display_name": "Python 3",
   "language": "python",
   "name": "python3"
  },
  "language_info": {
   "codemirror_mode": {
    "name": "ipython",
    "version": 3
   },
   "file_extension": ".py",
   "mimetype": "text/x-python",
   "name": "python",
   "nbconvert_exporter": "python",
   "pygments_lexer": "ipython3",
   "version": "3.7.1"
  }
 },
 "nbformat": 4,
 "nbformat_minor": 2
}
